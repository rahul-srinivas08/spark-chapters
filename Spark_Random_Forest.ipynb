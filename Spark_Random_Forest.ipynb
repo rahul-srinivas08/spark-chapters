{
  "nbformat": 4,
  "nbformat_minor": 0,
  "metadata": {
    "colab": {
      "name": "Spark Random Forest.ipynb",
      "provenance": []
    },
    "kernelspec": {
      "name": "python3",
      "display_name": "Python 3"
    }
  },
  "cells": [
    {
      "cell_type": "code",
      "metadata": {
        "id": "4dSPVYiXDMup",
        "colab_type": "code",
        "colab": {
          "base_uri": "https://localhost:8080/",
          "height": 255
        },
        "outputId": "57deaacf-9f4b-40ed-9e28-6a62343fbbe0"
      },
      "source": [
        "!pip install pyspark"
      ],
      "execution_count": 2,
      "outputs": [
        {
          "output_type": "stream",
          "text": [
            "Collecting pyspark\n",
            "\u001b[?25l  Downloading https://files.pythonhosted.org/packages/8e/b0/bf9020b56492281b9c9d8aae8f44ff51e1bc91b3ef5a884385cb4e389a40/pyspark-3.0.0.tar.gz (204.7MB)\n",
            "\u001b[K     |████████████████████████████████| 204.7MB 66kB/s \n",
            "\u001b[?25hCollecting py4j==0.10.9\n",
            "\u001b[?25l  Downloading https://files.pythonhosted.org/packages/9e/b6/6a4fb90cd235dc8e265a6a2067f2a2c99f0d91787f06aca4bcf7c23f3f80/py4j-0.10.9-py2.py3-none-any.whl (198kB)\n",
            "\u001b[K     |████████████████████████████████| 204kB 19.9MB/s \n",
            "\u001b[?25hBuilding wheels for collected packages: pyspark\n",
            "  Building wheel for pyspark (setup.py) ... \u001b[?25l\u001b[?25hdone\n",
            "  Created wheel for pyspark: filename=pyspark-3.0.0-py2.py3-none-any.whl size=205044182 sha256=2dc319bad8ba62c99f61e7488d00a41a8c4ceae159067e2c865b4429035559a0\n",
            "  Stored in directory: /root/.cache/pip/wheels/57/27/4d/ddacf7143f8d5b76c45c61ee2e43d9f8492fc5a8e78ebd7d37\n",
            "Successfully built pyspark\n",
            "Installing collected packages: py4j, pyspark\n",
            "Successfully installed py4j-0.10.9 pyspark-3.0.0\n"
          ],
          "name": "stdout"
        }
      ]
    },
    {
      "cell_type": "code",
      "metadata": {
        "id": "Mo35Y6V5GI5p",
        "colab_type": "code",
        "colab": {}
      },
      "source": [
        ""
      ],
      "execution_count": null,
      "outputs": []
    },
    {
      "cell_type": "code",
      "metadata": {
        "id": "9AG7HgIPS3w1",
        "colab_type": "code",
        "colab": {}
      },
      "source": [
        ""
      ],
      "execution_count": null,
      "outputs": []
    },
    {
      "cell_type": "code",
      "metadata": {
        "id": "-RoFH6QNGcRs",
        "colab_type": "code",
        "colab": {}
      },
      "source": [
        "#Initialize SparkSession and SparkContext\n",
        "from pyspark.sql import SparkSession\n",
        "from pyspark import SparkContext"
      ],
      "execution_count": 3,
      "outputs": []
    },
    {
      "cell_type": "code",
      "metadata": {
        "id": "2B2rfu7sG9eh",
        "colab_type": "code",
        "colab": {}
      },
      "source": [
        "#Create a Spark Session\n",
        "SpSession = SparkSession.builder.master(\"local[*]\").getOrCreate()"
      ],
      "execution_count": 4,
      "outputs": []
    },
    {
      "cell_type": "code",
      "metadata": {
        "id": "f1_30ZR3Ha47",
        "colab_type": "code",
        "colab": {}
      },
      "source": [
        "#Get the Spark Context from Spark Session    \n",
        "SpContext = SpSession.sparkContext"
      ],
      "execution_count": 5,
      "outputs": []
    },
    {
      "cell_type": "code",
      "metadata": {
        "id": "aXQbLnmjKheU",
        "colab_type": "code",
        "colab": {
          "base_uri": "https://localhost:8080/",
          "height": 34
        },
        "outputId": "80405943-60c5-4eb0-f667-1e448e70c5b1"
      },
      "source": [
        "#Load Data\n",
        "#Load the CSV file into a RDD\n",
        "bankData = SpContext.textFile(\"/content/drive/My Drive/bank.csv\")\n",
        "bankData.cache()\n",
        "bankData.count()\n",
        "\n",
        "#Remove the first line (contains headers)\n",
        "firstLine=bankData.first()\n",
        "dataLines = bankData.filter(lambda x: x != firstLine)\n",
        "dataLines.count()"
      ],
      "execution_count": 6,
      "outputs": [
        {
          "output_type": "execute_result",
          "data": {
            "text/plain": [
              "541"
            ]
          },
          "metadata": {
            "tags": []
          },
          "execution_count": 6
        }
      ]
    },
    {
      "cell_type": "code",
      "metadata": {
        "id": "talF5FAWQ5jl",
        "colab_type": "code",
        "colab": {}
      },
      "source": [
        "#Cleanup Data\n",
        "import math\n",
        "from pyspark.sql import Row\n",
        "from pyspark.ml.linalg import Vectors\n",
        "\n",
        "def transformToNumeric( inputStr) :\n",
        "    \n",
        "    attList=inputStr.replace(\"\\\"\",\"\").split(\";\")\n",
        "    \n",
        "    age=float(attList[0])\n",
        "    #convert outcome to float    \n",
        "    outcome = 0.0 if attList[16] == \"no\" else 1.0\n",
        "    \n",
        "    #create indicator variables for single/married    \n",
        "    single= 1.0 if attList[2] == \"single\" else 0.0\n",
        "    married = 1.0 if attList[2] == \"married\" else 0.0\n",
        "    divorced = 1.0 if attList[2] == \"divorced\" else 0.0\n",
        "    \n",
        "    #create indicator variables for education\n",
        "    primary = 1.0 if attList[3] == \"primary\" else 0.0\n",
        "    secondary = 1.0 if attList[3] == \"secondary\" else 0.0\n",
        "    tertiary = 1.0 if attList[3] == \"tertiary\" else 0.0\n",
        "    \n",
        "    #convert default to float\n",
        "    default= 0.0 if attList[4] == \"no\" else 1.0\n",
        "    #convert balance amount to float\n",
        "    balance=float(attList[5])\n",
        "    #convert loan to float\n",
        "    loan= 0.0 if attList[7] == \"no\" else 1.0\n",
        "    \n",
        "    #Create a row with cleaned up and converted data\n",
        "    values= Row(     OUTCOME=outcome ,\\\n",
        "                    AGE=age, \\\n",
        "                    SINGLE=single, \\\n",
        "                    MARRIED=married, \\\n",
        "                    DIVORCED=divorced, \\\n",
        "                    PRIMARY=primary, \\\n",
        "                    SECONDARY=secondary, \\\n",
        "                    TERTIARY=tertiary, \\\n",
        "                    DEFAULT=default, \\\n",
        "                    BALANCE=balance, \\\n",
        "                    LOAN=loan                    \n",
        "                    ) \n",
        "    return values\n",
        "    \n",
        "#Change to a Vector\n",
        "bankRows = dataLines.map(transformToNumeric)\n",
        "bankRows.collect()[:15]\n",
        "\n",
        "bankData = SpSession.createDataFrame(bankRows)"
      ],
      "execution_count": 7,
      "outputs": []
    },
    {
      "cell_type": "code",
      "metadata": {
        "id": "1XmxdLGCQ5mW",
        "colab_type": "code",
        "colab": {
          "base_uri": "https://localhost:8080/",
          "height": 205
        },
        "outputId": "2c1341a8-cb6f-4617-d8d2-06814294ea0a"
      },
      "source": [
        "#Perform Data Analytics\n",
        "\n",
        "#See descriptive analytics.\n",
        "bankData.describe().show()"
      ],
      "execution_count": 8,
      "outputs": [
        {
          "output_type": "stream",
          "text": [
            "+-------+-------------------+------------------+------------------+------------------+-------------------+------------------+------------------+------------------+--------------------+------------------+-------------------+\n",
            "|summary|            OUTCOME|               AGE|            SINGLE|           MARRIED|           DIVORCED|           PRIMARY|         SECONDARY|          TERTIARY|             DEFAULT|           BALANCE|               LOAN|\n",
            "+-------+-------------------+------------------+------------------+------------------+-------------------+------------------+------------------+------------------+--------------------+------------------+-------------------+\n",
            "|  count|                541|               541|               541|               541|                541|               541|               541|               541|                 541|               541|                541|\n",
            "|   mean| 0.3974121996303142| 41.26987060998152|0.2754158964879852|0.6155268022181146|0.10905730129390019|0.1534195933456562|0.4953789279112754|0.3142329020332717|0.022181146025878003|1444.7818853974122|0.16266173752310537|\n",
            "| stddev|0.48981549262335145|10.555374170161665|0.4471370479760759|0.4869207382098541| 0.3119995822161848| 0.360725025449802|0.5004413742994283|0.4646392600205975|  0.1474086424402979|2423.2722735171924|0.36939832735881994|\n",
            "|    min|                0.0|              19.0|               0.0|               0.0|                0.0|               0.0|               0.0|               0.0|                 0.0|           -1206.0|                0.0|\n",
            "|    max|                1.0|              78.0|               1.0|               1.0|                1.0|               1.0|               1.0|               1.0|                 1.0|           16873.0|                1.0|\n",
            "+-------+-------------------+------------------+------------------+------------------+-------------------+------------------+------------------+------------------+--------------------+------------------+-------------------+\n",
            "\n"
          ],
          "name": "stdout"
        }
      ]
    },
    {
      "cell_type": "code",
      "metadata": {
        "id": "92w8E5hoQ5pr",
        "colab_type": "code",
        "colab": {
          "base_uri": "https://localhost:8080/",
          "height": 286
        },
        "outputId": "8d825a62-9e79-4087-f7ba-0d6e3e52da20"
      },
      "source": [
        "#Prepare data for ML\n",
        "#Transform to a Data Frame for input to Machine Learing\n",
        "\n",
        "def transformToLabeledPoint(row) :\n",
        "    lp = ( row[\"OUTCOME\"], \\\n",
        "            Vectors.dense([\n",
        "                row[\"AGE\"], \\\n",
        "                row[\"BALANCE\"], \\\n",
        "                row[\"DEFAULT\"], \\\n",
        "                row[\"DIVORCED\"], \\\n",
        "                row[\"LOAN\"], \\\n",
        "                row[\"MARRIED\"], \\\n",
        "                row[\"PRIMARY\"], \\\n",
        "                row[\"SECONDARY\"], \\\n",
        "                row[\"SINGLE\"], \\\n",
        "                row[\"TERTIARY\"]\n",
        "        ]))\n",
        "    return lp\n",
        "    \n",
        "bankLp = bankData.rdd.map(transformToLabeledPoint)\n",
        "bankLp.collect()\n",
        "bankDF = SpSession.createDataFrame(bankLp,[\"label\", \"features\"])\n",
        "bankDF.select(\"label\",\"features\").show(10)"
      ],
      "execution_count": 9,
      "outputs": [
        {
          "output_type": "stream",
          "text": [
            "+-----+--------------------+\n",
            "|label|            features|\n",
            "+-----+--------------------+\n",
            "|  0.0|[30.0,1787.0,0.0,...|\n",
            "|  1.0|[33.0,4789.0,0.0,...|\n",
            "|  1.0|[35.0,1350.0,0.0,...|\n",
            "|  1.0|[30.0,1476.0,0.0,...|\n",
            "|  0.0|[59.0,0.0,0.0,0.0...|\n",
            "|  1.0|[35.0,747.0,0.0,0...|\n",
            "|  1.0|[36.0,307.0,0.0,0...|\n",
            "|  0.0|[39.0,147.0,0.0,0...|\n",
            "|  0.0|[41.0,221.0,0.0,0...|\n",
            "|  1.0|[43.0,-88.0,0.0,0...|\n",
            "+-----+--------------------+\n",
            "only showing top 10 rows\n",
            "\n"
          ],
          "name": "stdout"
        }
      ]
    },
    {
      "cell_type": "code",
      "metadata": {
        "id": "g-S_cHCES5N_",
        "colab_type": "code",
        "colab": {
          "base_uri": "https://localhost:8080/",
          "height": 1000
        },
        "outputId": "59208e03-7b49-4444-da2d-f3d10b7d709a"
      },
      "source": [
        "#Perform Machine Learning\n",
        "\n",
        "#Perform PCA\n",
        "from pyspark.ml.feature import PCA\n",
        "bankPCA = PCA(k=3, inputCol=\"features\", outputCol=\"pcaFeatures\")\n",
        "pcaModel = bankPCA.fit(bankDF)\n",
        "pcaResult = pcaModel.transform(bankDF).select(\"label\",\"pcaFeatures\")\n",
        "pcaResult.show(truncate=False)\n",
        "\n",
        "#Indexing needed as pre-req for Decision Trees\n",
        "from pyspark.ml.feature import StringIndexer\n",
        "stringIndexer = StringIndexer(inputCol=\"label\", outputCol=\"indexed\")\n",
        "si_model = stringIndexer.fit(pcaResult)\n",
        "td = si_model.transform(pcaResult)\n",
        "td.collect()\n",
        "\n",
        "#Split into training and testing data\n",
        "(trainingData, testData) = td.randomSplit([0.7, 0.3])\n",
        "trainingData.count()\n",
        "testData.count()\n",
        "testData.collect()\n",
        "\n",
        "from pyspark.ml.classification import RandomForestClassifier\n",
        "from pyspark.ml.evaluation import MulticlassClassificationEvaluator\n",
        "\n",
        "\n",
        "#Create the model\n",
        "rmClassifer = RandomForestClassifier(labelCol=\"indexed\", \\\n",
        "                featuresCol=\"pcaFeatures\")\n",
        "rmModel = rmClassifer.fit(trainingData)\n",
        "\n",
        "#Predict on the test data\n",
        "predictions = rmModel.transform(testData)\n",
        "predictions.select(\"prediction\",\"indexed\",\"label\",\"pcaFeatures\").show()\n",
        "evaluator = MulticlassClassificationEvaluator(predictionCol=\"prediction\", \\\n",
        "                    labelCol=\"indexed\",metricName=\"accuracy\")\n",
        "evaluator.evaluate(predictions)      \n",
        "\n",
        "#Draw a confusion matrix\n",
        "predictions.groupBy(\"indexed\",\"prediction\").count().show()"
      ],
      "execution_count": 10,
      "outputs": [
        {
          "output_type": "stream",
          "text": [
            "+-----+------------------------------------------------------------+\n",
            "|label|pcaFeatures                                                 |\n",
            "+-----+------------------------------------------------------------+\n",
            "|0.0  |[-1787.018897197381,28.86209683775529,-0.06459982604876241] |\n",
            "|1.0  |[-4789.020177138492,29.922562636341947,-0.9830243513096373] |\n",
            "|1.0  |[-1350.022213163262,34.10110809796688,0.8951427168301704]   |\n",
            "|1.0  |[-1476.0189517184556,29.051333993596703,0.3952723868021948] |\n",
            "|0.0  |[-0.037889185366442445,58.9897182000177,-0.7290792383661886]|\n",
            "|1.0  |[-747.0223377634923,34.48829198181773,0.9045654956970108]   |\n",
            "|1.0  |[-307.0230691022592,35.799850539655225,0.5170631523785976]  |\n",
            "|0.0  |[-147.02501216176339,38.90107856650329,-0.8069627548799397] |\n",
            "|0.0  |[-221.0262985348787,40.853633675694944,0.5373036365803221]  |\n",
            "|1.0  |[87.9723868768871,43.062659441151055,-0.0670164287117152]   |\n",
            "|0.0  |[-9374.023105550941,32.97645883799288,-0.9511484606914431]  |\n",
            "|0.0  |[-264.02755731528384,42.82480363981353,-0.7936737710234671] |\n",
            "|0.0  |[-1109.0229033818864,35.28488955317366,0.5045307002207103]  |\n",
            "|1.0  |[-502.012736403296,19.649271797807618,-0.4861599382020708]  |\n",
            "|1.0  |[-360.0198076551079,30.766980637614083,-0.921373229576968]  |\n",
            "|0.0  |[-194.02563994730255,39.8716268180384,0.4530987690401262]   |\n",
            "|0.0  |[-4073.0351205683055,53.37532349166451,-0.8040639317646894] |\n",
            "|1.0  |[-2317.0232980131414,35.47962642487325,0.8875905344623461]  |\n",
            "|0.0  |[220.9838976313296,25.12353896656829,0.3460389024655913]    |\n",
            "|1.0  |[-132.0198766019026,30.91300939738972,-0.8369629258629313]  |\n",
            "+-----+------------------------------------------------------------+\n",
            "only showing top 20 rows\n",
            "\n",
            "+----------+-------+-----+--------------------+\n",
            "|prediction|indexed|label|         pcaFeatures|\n",
            "+----------+-------+-----+--------------------+\n",
            "|       0.0|    0.0|  0.0|[-9009.0251249687...|\n",
            "|       0.0|    0.0|  0.0|[-7082.0351460463...|\n",
            "|       0.0|    0.0|  0.0|[-6313.0372339667...|\n",
            "|       0.0|    0.0|  0.0|[-3222.0340313321...|\n",
            "|       1.0|    0.0|  0.0|[-3096.0186237192...|\n",
            "|       0.0|    0.0|  0.0|[-3064.0301904025...|\n",
            "|       0.0|    0.0|  0.0|[-2349.0200778261...|\n",
            "|       0.0|    0.0|  0.0|[-1981.0227061979...|\n",
            "|       0.0|    0.0|  0.0|[-1972.0214403920...|\n",
            "|       0.0|    0.0|  0.0|[-1906.0355514166...|\n",
            "|       0.0|    0.0|  0.0|[-1808.0188879510...|\n",
            "|       0.0|    0.0|  0.0|[-1691.0343330123...|\n",
            "|       0.0|    0.0|  0.0|[-1526.0305082054...|\n",
            "|       0.0|    0.0|  0.0|[-1517.0369503885...|\n",
            "|       0.0|    0.0|  0.0|[-1355.0305435398...|\n",
            "|       0.0|    0.0|  0.0|[-1117.0331620483...|\n",
            "|       0.0|    0.0|  0.0|[-1007.0357566918...|\n",
            "|       0.0|    0.0|  0.0|[-784.03449627207...|\n",
            "|       0.0|    0.0|  0.0|[-484.02688652258...|\n",
            "|       0.0|    0.0|  0.0|[-483.02110573743...|\n",
            "+----------+-------+-----+--------------------+\n",
            "only showing top 20 rows\n",
            "\n",
            "+-------+----------+-----+\n",
            "|indexed|prediction|count|\n",
            "+-------+----------+-----+\n",
            "|    1.0|       1.0|   20|\n",
            "|    0.0|       1.0|    8|\n",
            "|    1.0|       0.0|   36|\n",
            "|    0.0|       0.0|   84|\n",
            "+-------+----------+-----+\n",
            "\n"
          ],
          "name": "stdout"
        }
      ]
    },
    {
      "cell_type": "code",
      "metadata": {
        "id": "OEvP-30OVT4w",
        "colab_type": "code",
        "colab": {}
      },
      "source": [
        ""
      ],
      "execution_count": null,
      "outputs": []
    }
  ]
}