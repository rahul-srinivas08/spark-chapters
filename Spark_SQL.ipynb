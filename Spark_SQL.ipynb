{
  "nbformat": 4,
  "nbformat_minor": 0,
  "metadata": {
    "colab": {
      "name": "Spark SQL.ipynb",
      "provenance": []
    },
    "kernelspec": {
      "name": "python3",
      "display_name": "Python 3"
    }
  },
  "cells": [
    {
      "cell_type": "code",
      "metadata": {
        "id": "4dSPVYiXDMup",
        "colab_type": "code",
        "colab": {
          "base_uri": "https://localhost:8080/",
          "height": 255
        },
        "outputId": "21b55714-6788-4a38-e4fa-2c68c1a8eb5e"
      },
      "source": [
        "!pip install pyspark"
      ],
      "execution_count": null,
      "outputs": [
        {
          "output_type": "stream",
          "text": [
            "Collecting pyspark\n",
            "\u001b[?25l  Downloading https://files.pythonhosted.org/packages/8e/b0/bf9020b56492281b9c9d8aae8f44ff51e1bc91b3ef5a884385cb4e389a40/pyspark-3.0.0.tar.gz (204.7MB)\n",
            "\u001b[K     |████████████████████████████████| 204.7MB 66kB/s \n",
            "\u001b[?25hCollecting py4j==0.10.9\n",
            "\u001b[?25l  Downloading https://files.pythonhosted.org/packages/9e/b6/6a4fb90cd235dc8e265a6a2067f2a2c99f0d91787f06aca4bcf7c23f3f80/py4j-0.10.9-py2.py3-none-any.whl (198kB)\n",
            "\u001b[K     |████████████████████████████████| 204kB 35.9MB/s \n",
            "\u001b[?25hBuilding wheels for collected packages: pyspark\n",
            "  Building wheel for pyspark (setup.py) ... \u001b[?25l\u001b[?25hdone\n",
            "  Created wheel for pyspark: filename=pyspark-3.0.0-py2.py3-none-any.whl size=205044182 sha256=52dbb686352c20eb040c720a7075c2d280cc4fc3d346ad5de935c6f520cb30cb\n",
            "  Stored in directory: /root/.cache/pip/wheels/57/27/4d/ddacf7143f8d5b76c45c61ee2e43d9f8492fc5a8e78ebd7d37\n",
            "Successfully built pyspark\n",
            "Installing collected packages: py4j, pyspark\n",
            "Successfully installed py4j-0.10.9 pyspark-3.0.0\n"
          ],
          "name": "stdout"
        }
      ]
    },
    {
      "cell_type": "code",
      "metadata": {
        "id": "Mo35Y6V5GI5p",
        "colab_type": "code",
        "colab": {}
      },
      "source": [
        ""
      ],
      "execution_count": null,
      "outputs": []
    },
    {
      "cell_type": "code",
      "metadata": {
        "id": "-RoFH6QNGcRs",
        "colab_type": "code",
        "colab": {}
      },
      "source": [
        "#Initialize SparkSession and SparkContext\n",
        "from pyspark.sql import SparkSession\n",
        "from pyspark import SparkContext"
      ],
      "execution_count": null,
      "outputs": []
    },
    {
      "cell_type": "code",
      "metadata": {
        "id": "2B2rfu7sG9eh",
        "colab_type": "code",
        "colab": {}
      },
      "source": [
        "#Create a Spark Session\n",
        "SpSession = SparkSession.builder.master(\"local[*]\").getOrCreate()"
      ],
      "execution_count": null,
      "outputs": []
    },
    {
      "cell_type": "code",
      "metadata": {
        "id": "f1_30ZR3Ha47",
        "colab_type": "code",
        "colab": {}
      },
      "source": [
        "#Get the Spark Context from Spark Session    \n",
        "SpContext = SpSession.sparkContext"
      ],
      "execution_count": null,
      "outputs": []
    },
    {
      "cell_type": "markdown",
      "metadata": {
        "id": "xqG36E0ogN6t",
        "colab_type": "text"
      },
      "source": [
        "#............................................................................\n",
        "##   Working with Data Frames"
      ]
    },
    {
      "cell_type": "code",
      "metadata": {
        "id": "wHUjBm_CflnY",
        "colab_type": "code",
        "colab": {
          "base_uri": "https://localhost:8080/",
          "height": 302
        },
        "outputId": "6488ef20-1046-462b-c21d-37cc930b885f"
      },
      "source": [
        "#Create a data frame from a JSON file\n",
        "empDf = SpSession.read.json(\"/content/drive/My Drive/customerData.json\")\n",
        "empDf.show()\n",
        "empDf.printSchema()"
      ],
      "execution_count": 42,
      "outputs": [
        {
          "output_type": "stream",
          "text": [
            "+---+------+------+-----------------+------+\n",
            "|age|deptid|gender|             name|salary|\n",
            "+---+------+------+-----------------+------+\n",
            "| 32|   100|  male|Benjamin Garrison|  3000|\n",
            "| 40|   200|  male|    Holland Drake|  4500|\n",
            "| 26|   100|  male|  Burks Velasquez|  2700|\n",
            "| 51|   100|female|    June Rutledge|  4300|\n",
            "| 44|   200|  male|    Nielsen Knapp|  6500|\n",
            "+---+------+------+-----------------+------+\n",
            "\n",
            "root\n",
            " |-- age: string (nullable = true)\n",
            " |-- deptid: string (nullable = true)\n",
            " |-- gender: string (nullable = true)\n",
            " |-- name: string (nullable = true)\n",
            " |-- salary: string (nullable = true)\n",
            "\n"
          ],
          "name": "stdout"
        }
      ]
    },
    {
      "cell_type": "code",
      "metadata": {
        "id": "GBOabKVXfw7v",
        "colab_type": "code",
        "colab": {
          "base_uri": "https://localhost:8080/",
          "height": 185
        },
        "outputId": "1741d6e5-0ec3-42fe-be0e-5d159f831826"
      },
      "source": [
        "#Do Data Frame queries\n",
        "empDf.select(\"name\").show()"
      ],
      "execution_count": 43,
      "outputs": [
        {
          "output_type": "stream",
          "text": [
            "+-----------------+\n",
            "|             name|\n",
            "+-----------------+\n",
            "|Benjamin Garrison|\n",
            "|    Holland Drake|\n",
            "|  Burks Velasquez|\n",
            "|    June Rutledge|\n",
            "|    Nielsen Knapp|\n",
            "+-----------------+\n",
            "\n"
          ],
          "name": "stdout"
        }
      ]
    },
    {
      "cell_type": "code",
      "metadata": {
        "id": "KhBLyEo1gXLa",
        "colab_type": "code",
        "colab": {
          "base_uri": "https://localhost:8080/",
          "height": 235
        },
        "outputId": "c17838bf-ea28-4ca7-fc3b-c9fad207ff21"
      },
      "source": [
        "empDf.filter(empDf[\"age\"] == 40).show()\n",
        "empDf.groupBy(\"gender\").count().show()"
      ],
      "execution_count": 44,
      "outputs": [
        {
          "output_type": "stream",
          "text": [
            "+---+------+------+-------------+------+\n",
            "|age|deptid|gender|         name|salary|\n",
            "+---+------+------+-------------+------+\n",
            "| 40|   200|  male|Holland Drake|  4500|\n",
            "+---+------+------+-------------+------+\n",
            "\n",
            "+------+-----+\n",
            "|gender|count|\n",
            "+------+-----+\n",
            "|female|    1|\n",
            "|  male|    4|\n",
            "+------+-----+\n",
            "\n"
          ],
          "name": "stdout"
        }
      ]
    },
    {
      "cell_type": "code",
      "metadata": {
        "id": "OXLoXTsNga9E",
        "colab_type": "code",
        "colab": {
          "base_uri": "https://localhost:8080/",
          "height": 134
        },
        "outputId": "ea8f43dd-6359-473e-c57d-b2406ee1bd3a"
      },
      "source": [
        "empDf.groupBy(\"deptid\").\\\n",
        "    agg({\"salary\": \"avg\", \"age\": \"max\"}).show()"
      ],
      "execution_count": 48,
      "outputs": [
        {
          "output_type": "stream",
          "text": [
            "+------+------------------+--------+\n",
            "|deptid|       avg(salary)|max(age)|\n",
            "+------+------------------+--------+\n",
            "|   200|            5500.0|      44|\n",
            "|   100|3333.3333333333335|      51|\n",
            "+------+------------------+--------+\n",
            "\n"
          ],
          "name": "stdout"
        }
      ]
    },
    {
      "cell_type": "code",
      "metadata": {
        "id": "TIBqxnusgjS1",
        "colab_type": "code",
        "colab": {
          "base_uri": "https://localhost:8080/",
          "height": 188
        },
        "outputId": "7b966a0b-1da8-4e07-eb02-9f2ad82c619f"
      },
      "source": [
        "#create a data frame from a list\n",
        "deptList = [{'name': 'Sales', 'id': \"100\"},\\\n",
        "     { 'name':'Engineering','id':\"200\" }]\n",
        "deptDf = SpSession.createDataFrame(deptList)\n",
        "deptDf.show()\n"
      ],
      "execution_count": 52,
      "outputs": [
        {
          "output_type": "stream",
          "text": [
            "/usr/local/lib/python3.6/dist-packages/pyspark/sql/session.py:378: UserWarning: inferring schema from dict is deprecated,please use pyspark.sql.Row instead\n",
            "  warnings.warn(\"inferring schema from dict is deprecated,\"\n"
          ],
          "name": "stderr"
        },
        {
          "output_type": "stream",
          "text": [
            "+---+-----------+\n",
            "| id|       name|\n",
            "+---+-----------+\n",
            "|100|      Sales|\n",
            "|200|Engineering|\n",
            "+---+-----------+\n",
            "\n"
          ],
          "name": "stdout"
        }
      ]
    },
    {
      "cell_type": "code",
      "metadata": {
        "id": "YYiCnBR4g8dH",
        "colab_type": "code",
        "colab": {
          "base_uri": "https://localhost:8080/",
          "height": 188
        },
        "outputId": "a8ab5f7a-7d51-4a01-d19c-2d79fdd526a4"
      },
      "source": [
        "deptDf = SpSession.createDataFrame(deptList)\n",
        "deptDf.show()"
      ],
      "execution_count": 53,
      "outputs": [
        {
          "output_type": "stream",
          "text": [
            "/usr/local/lib/python3.6/dist-packages/pyspark/sql/session.py:378: UserWarning: inferring schema from dict is deprecated,please use pyspark.sql.Row instead\n",
            "  warnings.warn(\"inferring schema from dict is deprecated,\"\n"
          ],
          "name": "stderr"
        },
        {
          "output_type": "stream",
          "text": [
            "+---+-----------+\n",
            "| id|       name|\n",
            "+---+-----------+\n",
            "|100|      Sales|\n",
            "|200|Engineering|\n",
            "+---+-----------+\n",
            "\n"
          ],
          "name": "stdout"
        }
      ]
    },
    {
      "cell_type": "code",
      "metadata": {
        "id": "33UscrsAjFOb",
        "colab_type": "code",
        "colab": {
          "base_uri": "https://localhost:8080/",
          "height": 134
        },
        "outputId": "1ef8dd2f-466e-4736-e4d4-769a362a892d"
      },
      "source": [
        "#cascading operations\n",
        "empDf.filter(empDf[\"age\"] >30).join(deptDf, \\\n",
        "        empDf.deptid == deptDf.id).\\\n",
        "        groupBy(\"deptid\").\\\n",
        "        agg({\"salary\": \"avg\", \"age\": \"max\"}).show()"
      ],
      "execution_count": 54,
      "outputs": [
        {
          "output_type": "stream",
          "text": [
            "+------+-----------+--------+\n",
            "|deptid|avg(salary)|max(age)|\n",
            "+------+-----------+--------+\n",
            "|   200|     5500.0|      44|\n",
            "|   100|     3650.0|      51|\n",
            "+------+-----------+--------+\n",
            "\n"
          ],
          "name": "stdout"
        }
      ]
    },
    {
      "cell_type": "markdown",
      "metadata": {
        "id": "MNP2VtjdjKwI",
        "colab_type": "text"
      },
      "source": [
        "##   Creating data frames from RDD\n"
      ]
    },
    {
      "cell_type": "code",
      "metadata": {
        "id": "3TteDeMqjIgi",
        "colab_type": "code",
        "colab": {
          "base_uri": "https://localhost:8080/",
          "height": 34
        },
        "outputId": "465d51bb-92d5-406c-ea73-ea17c8180603"
      },
      "source": [
        "from pyspark.sql import Row\n",
        "lines = SpContext.textFile(\"/content/drive/My Drive/auto-data.csv\")\n",
        "#remove the first line\n",
        "datalines = lines.filter(lambda x: \"FUELTYPE\" not in x)\n",
        "datalines.count()\n",
        "\n"
      ],
      "execution_count": 55,
      "outputs": [
        {
          "output_type": "execute_result",
          "data": {
            "text/plain": [
              "197"
            ]
          },
          "metadata": {
            "tags": []
          },
          "execution_count": 55
        }
      ]
    },
    {
      "cell_type": "code",
      "metadata": {
        "id": "wnoLlpD-jkgY",
        "colab_type": "code",
        "colab": {
          "base_uri": "https://localhost:8080/",
          "height": 454
        },
        "outputId": "92ecb0f0-d7ae-48fa-83ab-20f0b2b809da"
      },
      "source": [
        "parts = datalines.map(lambda l: l.split(\",\"))\n",
        "autoMap = parts.map(lambda p: Row(make=p[0],\\\n",
        "         body=p[4], hp=int(p[7])))\n",
        "# Infer the schema, and register the DataFrame as a table.\n",
        "autoDf = SpSession.createDataFrame(autoMap)\n",
        "autoDf.show()"
      ],
      "execution_count": 56,
      "outputs": [
        {
          "output_type": "stream",
          "text": [
            "+----------+---------+---+\n",
            "|      make|     body| hp|\n",
            "+----------+---------+---+\n",
            "|    subaru|hatchback| 69|\n",
            "| chevrolet|hatchback| 48|\n",
            "|     mazda|hatchback| 68|\n",
            "|    toyota|hatchback| 62|\n",
            "|mitsubishi|hatchback| 68|\n",
            "|     honda|hatchback| 60|\n",
            "|    nissan|    sedan| 69|\n",
            "|     dodge|hatchback| 68|\n",
            "|  plymouth|hatchback| 68|\n",
            "|     mazda|hatchback| 68|\n",
            "|mitsubishi|hatchback| 68|\n",
            "|     dodge|hatchback| 68|\n",
            "|  plymouth|hatchback| 68|\n",
            "| chevrolet|hatchback| 70|\n",
            "|    toyota|hatchback| 62|\n",
            "|     dodge|hatchback| 68|\n",
            "|     honda|hatchback| 58|\n",
            "|    toyota|hatchback| 62|\n",
            "|     honda|hatchback| 76|\n",
            "| chevrolet|    sedan| 70|\n",
            "+----------+---------+---+\n",
            "only showing top 20 rows\n",
            "\n"
          ],
          "name": "stdout"
        }
      ]
    },
    {
      "cell_type": "markdown",
      "metadata": {
        "id": "NIE0iKXMjvYG",
        "colab_type": "text"
      },
      "source": [
        "##   Creating data frames directly from CSV\n"
      ]
    },
    {
      "cell_type": "code",
      "metadata": {
        "id": "QKCkZdQyjrKj",
        "colab_type": "code",
        "colab": {
          "base_uri": "https://localhost:8080/",
          "height": 454
        },
        "outputId": "4a5c29c5-a989-43e5-8157-0c8baeab30bb"
      },
      "source": [
        "autoDf1 = SpSession.read.csv(\"/content/drive/My Drive/auto-data.csv\",header=True)\n",
        "autoDf1.show()"
      ],
      "execution_count": 57,
      "outputs": [
        {
          "output_type": "stream",
          "text": [
            "+----------+--------+------+-----+---------+-----+---------+---+----+--------+-------+-----+\n",
            "|      MAKE|FUELTYPE|ASPIRE|DOORS|     BODY|DRIVE|CYLINDERS| HP| RPM|MPG-CITY|MPG-HWY|PRICE|\n",
            "+----------+--------+------+-----+---------+-----+---------+---+----+--------+-------+-----+\n",
            "|    subaru|     gas|   std|  two|hatchback|  fwd|     four| 69|4900|      31|     36| 5118|\n",
            "| chevrolet|     gas|   std|  two|hatchback|  fwd|    three| 48|5100|      47|     53| 5151|\n",
            "|     mazda|     gas|   std|  two|hatchback|  fwd|     four| 68|5000|      30|     31| 5195|\n",
            "|    toyota|     gas|   std|  two|hatchback|  fwd|     four| 62|4800|      35|     39| 5348|\n",
            "|mitsubishi|     gas|   std|  two|hatchback|  fwd|     four| 68|5500|      37|     41| 5389|\n",
            "|     honda|     gas|   std|  two|hatchback|  fwd|     four| 60|5500|      38|     42| 5399|\n",
            "|    nissan|     gas|   std|  two|    sedan|  fwd|     four| 69|5200|      31|     37| 5499|\n",
            "|     dodge|     gas|   std|  two|hatchback|  fwd|     four| 68|5500|      37|     41| 5572|\n",
            "|  plymouth|     gas|   std|  two|hatchback|  fwd|     four| 68|5500|      37|     41| 5572|\n",
            "|     mazda|     gas|   std|  two|hatchback|  fwd|     four| 68|5000|      31|     38| 6095|\n",
            "|mitsubishi|     gas|   std|  two|hatchback|  fwd|     four| 68|5500|      31|     38| 6189|\n",
            "|     dodge|     gas|   std| four|hatchback|  fwd|     four| 68|5500|      31|     38| 6229|\n",
            "|  plymouth|     gas|   std| four|hatchback|  fwd|     four| 68|5500|      31|     38| 6229|\n",
            "| chevrolet|     gas|   std|  two|hatchback|  fwd|     four| 70|5400|      38|     43| 6295|\n",
            "|    toyota|     gas|   std|  two|hatchback|  fwd|     four| 62|4800|      31|     38| 6338|\n",
            "|     dodge|     gas|   std|  two|hatchback|  fwd|     four| 68|5500|      31|     38| 6377|\n",
            "|     honda|     gas|   std|  two|hatchback|  fwd|     four| 58|4800|      49|     54| 6479|\n",
            "|    toyota|     gas|   std| four|hatchback|  fwd|     four| 62|4800|      31|     38| 6488|\n",
            "|     honda|     gas|   std|  two|hatchback|  fwd|     four| 76|6000|      30|     34| 6529|\n",
            "| chevrolet|     gas|   std| four|    sedan|  fwd|     four| 70|5400|      38|     43| 6575|\n",
            "+----------+--------+------+-----+---------+-----+---------+---+----+--------+-------+-----+\n",
            "only showing top 20 rows\n",
            "\n"
          ],
          "name": "stdout"
        }
      ]
    },
    {
      "cell_type": "markdown",
      "metadata": {
        "id": "y3UaN72BkIOa",
        "colab_type": "text"
      },
      "source": [
        "##   Creating and working with Temp Tables\n"
      ]
    },
    {
      "cell_type": "code",
      "metadata": {
        "id": "MMp4Klhvj-iU",
        "colab_type": "code",
        "colab": {
          "base_uri": "https://localhost:8080/",
          "height": 302
        },
        "outputId": "36f6c3ae-79af-42dd-f9a9-42cfee079437"
      },
      "source": [
        "autoDf.createOrReplaceTempView(\"autos\")\n",
        "SpSession.sql(\"select * from autos where hp > 200\").show()\n",
        "\n",
        "#register a data frame as table and run SQL statements against it\n",
        "empDf.createOrReplaceTempView(\"employees\")\n",
        "SpSession.sql(\"select * from employees where salary > 4000\").show()"
      ],
      "execution_count": 58,
      "outputs": [
        {
          "output_type": "stream",
          "text": [
            "+-------+-----------+---+\n",
            "|   make|       body| hp|\n",
            "+-------+-----------+---+\n",
            "|porsche|    hardtop|207|\n",
            "|porsche|    hardtop|207|\n",
            "| jaguar|      sedan|262|\n",
            "|porsche|convertible|207|\n",
            "+-------+-----------+---+\n",
            "\n",
            "+---+------+------+-------------+------+\n",
            "|age|deptid|gender|         name|salary|\n",
            "+---+------+------+-------------+------+\n",
            "| 40|   200|  male|Holland Drake|  4500|\n",
            "| 51|   100|female|June Rutledge|  4300|\n",
            "| 44|   200|  male|Nielsen Knapp|  6500|\n",
            "+---+------+------+-------------+------+\n",
            "\n"
          ],
          "name": "stdout"
        }
      ]
    },
    {
      "cell_type": "markdown",
      "metadata": {
        "id": "WRQ8E_9jlKJC",
        "colab_type": "text"
      },
      "source": [
        "#pandas data frame is stored in the master node\n"
      ]
    },
    {
      "cell_type": "code",
      "metadata": {
        "id": "T89mU5ZTlFGz",
        "colab_type": "code",
        "colab": {
          "base_uri": "https://localhost:8080/",
          "height": 101
        },
        "outputId": "400de6b8-e2a3-4b1b-aced-31522f045ab6"
      },
      "source": [
        "#pandas data frame is stored in the master node\n",
        "empPands = empDf.toPandas()\n",
        "for index, row in empPands.iterrows():\n",
        "    print(row[\"salary\"])"
      ],
      "execution_count": 59,
      "outputs": [
        {
          "output_type": "stream",
          "text": [
            "3000\n",
            "4500\n",
            "2700\n",
            "4300\n",
            "6500\n"
          ],
          "name": "stdout"
        }
      ]
    },
    {
      "cell_type": "code",
      "metadata": {
        "id": "OmpYP6pdlOk0",
        "colab_type": "code",
        "colab": {}
      },
      "source": [
        ""
      ],
      "execution_count": null,
      "outputs": []
    }
  ]
}