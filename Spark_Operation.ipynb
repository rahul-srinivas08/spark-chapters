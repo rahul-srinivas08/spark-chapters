{
  "nbformat": 4,
  "nbformat_minor": 0,
  "metadata": {
    "colab": {
      "name": "Spark Operation.ipynb",
      "provenance": []
    },
    "kernelspec": {
      "name": "python3",
      "display_name": "Python 3"
    }
  },
  "cells": [
    {
      "cell_type": "code",
      "metadata": {
        "id": "4dSPVYiXDMup",
        "colab_type": "code",
        "colab": {
          "base_uri": "https://localhost:8080/",
          "height": 255
        },
        "outputId": "21b55714-6788-4a38-e4fa-2c68c1a8eb5e"
      },
      "source": [
        "!pip install pyspark"
      ],
      "execution_count": 1,
      "outputs": [
        {
          "output_type": "stream",
          "text": [
            "Collecting pyspark\n",
            "\u001b[?25l  Downloading https://files.pythonhosted.org/packages/8e/b0/bf9020b56492281b9c9d8aae8f44ff51e1bc91b3ef5a884385cb4e389a40/pyspark-3.0.0.tar.gz (204.7MB)\n",
            "\u001b[K     |████████████████████████████████| 204.7MB 66kB/s \n",
            "\u001b[?25hCollecting py4j==0.10.9\n",
            "\u001b[?25l  Downloading https://files.pythonhosted.org/packages/9e/b6/6a4fb90cd235dc8e265a6a2067f2a2c99f0d91787f06aca4bcf7c23f3f80/py4j-0.10.9-py2.py3-none-any.whl (198kB)\n",
            "\u001b[K     |████████████████████████████████| 204kB 35.9MB/s \n",
            "\u001b[?25hBuilding wheels for collected packages: pyspark\n",
            "  Building wheel for pyspark (setup.py) ... \u001b[?25l\u001b[?25hdone\n",
            "  Created wheel for pyspark: filename=pyspark-3.0.0-py2.py3-none-any.whl size=205044182 sha256=52dbb686352c20eb040c720a7075c2d280cc4fc3d346ad5de935c6f520cb30cb\n",
            "  Stored in directory: /root/.cache/pip/wheels/57/27/4d/ddacf7143f8d5b76c45c61ee2e43d9f8492fc5a8e78ebd7d37\n",
            "Successfully built pyspark\n",
            "Installing collected packages: py4j, pyspark\n",
            "Successfully installed py4j-0.10.9 pyspark-3.0.0\n"
          ],
          "name": "stdout"
        }
      ]
    },
    {
      "cell_type": "code",
      "metadata": {
        "id": "Mo35Y6V5GI5p",
        "colab_type": "code",
        "colab": {}
      },
      "source": [
        ""
      ],
      "execution_count": 2,
      "outputs": []
    },
    {
      "cell_type": "code",
      "metadata": {
        "id": "-RoFH6QNGcRs",
        "colab_type": "code",
        "colab": {}
      },
      "source": [
        "#Initialize SparkSession and SparkContext\n",
        "from pyspark.sql import SparkSession\n",
        "from pyspark import SparkContext"
      ],
      "execution_count": 3,
      "outputs": []
    },
    {
      "cell_type": "code",
      "metadata": {
        "id": "2B2rfu7sG9eh",
        "colab_type": "code",
        "colab": {}
      },
      "source": [
        "#Create a Spark Session\n",
        "SpSession = SparkSession.builder.master(\"local[*]\").getOrCreate()"
      ],
      "execution_count": 4,
      "outputs": []
    },
    {
      "cell_type": "code",
      "metadata": {
        "id": "f1_30ZR3Ha47",
        "colab_type": "code",
        "colab": {}
      },
      "source": [
        "#Get the Spark Context from Spark Session    \n",
        "SpContext = SpSession.sparkContext"
      ],
      "execution_count": 5,
      "outputs": []
    },
    {
      "cell_type": "code",
      "metadata": {
        "id": "vmw4qt_OHhnh",
        "colab_type": "code",
        "colab": {
          "base_uri": "https://localhost:8080/",
          "height": 34
        },
        "outputId": "8f16c1ba-ffbf-4846-89f0-c6503135b3b8"
      },
      "source": [
        "#Test Spark\n",
        "testData = SpContext.parallelize([3,6,4,2])\n",
        "testData.count()"
      ],
      "execution_count": 6,
      "outputs": [
        {
          "output_type": "execute_result",
          "data": {
            "text/plain": [
              "4"
            ]
          },
          "metadata": {
            "tags": []
          },
          "execution_count": 6
        }
      ]
    },
    {
      "cell_type": "code",
      "metadata": {
        "id": "N1EccTbmHk7B",
        "colab_type": "code",
        "colab": {
          "base_uri": "https://localhost:8080/",
          "height": 34
        },
        "outputId": "a64d16a7-d382-4feb-d484-b748d3a1540d"
      },
      "source": [
        "#Load from a collection\n",
        "collData = SpContext.parallelize([4,3,8,5,8])\n",
        "collData.collect()# bring the entire RDD to the driver node, could be expensive\n",
        "#collData.count()"
      ],
      "execution_count": 11,
      "outputs": [
        {
          "output_type": "execute_result",
          "data": {
            "text/plain": [
              "[4, 3, 8, 5, 8]"
            ]
          },
          "metadata": {
            "tags": []
          },
          "execution_count": 11
        }
      ]
    },
    {
      "cell_type": "code",
      "metadata": {
        "id": "GEvdy1XqIoDn",
        "colab_type": "code",
        "colab": {
          "base_uri": "https://localhost:8080/",
          "height": 34
        },
        "outputId": "24006e0d-fdd9-4155-e575-6a8a344d7506"
      },
      "source": [
        "#Load the file. Lazy initialization\n",
        "autoData = SpContext.textFile('/content/drive/My Drive/auto-data.csv')\n",
        "autoData.cache()\n",
        "#Loads only now.\n",
        "autoData.count()\n"
      ],
      "execution_count": 13,
      "outputs": [
        {
          "output_type": "execute_result",
          "data": {
            "text/plain": [
              "198"
            ]
          },
          "metadata": {
            "tags": []
          },
          "execution_count": 13
        }
      ]
    },
    {
      "cell_type": "code",
      "metadata": {
        "id": "Jw4W189lJQxa",
        "colab_type": "code",
        "colab": {
          "base_uri": "https://localhost:8080/",
          "height": 35
        },
        "outputId": "65e27c8d-7d12-40e1-da30-a851c2b737ff"
      },
      "source": [
        "autoData.first()\n"
      ],
      "execution_count": 14,
      "outputs": [
        {
          "output_type": "execute_result",
          "data": {
            "application/vnd.google.colaboratory.intrinsic+json": {
              "type": "string"
            },
            "text/plain": [
              "'MAKE,FUELTYPE,ASPIRE,DOORS,BODY,DRIVE,CYLINDERS,HP,RPM,MPG-CITY,MPG-HWY,PRICE'"
            ]
          },
          "metadata": {
            "tags": []
          },
          "execution_count": 14
        }
      ]
    },
    {
      "cell_type": "code",
      "metadata": {
        "id": "nR5nKa_sJWNf",
        "colab_type": "code",
        "colab": {
          "base_uri": "https://localhost:8080/",
          "height": 101
        },
        "outputId": "bbaab7ae-8223-4d68-c201-74f7c4eb3975"
      },
      "source": [
        "autoData.take(5)"
      ],
      "execution_count": 15,
      "outputs": [
        {
          "output_type": "execute_result",
          "data": {
            "text/plain": [
              "['MAKE,FUELTYPE,ASPIRE,DOORS,BODY,DRIVE,CYLINDERS,HP,RPM,MPG-CITY,MPG-HWY,PRICE',\n",
              " 'subaru,gas,std,two,hatchback,fwd,four,69,4900,31,36,5118',\n",
              " 'chevrolet,gas,std,two,hatchback,fwd,three,48,5100,47,53,5151',\n",
              " 'mazda,gas,std,two,hatchback,fwd,four,68,5000,30,31,5195',\n",
              " 'toyota,gas,std,two,hatchback,fwd,four,62,4800,35,39,5348']"
            ]
          },
          "metadata": {
            "tags": []
          },
          "execution_count": 15
        }
      ]
    },
    {
      "cell_type": "code",
      "metadata": {
        "id": "HvMEar4HJXBn",
        "colab_type": "code",
        "colab": {
          "base_uri": "https://localhost:8080/",
          "height": 1000
        },
        "outputId": "f31a3cfa-5969-44e8-d759-7b4565a089b1"
      },
      "source": [
        "for line in autoData.collect():\n",
        "  print(line)"
      ],
      "execution_count": 16,
      "outputs": [
        {
          "output_type": "stream",
          "text": [
            "MAKE,FUELTYPE,ASPIRE,DOORS,BODY,DRIVE,CYLINDERS,HP,RPM,MPG-CITY,MPG-HWY,PRICE\n",
            "subaru,gas,std,two,hatchback,fwd,four,69,4900,31,36,5118\n",
            "chevrolet,gas,std,two,hatchback,fwd,three,48,5100,47,53,5151\n",
            "mazda,gas,std,two,hatchback,fwd,four,68,5000,30,31,5195\n",
            "toyota,gas,std,two,hatchback,fwd,four,62,4800,35,39,5348\n",
            "mitsubishi,gas,std,two,hatchback,fwd,four,68,5500,37,41,5389\n",
            "honda,gas,std,two,hatchback,fwd,four,60,5500,38,42,5399\n",
            "nissan,gas,std,two,sedan,fwd,four,69,5200,31,37,5499\n",
            "dodge,gas,std,two,hatchback,fwd,four,68,5500,37,41,5572\n",
            "plymouth,gas,std,two,hatchback,fwd,four,68,5500,37,41,5572\n",
            "mazda,gas,std,two,hatchback,fwd,four,68,5000,31,38,6095\n",
            "mitsubishi,gas,std,two,hatchback,fwd,four,68,5500,31,38,6189\n",
            "dodge,gas,std,four,hatchback,fwd,four,68,5500,31,38,6229\n",
            "plymouth,gas,std,four,hatchback,fwd,four,68,5500,31,38,6229\n",
            "chevrolet,gas,std,two,hatchback,fwd,four,70,5400,38,43,6295\n",
            "toyota,gas,std,two,hatchback,fwd,four,62,4800,31,38,6338\n",
            "dodge,gas,std,two,hatchback,fwd,four,68,5500,31,38,6377\n",
            "honda,gas,std,two,hatchback,fwd,four,58,4800,49,54,6479\n",
            "toyota,gas,std,four,hatchback,fwd,four,62,4800,31,38,6488\n",
            "honda,gas,std,two,hatchback,fwd,four,76,6000,30,34,6529\n",
            "chevrolet,gas,std,four,sedan,fwd,four,70,5400,38,43,6575\n",
            "nissan,gas,std,two,sedan,fwd,four,69,5200,31,37,6649\n",
            "mitsubishi,gas,std,two,hatchback,fwd,four,68,5500,31,38,6669\n",
            "dodge,gas,std,four,sedan,fwd,four,68,5500,31,38,6692\n",
            "plymouth,gas,std,four,sedan,fwd,four,68,5500,31,38,6692\n",
            "mazda,gas,std,four,sedan,fwd,four,68,5000,31,38,6695\n",
            "isuzu,gas,std,four,sedan,rwd,four,78,4800,24,29,6785\n",
            "mazda,gas,std,two,hatchback,fwd,four,68,5000,31,38,6795\n",
            "nissan,gas,std,four,sedan,fwd,four,69,5200,31,37,6849\n",
            "honda,gas,std,two,hatchback,fwd,four,76,6000,31,38,6855\n",
            "toyota,gas,std,four,wagon,fwd,four,62,4800,31,37,6918\n",
            "toyota,gas,std,four,sedan,fwd,four,70,4800,30,37,6938\n",
            "mitsubishi,gas,std,four,sedan,fwd,four,88,5000,25,32,6989\n",
            "subaru,gas,std,two,hatchback,fwd,four,73,4400,26,31,7053\n",
            "nissan,diesel,std,two,sedan,fwd,four,55,4800,45,50,7099\n",
            "subaru,gas,std,four,sedan,fwd,four,82,4800,32,37,7126\n",
            "honda,gas,std,two,hatchback,fwd,four,76,6000,30,34,7129\n",
            "toyota,gas,std,four,hatchback,fwd,four,70,4800,30,37,7198\n",
            "honda,gas,std,four,sedan,fwd,four,76,6000,30,34,7295\n",
            "honda,gas,std,four,wagon,fwd,four,76,6000,30,34,7295\n",
            "nissan,gas,std,two,sedan,fwd,four,69,5200,31,37,7299\n",
            "nissan,gas,std,four,wagon,fwd,four,69,5200,31,37,7349\n",
            "mazda,gas,std,four,sedan,fwd,four,68,5000,31,38,7395\n",
            "subaru,gas,std,four,wagon,fwd,four,82,4800,28,32,7463\n",
            "nissan,gas,std,four,sedan,fwd,four,69,5200,31,37,7499\n",
            "subaru,gas,std,two,hatchback,4wd,four,73,4400,26,31,7603\n",
            "dodge,gas,std,four,sedan,fwd,four,68,5500,31,38,7609\n",
            "plymouth,gas,std,four,sedan,fwd,four,68,5500,31,38,7609\n",
            "mitsubishi,gas,turbo,two,hatchback,fwd,four,102,5500,24,30,7689\n",
            "toyota,gas,std,four,sedan,fwd,four,70,4800,38,47,7738\n",
            "subaru,gas,std,four,sedan,fwd,four,82,4400,28,33,7775\n",
            "volkswagen,diesel,std,two,sedan,fwd,four,52,4800,37,46,7775\n",
            "toyota,diesel,std,four,hatchback,fwd,four,56,4500,38,47,7788\n",
            "nissan,gas,std,two,hatchback,fwd,four,69,5200,31,37,7799\n",
            "honda,gas,std,two,hatchback,fwd,four,86,5800,27,33,7895\n",
            "toyota,gas,std,four,wagon,4wd,four,62,4800,27,32,7898\n",
            "toyota,diesel,std,four,sedan,fwd,four,56,4500,34,36,7898\n",
            "dodge,gas,turbo,two,hatchback,fwd,four,102,5500,24,30,7957\n",
            "plymouth,gas,turbo,two,hatchback,fwd,four,102,5500,24,30,7957\n",
            "volkswagen,gas,std,two,sedan,fwd,four,85,5250,27,34,7975\n",
            "volkswagen,diesel,std,four,sedan,fwd,four,52,4800,37,46,7995\n",
            "nissan,gas,std,four,wagon,fwd,four,69,5200,31,37,7999\n",
            "subaru,gas,std,four,wagon,4wd,four,82,4800,23,29,8013\n",
            "toyota,gas,std,two,sedan,rwd,four,70,4800,29,34,8058\n",
            "mitsubishi,gas,std,four,sedan,fwd,four,88,5000,25,32,8189\n",
            "volkswagen,gas,std,four,sedan,fwd,four,85,5250,27,34,8195\n",
            "toyota,gas,std,two,hatchback,rwd,four,70,4800,29,34,8238\n",
            "nissan,gas,std,two,hardtop,fwd,four,69,5200,31,37,8249\n",
            "toyota,gas,std,four,hatchback,fwd,four,70,4800,28,34,8358\n",
            "toyota,gas,std,two,hardtop,rwd,four,116,4800,24,30,8449\n",
            "mazda,gas,std,four,sedan,fwd,four,84,4800,26,32,8495\n",
            "volkswagen,gas,std,four,sedan,fwd,four,85,5250,27,34,8495\n",
            "mitsubishi,gas,std,two,hatchback,fwd,four,88,5000,25,32,8499\n",
            "toyota,gas,std,four,wagon,4wd,four,62,4800,27,32,8778\n",
            "honda,gas,std,four,sedan,fwd,four,86,5800,27,33,8845\n",
            "mazda,gas,std,two,hatchback,fwd,four,84,4800,26,32,8845\n",
            "dodge,gas,std,four,wagon,fwd,four,88,5000,24,30,8921\n",
            "plymouth,gas,std,four,wagon,fwd,four,88,5000,24,30,8921\n",
            "toyota,gas,std,four,sedan,fwd,four,92,4200,29,34,8948\n",
            "nissan,gas,std,four,hatchback,fwd,four,97,5200,27,34,8949\n",
            "honda,gas,std,two,hatchback,fwd,four,86,5800,27,33,9095\n",
            "subaru,gas,std,four,sedan,4wd,four,82,4800,24,25,9233\n",
            "toyota,gas,std,four,sedan,fwd,four,70,4800,28,34,9258\n",
            "mitsubishi,gas,turbo,four,sedan,fwd,four,116,5500,23,30,9279\n",
            "mitsubishi,gas,std,four,sedan,fwd,four,116,5500,23,30,9279\n",
            "toyota,gas,std,two,sedan,rwd,four,112,6600,26,29,9298\n",
            "volkswagen,diesel,turbo,four,sedan,fwd,four,68,4500,37,42,9495\n",
            "toyota,gas,std,two,hatchback,rwd,four,112,6600,26,29,9538\n",
            "nissan,gas,std,four,sedan,fwd,four,97,5200,27,34,9549\n",
            "toyota,gas,std,two,hardtop,rwd,four,116,4800,24,30,9639\n",
            "mitsubishi,gas,turbo,two,hatchback,fwd,four,116,5500,23,30,9959\n",
            "subaru,gas,std,four,sedan,fwd,four,94,5200,26,32,9960\n",
            "volkswagen,gas,std,two,hatchback,fwd,four,90,5500,24,29,9980\n",
            "toyota,gas,std,four,hatchback,fwd,four,92,4200,27,32,9988\n",
            "toyota,gas,std,two,hatchback,rwd,four,116,4800,24,30,9989\n",
            "volkswagen,gas,std,four,sedan,fwd,four,100,5500,26,32,9995\n",
            "subaru,gas,std,four,wagon,fwd,four,94,5200,25,31,10198\n",
            "mazda,gas,std,four,sedan,fwd,four,84,4800,26,32,10245\n",
            "honda,gas,std,four,sedan,fwd,four,86,5800,27,33,10295\n",
            "honda,gas,std,two,sedan,fwd,four,100,5500,25,31,10345\n",
            "mazda,gas,std,two,hatchback,fwd,four,84,4800,26,32,10595\n",
            "toyota,diesel,turbo,four,sedan,fwd,four,73,4500,30,33,10698\n",
            "toyota,gas,std,four,sedan,fwd,four,92,4200,27,32,10898\n",
            "mazda,gas,std,two,hatchback,rwd,two,101,6000,17,23,10945\n",
            "isuzu,gas,std,two,hatchback,rwd,four,90,5000,24,29,11048\n",
            "toyota,gas,std,two,hardtop,rwd,four,116,4800,24,30,11199\n",
            "mazda,gas,std,four,hatchback,fwd,four,84,4800,26,32,11245\n",
            "toyota,gas,std,four,hatchback,fwd,four,92,4200,27,32,11248\n",
            "subaru,gas,turbo,four,sedan,4wd,four,111,4800,24,29,11259\n",
            "toyota,gas,std,two,hatchback,rwd,four,116,4800,24,30,11549\n",
            "volkswagen,gas,std,two,convertible,fwd,four,90,5500,24,29,11595\n",
            "subaru,gas,turbo,four,wagon,4wd,four,111,4800,23,23,11694\n",
            "mazda,gas,std,two,hatchback,rwd,two,101,6000,17,23,11845\n",
            "saab,gas,std,two,hatchback,fwd,four,110,5250,21,28,11850\n",
            "peugot,gas,std,four,sedan,rwd,four,97,5000,19,24,11900\n",
            "saab,gas,std,four,sedan,fwd,four,110,5250,21,28,12170\n",
            "volkswagen,gas,std,four,wagon,fwd,four,88,5500,25,31,12290\n",
            "peugot,gas,std,four,wagon,rwd,four,97,5000,19,24,12440\n",
            "mitsubishi,gas,turbo,two,hatchback,fwd,four,145,5000,19,24,12629\n",
            "plymouth,gas,turbo,two,hatchback,rwd,four,145,5000,19,24,12764\n",
            "volvo,gas,std,four,sedan,rwd,four,114,5400,23,28,12940\n",
            "honda,gas,std,four,sedan,fwd,four,101,5800,24,28,12945\n",
            "dodge,gas,turbo,two,hatchback,fwd,four,145,5000,19,24,12964\n",
            "peugot,diesel,turbo,four,sedan,rwd,four,95,4150,28,33,13200\n",
            "volkswagen,gas,std,four,sedan,fwd,five,110,5500,19,24,13295\n",
            "volvo,gas,std,four,wagon,rwd,four,114,5400,23,28,13415\n",
            "alfa-romero,gas,std,two,convertible,rwd,four,111,5000,21,27,13495\n",
            "nissan,gas,std,four,sedan,fwd,six,152,5200,17,22,13499\n",
            "nissan,gas,std,four,sedan,fwd,six,152,5200,19,25,13499\n",
            "mazda,gas,std,two,hatchback,rwd,two,101,6000,17,23,13645\n",
            "volkswagen,diesel,turbo,four,sedan,fwd,four,68,4500,33,38,13845\n",
            "peugot,diesel,turbo,four,wagon,rwd,four,95,4150,25,25,13860\n",
            "audi,gas,std,four,sedan,fwd,four,102,5500,24,30,13950\n",
            "nissan,gas,std,four,wagon,fwd,six,152,5200,17,22,14399\n",
            "mitsubishi,gas,turbo,two,hatchback,fwd,four,145,5000,19,24,14489\n",
            "mitsubishi,gas,turbo,two,hatchback,fwd,four,145,5000,19,24,14869\n",
            "saab,gas,std,two,hatchback,fwd,four,110,5250,21,28,15040\n",
            "audi,gas,std,two,sedan,fwd,five,110,5500,19,25,15250\n",
            "saab,gas,std,four,sedan,fwd,four,110,5250,21,28,15510\n",
            "peugot,gas,std,four,sedan,rwd,four,95,5000,19,24,15580\n",
            "mazda,gas,std,two,hatchback,rwd,two,135,6000,16,23,15645\n",
            "toyota,gas,std,four,sedan,rwd,six,156,5200,20,24,15690\n",
            "toyota,gas,std,four,wagon,rwd,six,156,5200,19,24,15750\n",
            "volvo,gas,std,four,sedan,rwd,four,114,5400,24,28,15985\n",
            "toyota,gas,std,two,hatchback,rwd,six,161,5200,19,24,15998\n",
            "bmw,gas,std,two,sedan,rwd,four,101,5800,23,29,16430\n",
            "alfa-romero,gas,std,two,convertible,rwd,four,111,5000,21,27,16500\n",
            "alfa-romero,gas,std,two,hatchback,rwd,six,154,5000,19,26,16500\n",
            "mercury,gas,turbo,two,hatchback,rwd,four,175,5000,19,24,16503\n",
            "volvo,gas,std,four,wagon,rwd,four,114,5400,24,28,16515\n",
            "toyota,gas,std,two,hatchback,rwd,six,161,5200,20,24,16558\n",
            "peugot,gas,std,four,sedan,rwd,four,97,5000,19,24,16630\n",
            "peugot,gas,std,four,wagon,rwd,four,95,5000,19,24,16695\n",
            "volvo,gas,std,four,sedan,rwd,four,114,5400,23,28,16845\n",
            "peugot,diesel,turbo,four,sedan,rwd,four,95,4150,28,33,16900\n",
            "bmw,gas,std,four,sedan,rwd,four,101,5800,23,29,16925\n",
            "peugot,diesel,turbo,four,wagon,rwd,four,95,4150,25,25,17075\n",
            "nissan,gas,std,two,hatchback,rwd,six,160,5200,19,25,17199\n",
            "audi,gas,std,four,sedan,4wd,five,115,5500,18,22,17450\n",
            "toyota,gas,std,two,convertible,rwd,four,116,4800,24,30,17669\n",
            "audi,gas,std,four,sedan,fwd,five,110,5500,19,25,17710\n",
            "peugot,diesel,turbo,four,sedan,rwd,four,95,4150,28,33,17950\n",
            "peugot,gas,turbo,four,sedan,rwd,four,142,5600,18,24,18150\n",
            "saab,gas,turbo,two,hatchback,fwd,four,160,5500,19,26,18150\n",
            "mazda,gas,std,four,sedan,rwd,four,120,5000,19,27,18280\n",
            "mazda,diesel,std,four,sedan,rwd,four,72,4200,31,39,18344\n",
            "nissan,gas,std,two,hatchback,rwd,six,160,5200,19,25,18399\n",
            "volvo,gas,turbo,four,sedan,rwd,four,162,5100,17,22,18420\n",
            "saab,gas,turbo,four,sedan,fwd,four,160,5500,19,26,18620\n",
            "audi,gas,std,four,wagon,fwd,five,110,5500,19,25,18920\n",
            "volvo,gas,turbo,four,wagon,rwd,four,162,5100,17,22,18950\n",
            "volvo,gas,turbo,four,sedan,rwd,four,160,5300,19,25,19045\n",
            "nissan,gas,turbo,two,hatchback,rwd,six,200,5200,17,23,19699\n",
            "bmw,gas,std,two,sedan,rwd,six,121,4250,21,28,20970\n",
            "bmw,gas,std,four,sedan,rwd,six,121,4250,21,28,21105\n",
            "volvo,gas,std,four,sedan,rwd,six,134,5500,18,23,21485\n",
            "porsche,gas,std,two,hatchback,rwd,four,143,5500,19,27,22018\n",
            "volvo,diesel,turbo,four,sedan,rwd,six,106,4800,26,27,22470\n",
            "volvo,gas,turbo,four,sedan,rwd,four,114,5400,19,25,22625\n",
            "audi,gas,turbo,four,sedan,fwd,five,140,5500,17,20,23875\n",
            "bmw,gas,std,four,sedan,rwd,six,121,4250,20,25,24565\n",
            "mercedes-benz,diesel,turbo,four,sedan,rwd,five,123,4350,22,25,25552\n",
            "mercedes-benz,diesel,turbo,two,hardtop,rwd,five,123,4350,22,25,28176\n",
            "mercedes-benz,diesel,turbo,four,wagon,rwd,five,123,4350,22,25,28248\n",
            "bmw,gas,std,four,sedan,rwd,six,182,5400,16,22,30760\n",
            "mercedes-benz,diesel,turbo,four,sedan,rwd,five,123,4350,22,25,31600\n",
            "jaguar,gas,std,four,sedan,rwd,six,176,4750,15,19,32250\n",
            "porsche,gas,std,two,hardtop,rwd,six,207,5900,17,25,32528\n",
            "porsche,gas,std,two,hardtop,rwd,six,207,5900,17,25,34028\n",
            "mercedes-benz,gas,std,four,sedan,rwd,eight,155,4750,16,18,34184\n",
            "mercedes-benz,gas,std,two,convertible,rwd,eight,155,4750,16,18,35056\n",
            "jaguar,gas,std,four,sedan,rwd,six,176,4750,15,19,35550\n",
            "jaguar,gas,std,two,sedan,rwd,twelve,262,5000,13,17,36000\n",
            "bmw,gas,std,four,sedan,rwd,six,182,5400,15,20,36880\n",
            "porsche,gas,std,two,convertible,rwd,six,207,5900,17,25,37028\n",
            "mercedes-benz,gas,std,four,sedan,rwd,eight,184,4500,14,16,40960\n",
            "bmw,gas,std,two,sedan,rwd,six,182,5400,16,22,41315\n",
            "mercedes-benz,gas,std,two,hardtop,rwd,eight,184,4500,14,16,45400\n"
          ],
          "name": "stdout"
        }
      ]
    },
    {
      "cell_type": "code",
      "metadata": {
        "id": "_eCY_N08Jd9s",
        "colab_type": "code",
        "colab": {}
      },
      "source": [
        "#Save to a local file. First collect the RDD to the master\n",
        "#and then save as local file.\n",
        "autoDataFile = open(\"auto-data-saved.csv\",\"w\")\n",
        "autoDataFile.write(\"\\n\".join(autoData.collect()))\n",
        "autoDataFile.close()"
      ],
      "execution_count": 17,
      "outputs": []
    },
    {
      "cell_type": "code",
      "metadata": {
        "id": "-hvzaB_PKQsT",
        "colab_type": "code",
        "colab": {
          "base_uri": "https://localhost:8080/",
          "height": 101
        },
        "outputId": "1c39311b-e47c-4eeb-8314-9b7eb8a208c0"
      },
      "source": [
        "##   Transformations\n",
        "\n",
        "#Map and create a new RDD\n",
        "tsvData=autoData.map(lambda x : x.replace(\",\",\" \"))\n",
        "tsvData.take(5)"
      ],
      "execution_count": 19,
      "outputs": [
        {
          "output_type": "execute_result",
          "data": {
            "text/plain": [
              "['MAKE FUELTYPE ASPIRE DOORS BODY DRIVE CYLINDERS HP RPM MPG-CITY MPG-HWY PRICE',\n",
              " 'subaru gas std two hatchback fwd four 69 4900 31 36 5118',\n",
              " 'chevrolet gas std two hatchback fwd three 48 5100 47 53 5151',\n",
              " 'mazda gas std two hatchback fwd four 68 5000 30 31 5195',\n",
              " 'toyota gas std two hatchback fwd four 62 4800 35 39 5348']"
            ]
          },
          "metadata": {
            "tags": []
          },
          "execution_count": 19
        }
      ]
    },
    {
      "cell_type": "code",
      "metadata": {
        "id": "0miiUf2bKoZj",
        "colab_type": "code",
        "colab": {
          "base_uri": "https://localhost:8080/",
          "height": 34
        },
        "outputId": "6d4f1bde-35b8-42a3-99f6-e1d944c7bb87"
      },
      "source": [
        "toyotaData = autoData.filter(lambda x : \"toyota\" in x)\n",
        "toyotaData.count()"
      ],
      "execution_count": 20,
      "outputs": [
        {
          "output_type": "execute_result",
          "data": {
            "text/plain": [
              "32"
            ]
          },
          "metadata": {
            "tags": []
          },
          "execution_count": 20
        }
      ]
    },
    {
      "cell_type": "code",
      "metadata": {
        "id": "fBfM9piNLldI",
        "colab_type": "code",
        "colab": {
          "base_uri": "https://localhost:8080/",
          "height": 34
        },
        "outputId": "35015948-45fa-4bb0-b747-17f8b0e0c4c8"
      },
      "source": [
        "#FlatMap\n",
        "words=toyotaData.flatMap(lambda line: line.split(\",\"))\n",
        "words.count()\n"
      ],
      "execution_count": 21,
      "outputs": [
        {
          "output_type": "execute_result",
          "data": {
            "text/plain": [
              "384"
            ]
          },
          "metadata": {
            "tags": []
          },
          "execution_count": 21
        }
      ]
    },
    {
      "cell_type": "code",
      "metadata": {
        "id": "4HuGfjSULw1N",
        "colab_type": "code",
        "colab": {
          "base_uri": "https://localhost:8080/",
          "height": 353
        },
        "outputId": "5b013df6-539f-4d2e-b9f6-bb46db69f56c"
      },
      "source": [
        "words.take(20)"
      ],
      "execution_count": 22,
      "outputs": [
        {
          "output_type": "execute_result",
          "data": {
            "text/plain": [
              "['toyota',\n",
              " 'gas',\n",
              " 'std',\n",
              " 'two',\n",
              " 'hatchback',\n",
              " 'fwd',\n",
              " 'four',\n",
              " '62',\n",
              " '4800',\n",
              " '35',\n",
              " '39',\n",
              " '5348',\n",
              " 'toyota',\n",
              " 'gas',\n",
              " 'std',\n",
              " 'two',\n",
              " 'hatchback',\n",
              " 'fwd',\n",
              " 'four',\n",
              " '62']"
            ]
          },
          "metadata": {
            "tags": []
          },
          "execution_count": 22
        }
      ]
    },
    {
      "cell_type": "code",
      "metadata": {
        "id": "i1rpqhOKLzgF",
        "colab_type": "code",
        "colab": {
          "base_uri": "https://localhost:8080/",
          "height": 84
        },
        "outputId": "d38f830a-9ae7-4e55-9900-97cfb5f39326"
      },
      "source": [
        "#Distinct\n",
        "for numbData in collData.distinct().collect():\n",
        "    print(numbData)"
      ],
      "execution_count": 23,
      "outputs": [
        {
          "output_type": "stream",
          "text": [
            "4\n",
            "8\n",
            "3\n",
            "5\n"
          ],
          "name": "stdout"
        }
      ]
    },
    {
      "cell_type": "code",
      "metadata": {
        "id": "-AxqJZ7ZL_dE",
        "colab_type": "code",
        "colab": {
          "base_uri": "https://localhost:8080/",
          "height": 101
        },
        "outputId": "56080916-99e1-43c6-bad0-45ca8d7e4f4b"
      },
      "source": [
        "#Set operations\n",
        "words1 = SpContext.parallelize([\"hello\",\"war\",\"peace\",\"world\"])\n",
        "words2 = SpContext.parallelize([\"war\",\"peace\",\"universe\"])\n",
        "\n",
        "for unions in words1.union(words2).distinct().collect():\n",
        "    print(unions)"
      ],
      "execution_count": 24,
      "outputs": [
        {
          "output_type": "stream",
          "text": [
            "hello\n",
            "peace\n",
            "world\n",
            "universe\n",
            "war\n"
          ],
          "name": "stdout"
        }
      ]
    },
    {
      "cell_type": "code",
      "metadata": {
        "id": "aEJKEBDTMFFo",
        "colab_type": "code",
        "colab": {
          "base_uri": "https://localhost:8080/",
          "height": 50
        },
        "outputId": "fb1ec19c-5313-4df3-fcd4-5918df50d895"
      },
      "source": [
        "for intersects in words1.intersection(words2).collect():\n",
        "    print(intersects)"
      ],
      "execution_count": 26,
      "outputs": [
        {
          "output_type": "stream",
          "text": [
            "peace\n",
            "war\n"
          ],
          "name": "stdout"
        }
      ]
    },
    {
      "cell_type": "markdown",
      "metadata": {
        "id": "IJ1RvgIjMQtQ",
        "colab_type": "text"
      },
      "source": [
        "#Using functions for transformation\n",
        "#cleanse and transform an RDD"
      ]
    },
    {
      "cell_type": "code",
      "metadata": {
        "id": "UI9QXUEXMRjW",
        "colab_type": "code",
        "colab": {
          "base_uri": "https://localhost:8080/",
          "height": 1000
        },
        "outputId": "55e6fe2b-ead0-496a-8345-cbfecb01aced"
      },
      "source": [
        "def cleanseRDD(autoStr) :\n",
        "    if isinstance(autoStr, int) :\n",
        "        return autoStr\n",
        "    attList=autoStr.split(\",\")\n",
        "    #convert doors to a number str\n",
        "    if attList[3] == \"two\" :\n",
        "         attList[3]=\"2\"\n",
        "    else :\n",
        "         attList[3]=\"4\"\n",
        "    #Convert Drive to uppercase\n",
        "    attList[5] = attList[5].upper()\n",
        "    return \",\".join(attList)\n",
        "    \n",
        "cleanedData=autoData.map(cleanseRDD)\n",
        "cleanedData.collect()"
      ],
      "execution_count": 27,
      "outputs": [
        {
          "output_type": "execute_result",
          "data": {
            "text/plain": [
              "['MAKE,FUELTYPE,ASPIRE,4,BODY,DRIVE,CYLINDERS,HP,RPM,MPG-CITY,MPG-HWY,PRICE',\n",
              " 'subaru,gas,std,2,hatchback,FWD,four,69,4900,31,36,5118',\n",
              " 'chevrolet,gas,std,2,hatchback,FWD,three,48,5100,47,53,5151',\n",
              " 'mazda,gas,std,2,hatchback,FWD,four,68,5000,30,31,5195',\n",
              " 'toyota,gas,std,2,hatchback,FWD,four,62,4800,35,39,5348',\n",
              " 'mitsubishi,gas,std,2,hatchback,FWD,four,68,5500,37,41,5389',\n",
              " 'honda,gas,std,2,hatchback,FWD,four,60,5500,38,42,5399',\n",
              " 'nissan,gas,std,2,sedan,FWD,four,69,5200,31,37,5499',\n",
              " 'dodge,gas,std,2,hatchback,FWD,four,68,5500,37,41,5572',\n",
              " 'plymouth,gas,std,2,hatchback,FWD,four,68,5500,37,41,5572',\n",
              " 'mazda,gas,std,2,hatchback,FWD,four,68,5000,31,38,6095',\n",
              " 'mitsubishi,gas,std,2,hatchback,FWD,four,68,5500,31,38,6189',\n",
              " 'dodge,gas,std,4,hatchback,FWD,four,68,5500,31,38,6229',\n",
              " 'plymouth,gas,std,4,hatchback,FWD,four,68,5500,31,38,6229',\n",
              " 'chevrolet,gas,std,2,hatchback,FWD,four,70,5400,38,43,6295',\n",
              " 'toyota,gas,std,2,hatchback,FWD,four,62,4800,31,38,6338',\n",
              " 'dodge,gas,std,2,hatchback,FWD,four,68,5500,31,38,6377',\n",
              " 'honda,gas,std,2,hatchback,FWD,four,58,4800,49,54,6479',\n",
              " 'toyota,gas,std,4,hatchback,FWD,four,62,4800,31,38,6488',\n",
              " 'honda,gas,std,2,hatchback,FWD,four,76,6000,30,34,6529',\n",
              " 'chevrolet,gas,std,4,sedan,FWD,four,70,5400,38,43,6575',\n",
              " 'nissan,gas,std,2,sedan,FWD,four,69,5200,31,37,6649',\n",
              " 'mitsubishi,gas,std,2,hatchback,FWD,four,68,5500,31,38,6669',\n",
              " 'dodge,gas,std,4,sedan,FWD,four,68,5500,31,38,6692',\n",
              " 'plymouth,gas,std,4,sedan,FWD,four,68,5500,31,38,6692',\n",
              " 'mazda,gas,std,4,sedan,FWD,four,68,5000,31,38,6695',\n",
              " 'isuzu,gas,std,4,sedan,RWD,four,78,4800,24,29,6785',\n",
              " 'mazda,gas,std,2,hatchback,FWD,four,68,5000,31,38,6795',\n",
              " 'nissan,gas,std,4,sedan,FWD,four,69,5200,31,37,6849',\n",
              " 'honda,gas,std,2,hatchback,FWD,four,76,6000,31,38,6855',\n",
              " 'toyota,gas,std,4,wagon,FWD,four,62,4800,31,37,6918',\n",
              " 'toyota,gas,std,4,sedan,FWD,four,70,4800,30,37,6938',\n",
              " 'mitsubishi,gas,std,4,sedan,FWD,four,88,5000,25,32,6989',\n",
              " 'subaru,gas,std,2,hatchback,FWD,four,73,4400,26,31,7053',\n",
              " 'nissan,diesel,std,2,sedan,FWD,four,55,4800,45,50,7099',\n",
              " 'subaru,gas,std,4,sedan,FWD,four,82,4800,32,37,7126',\n",
              " 'honda,gas,std,2,hatchback,FWD,four,76,6000,30,34,7129',\n",
              " 'toyota,gas,std,4,hatchback,FWD,four,70,4800,30,37,7198',\n",
              " 'honda,gas,std,4,sedan,FWD,four,76,6000,30,34,7295',\n",
              " 'honda,gas,std,4,wagon,FWD,four,76,6000,30,34,7295',\n",
              " 'nissan,gas,std,2,sedan,FWD,four,69,5200,31,37,7299',\n",
              " 'nissan,gas,std,4,wagon,FWD,four,69,5200,31,37,7349',\n",
              " 'mazda,gas,std,4,sedan,FWD,four,68,5000,31,38,7395',\n",
              " 'subaru,gas,std,4,wagon,FWD,four,82,4800,28,32,7463',\n",
              " 'nissan,gas,std,4,sedan,FWD,four,69,5200,31,37,7499',\n",
              " 'subaru,gas,std,2,hatchback,4WD,four,73,4400,26,31,7603',\n",
              " 'dodge,gas,std,4,sedan,FWD,four,68,5500,31,38,7609',\n",
              " 'plymouth,gas,std,4,sedan,FWD,four,68,5500,31,38,7609',\n",
              " 'mitsubishi,gas,turbo,2,hatchback,FWD,four,102,5500,24,30,7689',\n",
              " 'toyota,gas,std,4,sedan,FWD,four,70,4800,38,47,7738',\n",
              " 'subaru,gas,std,4,sedan,FWD,four,82,4400,28,33,7775',\n",
              " 'volkswagen,diesel,std,2,sedan,FWD,four,52,4800,37,46,7775',\n",
              " 'toyota,diesel,std,4,hatchback,FWD,four,56,4500,38,47,7788',\n",
              " 'nissan,gas,std,2,hatchback,FWD,four,69,5200,31,37,7799',\n",
              " 'honda,gas,std,2,hatchback,FWD,four,86,5800,27,33,7895',\n",
              " 'toyota,gas,std,4,wagon,4WD,four,62,4800,27,32,7898',\n",
              " 'toyota,diesel,std,4,sedan,FWD,four,56,4500,34,36,7898',\n",
              " 'dodge,gas,turbo,2,hatchback,FWD,four,102,5500,24,30,7957',\n",
              " 'plymouth,gas,turbo,2,hatchback,FWD,four,102,5500,24,30,7957',\n",
              " 'volkswagen,gas,std,2,sedan,FWD,four,85,5250,27,34,7975',\n",
              " 'volkswagen,diesel,std,4,sedan,FWD,four,52,4800,37,46,7995',\n",
              " 'nissan,gas,std,4,wagon,FWD,four,69,5200,31,37,7999',\n",
              " 'subaru,gas,std,4,wagon,4WD,four,82,4800,23,29,8013',\n",
              " 'toyota,gas,std,2,sedan,RWD,four,70,4800,29,34,8058',\n",
              " 'mitsubishi,gas,std,4,sedan,FWD,four,88,5000,25,32,8189',\n",
              " 'volkswagen,gas,std,4,sedan,FWD,four,85,5250,27,34,8195',\n",
              " 'toyota,gas,std,2,hatchback,RWD,four,70,4800,29,34,8238',\n",
              " 'nissan,gas,std,2,hardtop,FWD,four,69,5200,31,37,8249',\n",
              " 'toyota,gas,std,4,hatchback,FWD,four,70,4800,28,34,8358',\n",
              " 'toyota,gas,std,2,hardtop,RWD,four,116,4800,24,30,8449',\n",
              " 'mazda,gas,std,4,sedan,FWD,four,84,4800,26,32,8495',\n",
              " 'volkswagen,gas,std,4,sedan,FWD,four,85,5250,27,34,8495',\n",
              " 'mitsubishi,gas,std,2,hatchback,FWD,four,88,5000,25,32,8499',\n",
              " 'toyota,gas,std,4,wagon,4WD,four,62,4800,27,32,8778',\n",
              " 'honda,gas,std,4,sedan,FWD,four,86,5800,27,33,8845',\n",
              " 'mazda,gas,std,2,hatchback,FWD,four,84,4800,26,32,8845',\n",
              " 'dodge,gas,std,4,wagon,FWD,four,88,5000,24,30,8921',\n",
              " 'plymouth,gas,std,4,wagon,FWD,four,88,5000,24,30,8921',\n",
              " 'toyota,gas,std,4,sedan,FWD,four,92,4200,29,34,8948',\n",
              " 'nissan,gas,std,4,hatchback,FWD,four,97,5200,27,34,8949',\n",
              " 'honda,gas,std,2,hatchback,FWD,four,86,5800,27,33,9095',\n",
              " 'subaru,gas,std,4,sedan,4WD,four,82,4800,24,25,9233',\n",
              " 'toyota,gas,std,4,sedan,FWD,four,70,4800,28,34,9258',\n",
              " 'mitsubishi,gas,turbo,4,sedan,FWD,four,116,5500,23,30,9279',\n",
              " 'mitsubishi,gas,std,4,sedan,FWD,four,116,5500,23,30,9279',\n",
              " 'toyota,gas,std,2,sedan,RWD,four,112,6600,26,29,9298',\n",
              " 'volkswagen,diesel,turbo,4,sedan,FWD,four,68,4500,37,42,9495',\n",
              " 'toyota,gas,std,2,hatchback,RWD,four,112,6600,26,29,9538',\n",
              " 'nissan,gas,std,4,sedan,FWD,four,97,5200,27,34,9549',\n",
              " 'toyota,gas,std,2,hardtop,RWD,four,116,4800,24,30,9639',\n",
              " 'mitsubishi,gas,turbo,2,hatchback,FWD,four,116,5500,23,30,9959',\n",
              " 'subaru,gas,std,4,sedan,FWD,four,94,5200,26,32,9960',\n",
              " 'volkswagen,gas,std,2,hatchback,FWD,four,90,5500,24,29,9980',\n",
              " 'toyota,gas,std,4,hatchback,FWD,four,92,4200,27,32,9988',\n",
              " 'toyota,gas,std,2,hatchback,RWD,four,116,4800,24,30,9989',\n",
              " 'volkswagen,gas,std,4,sedan,FWD,four,100,5500,26,32,9995',\n",
              " 'subaru,gas,std,4,wagon,FWD,four,94,5200,25,31,10198',\n",
              " 'mazda,gas,std,4,sedan,FWD,four,84,4800,26,32,10245',\n",
              " 'honda,gas,std,4,sedan,FWD,four,86,5800,27,33,10295',\n",
              " 'honda,gas,std,2,sedan,FWD,four,100,5500,25,31,10345',\n",
              " 'mazda,gas,std,2,hatchback,FWD,four,84,4800,26,32,10595',\n",
              " 'toyota,diesel,turbo,4,sedan,FWD,four,73,4500,30,33,10698',\n",
              " 'toyota,gas,std,4,sedan,FWD,four,92,4200,27,32,10898',\n",
              " 'mazda,gas,std,2,hatchback,RWD,two,101,6000,17,23,10945',\n",
              " 'isuzu,gas,std,2,hatchback,RWD,four,90,5000,24,29,11048',\n",
              " 'toyota,gas,std,2,hardtop,RWD,four,116,4800,24,30,11199',\n",
              " 'mazda,gas,std,4,hatchback,FWD,four,84,4800,26,32,11245',\n",
              " 'toyota,gas,std,4,hatchback,FWD,four,92,4200,27,32,11248',\n",
              " 'subaru,gas,turbo,4,sedan,4WD,four,111,4800,24,29,11259',\n",
              " 'toyota,gas,std,2,hatchback,RWD,four,116,4800,24,30,11549',\n",
              " 'volkswagen,gas,std,2,convertible,FWD,four,90,5500,24,29,11595',\n",
              " 'subaru,gas,turbo,4,wagon,4WD,four,111,4800,23,23,11694',\n",
              " 'mazda,gas,std,2,hatchback,RWD,two,101,6000,17,23,11845',\n",
              " 'saab,gas,std,2,hatchback,FWD,four,110,5250,21,28,11850',\n",
              " 'peugot,gas,std,4,sedan,RWD,four,97,5000,19,24,11900',\n",
              " 'saab,gas,std,4,sedan,FWD,four,110,5250,21,28,12170',\n",
              " 'volkswagen,gas,std,4,wagon,FWD,four,88,5500,25,31,12290',\n",
              " 'peugot,gas,std,4,wagon,RWD,four,97,5000,19,24,12440',\n",
              " 'mitsubishi,gas,turbo,2,hatchback,FWD,four,145,5000,19,24,12629',\n",
              " 'plymouth,gas,turbo,2,hatchback,RWD,four,145,5000,19,24,12764',\n",
              " 'volvo,gas,std,4,sedan,RWD,four,114,5400,23,28,12940',\n",
              " 'honda,gas,std,4,sedan,FWD,four,101,5800,24,28,12945',\n",
              " 'dodge,gas,turbo,2,hatchback,FWD,four,145,5000,19,24,12964',\n",
              " 'peugot,diesel,turbo,4,sedan,RWD,four,95,4150,28,33,13200',\n",
              " 'volkswagen,gas,std,4,sedan,FWD,five,110,5500,19,24,13295',\n",
              " 'volvo,gas,std,4,wagon,RWD,four,114,5400,23,28,13415',\n",
              " 'alfa-romero,gas,std,2,convertible,RWD,four,111,5000,21,27,13495',\n",
              " 'nissan,gas,std,4,sedan,FWD,six,152,5200,17,22,13499',\n",
              " 'nissan,gas,std,4,sedan,FWD,six,152,5200,19,25,13499',\n",
              " 'mazda,gas,std,2,hatchback,RWD,two,101,6000,17,23,13645',\n",
              " 'volkswagen,diesel,turbo,4,sedan,FWD,four,68,4500,33,38,13845',\n",
              " 'peugot,diesel,turbo,4,wagon,RWD,four,95,4150,25,25,13860',\n",
              " 'audi,gas,std,4,sedan,FWD,four,102,5500,24,30,13950',\n",
              " 'nissan,gas,std,4,wagon,FWD,six,152,5200,17,22,14399',\n",
              " 'mitsubishi,gas,turbo,2,hatchback,FWD,four,145,5000,19,24,14489',\n",
              " 'mitsubishi,gas,turbo,2,hatchback,FWD,four,145,5000,19,24,14869',\n",
              " 'saab,gas,std,2,hatchback,FWD,four,110,5250,21,28,15040',\n",
              " 'audi,gas,std,2,sedan,FWD,five,110,5500,19,25,15250',\n",
              " 'saab,gas,std,4,sedan,FWD,four,110,5250,21,28,15510',\n",
              " 'peugot,gas,std,4,sedan,RWD,four,95,5000,19,24,15580',\n",
              " 'mazda,gas,std,2,hatchback,RWD,two,135,6000,16,23,15645',\n",
              " 'toyota,gas,std,4,sedan,RWD,six,156,5200,20,24,15690',\n",
              " 'toyota,gas,std,4,wagon,RWD,six,156,5200,19,24,15750',\n",
              " 'volvo,gas,std,4,sedan,RWD,four,114,5400,24,28,15985',\n",
              " 'toyota,gas,std,2,hatchback,RWD,six,161,5200,19,24,15998',\n",
              " 'bmw,gas,std,2,sedan,RWD,four,101,5800,23,29,16430',\n",
              " 'alfa-romero,gas,std,2,convertible,RWD,four,111,5000,21,27,16500',\n",
              " 'alfa-romero,gas,std,2,hatchback,RWD,six,154,5000,19,26,16500',\n",
              " 'mercury,gas,turbo,2,hatchback,RWD,four,175,5000,19,24,16503',\n",
              " 'volvo,gas,std,4,wagon,RWD,four,114,5400,24,28,16515',\n",
              " 'toyota,gas,std,2,hatchback,RWD,six,161,5200,20,24,16558',\n",
              " 'peugot,gas,std,4,sedan,RWD,four,97,5000,19,24,16630',\n",
              " 'peugot,gas,std,4,wagon,RWD,four,95,5000,19,24,16695',\n",
              " 'volvo,gas,std,4,sedan,RWD,four,114,5400,23,28,16845',\n",
              " 'peugot,diesel,turbo,4,sedan,RWD,four,95,4150,28,33,16900',\n",
              " 'bmw,gas,std,4,sedan,RWD,four,101,5800,23,29,16925',\n",
              " 'peugot,diesel,turbo,4,wagon,RWD,four,95,4150,25,25,17075',\n",
              " 'nissan,gas,std,2,hatchback,RWD,six,160,5200,19,25,17199',\n",
              " 'audi,gas,std,4,sedan,4WD,five,115,5500,18,22,17450',\n",
              " 'toyota,gas,std,2,convertible,RWD,four,116,4800,24,30,17669',\n",
              " 'audi,gas,std,4,sedan,FWD,five,110,5500,19,25,17710',\n",
              " 'peugot,diesel,turbo,4,sedan,RWD,four,95,4150,28,33,17950',\n",
              " 'peugot,gas,turbo,4,sedan,RWD,four,142,5600,18,24,18150',\n",
              " 'saab,gas,turbo,2,hatchback,FWD,four,160,5500,19,26,18150',\n",
              " 'mazda,gas,std,4,sedan,RWD,four,120,5000,19,27,18280',\n",
              " 'mazda,diesel,std,4,sedan,RWD,four,72,4200,31,39,18344',\n",
              " 'nissan,gas,std,2,hatchback,RWD,six,160,5200,19,25,18399',\n",
              " 'volvo,gas,turbo,4,sedan,RWD,four,162,5100,17,22,18420',\n",
              " 'saab,gas,turbo,4,sedan,FWD,four,160,5500,19,26,18620',\n",
              " 'audi,gas,std,4,wagon,FWD,five,110,5500,19,25,18920',\n",
              " 'volvo,gas,turbo,4,wagon,RWD,four,162,5100,17,22,18950',\n",
              " 'volvo,gas,turbo,4,sedan,RWD,four,160,5300,19,25,19045',\n",
              " 'nissan,gas,turbo,2,hatchback,RWD,six,200,5200,17,23,19699',\n",
              " 'bmw,gas,std,2,sedan,RWD,six,121,4250,21,28,20970',\n",
              " 'bmw,gas,std,4,sedan,RWD,six,121,4250,21,28,21105',\n",
              " 'volvo,gas,std,4,sedan,RWD,six,134,5500,18,23,21485',\n",
              " 'porsche,gas,std,2,hatchback,RWD,four,143,5500,19,27,22018',\n",
              " 'volvo,diesel,turbo,4,sedan,RWD,six,106,4800,26,27,22470',\n",
              " 'volvo,gas,turbo,4,sedan,RWD,four,114,5400,19,25,22625',\n",
              " 'audi,gas,turbo,4,sedan,FWD,five,140,5500,17,20,23875',\n",
              " 'bmw,gas,std,4,sedan,RWD,six,121,4250,20,25,24565',\n",
              " 'mercedes-benz,diesel,turbo,4,sedan,RWD,five,123,4350,22,25,25552',\n",
              " 'mercedes-benz,diesel,turbo,2,hardtop,RWD,five,123,4350,22,25,28176',\n",
              " 'mercedes-benz,diesel,turbo,4,wagon,RWD,five,123,4350,22,25,28248',\n",
              " 'bmw,gas,std,4,sedan,RWD,six,182,5400,16,22,30760',\n",
              " 'mercedes-benz,diesel,turbo,4,sedan,RWD,five,123,4350,22,25,31600',\n",
              " 'jaguar,gas,std,4,sedan,RWD,six,176,4750,15,19,32250',\n",
              " 'porsche,gas,std,2,hardtop,RWD,six,207,5900,17,25,32528',\n",
              " 'porsche,gas,std,2,hardtop,RWD,six,207,5900,17,25,34028',\n",
              " 'mercedes-benz,gas,std,4,sedan,RWD,eight,155,4750,16,18,34184',\n",
              " 'mercedes-benz,gas,std,2,convertible,RWD,eight,155,4750,16,18,35056',\n",
              " 'jaguar,gas,std,4,sedan,RWD,six,176,4750,15,19,35550',\n",
              " 'jaguar,gas,std,2,sedan,RWD,twelve,262,5000,13,17,36000',\n",
              " 'bmw,gas,std,4,sedan,RWD,six,182,5400,15,20,36880',\n",
              " 'porsche,gas,std,2,convertible,RWD,six,207,5900,17,25,37028',\n",
              " 'mercedes-benz,gas,std,4,sedan,RWD,eight,184,4500,14,16,40960',\n",
              " 'bmw,gas,std,2,sedan,RWD,six,182,5400,16,22,41315',\n",
              " 'mercedes-benz,gas,std,2,hardtop,RWD,eight,184,4500,14,16,45400']"
            ]
          },
          "metadata": {
            "tags": []
          },
          "execution_count": 27
        }
      ]
    },
    {
      "cell_type": "markdown",
      "metadata": {
        "id": "B1cEIPwcNxPv",
        "colab_type": "text"
      },
      "source": [
        "##   Actions"
      ]
    },
    {
      "cell_type": "code",
      "metadata": {
        "id": "MdA-yjQsNyEX",
        "colab_type": "code",
        "colab": {
          "base_uri": "https://localhost:8080/",
          "height": 34
        },
        "outputId": "9465665c-6a94-471e-bc7a-dcb08c06c7fb"
      },
      "source": [
        "#reduce - compute the sum\n",
        "collData.collect()\n",
        "collData.reduce(lambda x,y: x+y)"
      ],
      "execution_count": 28,
      "outputs": [
        {
          "output_type": "execute_result",
          "data": {
            "text/plain": [
              "28"
            ]
          },
          "metadata": {
            "tags": []
          },
          "execution_count": 28
        }
      ]
    },
    {
      "cell_type": "code",
      "metadata": {
        "id": "07kFsrceOK5y",
        "colab_type": "code",
        "colab": {
          "base_uri": "https://localhost:8080/",
          "height": 35
        },
        "outputId": "0986a387-f29e-43f6-d988-85055a1b2692"
      },
      "source": [
        "#find the shortest line\n",
        "autoData.reduce(lambda x,y: x if len(x) < len(y) else y)"
      ],
      "execution_count": 29,
      "outputs": [
        {
          "output_type": "execute_result",
          "data": {
            "application/vnd.google.colaboratory.intrinsic+json": {
              "type": "string"
            },
            "text/plain": [
              "'bmw,gas,std,two,sedan,rwd,six,182,5400,16,22,41315'"
            ]
          },
          "metadata": {
            "tags": []
          },
          "execution_count": 29
        }
      ]
    },
    {
      "cell_type": "code",
      "metadata": {
        "id": "ctUhlC1FOQ1i",
        "colab_type": "code",
        "colab": {
          "base_uri": "https://localhost:8080/",
          "height": 34
        },
        "outputId": "da441423-dc56-457d-ca3e-f96cd6517712"
      },
      "source": [
        "#Use a function to perform reduce \n",
        "def getMPG( autoStr) :\n",
        "    if isinstance(autoStr, int) :\n",
        "        return autoStr\n",
        "    attList=autoStr.split(\",\")\n",
        "    if attList[9].isdigit() :\n",
        "        return int(attList[9])\n",
        "    else:\n",
        "        return 0\n",
        "\n",
        "#find average MPG-City for all cars    \n",
        "autoData.reduce(lambda x,y : getMPG(x) + getMPG(y)) \\\n",
        "    / (autoData.count()-1.0)  # account for header line"
      ],
      "execution_count": 30,
      "outputs": [
        {
          "output_type": "execute_result",
          "data": {
            "text/plain": [
              "25.15228426395939"
            ]
          },
          "metadata": {
            "tags": []
          },
          "execution_count": 30
        }
      ]
    },
    {
      "cell_type": "markdown",
      "metadata": {
        "id": "wXhT1-sXOf_q",
        "colab_type": "text"
      },
      "source": [
        "##   Working with Key/Value RDDs"
      ]
    },
    {
      "cell_type": "code",
      "metadata": {
        "id": "lCKbKqQwOb6A",
        "colab_type": "code",
        "colab": {
          "base_uri": "https://localhost:8080/",
          "height": 101
        },
        "outputId": "4f6485c5-19a0-4b7b-9308-c6f27fe2bd5a"
      },
      "source": [
        "#create a KV RDD of auto Brand and Horsepower\n",
        "cylData = autoData.map( lambda x: ( x.split(\",\")[0], \\\n",
        "    x.split(\",\")[7]))\n",
        "cylData.take(5)\n"
      ],
      "execution_count": 32,
      "outputs": [
        {
          "output_type": "execute_result",
          "data": {
            "text/plain": [
              "[('MAKE', 'HP'),\n",
              " ('subaru', '69'),\n",
              " ('chevrolet', '48'),\n",
              " ('mazda', '68'),\n",
              " ('toyota', '62')]"
            ]
          },
          "metadata": {
            "tags": []
          },
          "execution_count": 32
        }
      ]
    },
    {
      "cell_type": "code",
      "metadata": {
        "id": "s7b8EHbmPOm7",
        "colab_type": "code",
        "colab": {
          "base_uri": "https://localhost:8080/",
          "height": 1000
        },
        "outputId": "4da3d480-4f11-467d-a476-504902a28e6b"
      },
      "source": [
        "cylData.keys().collect()"
      ],
      "execution_count": 33,
      "outputs": [
        {
          "output_type": "execute_result",
          "data": {
            "text/plain": [
              "['MAKE',\n",
              " 'subaru',\n",
              " 'chevrolet',\n",
              " 'mazda',\n",
              " 'toyota',\n",
              " 'mitsubishi',\n",
              " 'honda',\n",
              " 'nissan',\n",
              " 'dodge',\n",
              " 'plymouth',\n",
              " 'mazda',\n",
              " 'mitsubishi',\n",
              " 'dodge',\n",
              " 'plymouth',\n",
              " 'chevrolet',\n",
              " 'toyota',\n",
              " 'dodge',\n",
              " 'honda',\n",
              " 'toyota',\n",
              " 'honda',\n",
              " 'chevrolet',\n",
              " 'nissan',\n",
              " 'mitsubishi',\n",
              " 'dodge',\n",
              " 'plymouth',\n",
              " 'mazda',\n",
              " 'isuzu',\n",
              " 'mazda',\n",
              " 'nissan',\n",
              " 'honda',\n",
              " 'toyota',\n",
              " 'toyota',\n",
              " 'mitsubishi',\n",
              " 'subaru',\n",
              " 'nissan',\n",
              " 'subaru',\n",
              " 'honda',\n",
              " 'toyota',\n",
              " 'honda',\n",
              " 'honda',\n",
              " 'nissan',\n",
              " 'nissan',\n",
              " 'mazda',\n",
              " 'subaru',\n",
              " 'nissan',\n",
              " 'subaru',\n",
              " 'dodge',\n",
              " 'plymouth',\n",
              " 'mitsubishi',\n",
              " 'toyota',\n",
              " 'subaru',\n",
              " 'volkswagen',\n",
              " 'toyota',\n",
              " 'nissan',\n",
              " 'honda',\n",
              " 'toyota',\n",
              " 'toyota',\n",
              " 'dodge',\n",
              " 'plymouth',\n",
              " 'volkswagen',\n",
              " 'volkswagen',\n",
              " 'nissan',\n",
              " 'subaru',\n",
              " 'toyota',\n",
              " 'mitsubishi',\n",
              " 'volkswagen',\n",
              " 'toyota',\n",
              " 'nissan',\n",
              " 'toyota',\n",
              " 'toyota',\n",
              " 'mazda',\n",
              " 'volkswagen',\n",
              " 'mitsubishi',\n",
              " 'toyota',\n",
              " 'honda',\n",
              " 'mazda',\n",
              " 'dodge',\n",
              " 'plymouth',\n",
              " 'toyota',\n",
              " 'nissan',\n",
              " 'honda',\n",
              " 'subaru',\n",
              " 'toyota',\n",
              " 'mitsubishi',\n",
              " 'mitsubishi',\n",
              " 'toyota',\n",
              " 'volkswagen',\n",
              " 'toyota',\n",
              " 'nissan',\n",
              " 'toyota',\n",
              " 'mitsubishi',\n",
              " 'subaru',\n",
              " 'volkswagen',\n",
              " 'toyota',\n",
              " 'toyota',\n",
              " 'volkswagen',\n",
              " 'subaru',\n",
              " 'mazda',\n",
              " 'honda',\n",
              " 'honda',\n",
              " 'mazda',\n",
              " 'toyota',\n",
              " 'toyota',\n",
              " 'mazda',\n",
              " 'isuzu',\n",
              " 'toyota',\n",
              " 'mazda',\n",
              " 'toyota',\n",
              " 'subaru',\n",
              " 'toyota',\n",
              " 'volkswagen',\n",
              " 'subaru',\n",
              " 'mazda',\n",
              " 'saab',\n",
              " 'peugot',\n",
              " 'saab',\n",
              " 'volkswagen',\n",
              " 'peugot',\n",
              " 'mitsubishi',\n",
              " 'plymouth',\n",
              " 'volvo',\n",
              " 'honda',\n",
              " 'dodge',\n",
              " 'peugot',\n",
              " 'volkswagen',\n",
              " 'volvo',\n",
              " 'alfa-romero',\n",
              " 'nissan',\n",
              " 'nissan',\n",
              " 'mazda',\n",
              " 'volkswagen',\n",
              " 'peugot',\n",
              " 'audi',\n",
              " 'nissan',\n",
              " 'mitsubishi',\n",
              " 'mitsubishi',\n",
              " 'saab',\n",
              " 'audi',\n",
              " 'saab',\n",
              " 'peugot',\n",
              " 'mazda',\n",
              " 'toyota',\n",
              " 'toyota',\n",
              " 'volvo',\n",
              " 'toyota',\n",
              " 'bmw',\n",
              " 'alfa-romero',\n",
              " 'alfa-romero',\n",
              " 'mercury',\n",
              " 'volvo',\n",
              " 'toyota',\n",
              " 'peugot',\n",
              " 'peugot',\n",
              " 'volvo',\n",
              " 'peugot',\n",
              " 'bmw',\n",
              " 'peugot',\n",
              " 'nissan',\n",
              " 'audi',\n",
              " 'toyota',\n",
              " 'audi',\n",
              " 'peugot',\n",
              " 'peugot',\n",
              " 'saab',\n",
              " 'mazda',\n",
              " 'mazda',\n",
              " 'nissan',\n",
              " 'volvo',\n",
              " 'saab',\n",
              " 'audi',\n",
              " 'volvo',\n",
              " 'volvo',\n",
              " 'nissan',\n",
              " 'bmw',\n",
              " 'bmw',\n",
              " 'volvo',\n",
              " 'porsche',\n",
              " 'volvo',\n",
              " 'volvo',\n",
              " 'audi',\n",
              " 'bmw',\n",
              " 'mercedes-benz',\n",
              " 'mercedes-benz',\n",
              " 'mercedes-benz',\n",
              " 'bmw',\n",
              " 'mercedes-benz',\n",
              " 'jaguar',\n",
              " 'porsche',\n",
              " 'porsche',\n",
              " 'mercedes-benz',\n",
              " 'mercedes-benz',\n",
              " 'jaguar',\n",
              " 'jaguar',\n",
              " 'bmw',\n",
              " 'porsche',\n",
              " 'mercedes-benz',\n",
              " 'bmw',\n",
              " 'mercedes-benz']"
            ]
          },
          "metadata": {
            "tags": []
          },
          "execution_count": 33
        }
      ]
    },
    {
      "cell_type": "code",
      "metadata": {
        "id": "wi180m8QPVdf",
        "colab_type": "code",
        "colab": {
          "base_uri": "https://localhost:8080/",
          "height": 1000
        },
        "outputId": "5c2a860c-edcc-44af-dcc1-235f62619646"
      },
      "source": [
        "#Remove header row\n",
        "header = cylData.first()\n",
        "cylHPData= cylData.filter(lambda line: line != header)\n",
        "cylHPData.collect()"
      ],
      "execution_count": 36,
      "outputs": [
        {
          "output_type": "execute_result",
          "data": {
            "text/plain": [
              "[('subaru', '69'),\n",
              " ('chevrolet', '48'),\n",
              " ('mazda', '68'),\n",
              " ('toyota', '62'),\n",
              " ('mitsubishi', '68'),\n",
              " ('honda', '60'),\n",
              " ('nissan', '69'),\n",
              " ('dodge', '68'),\n",
              " ('plymouth', '68'),\n",
              " ('mazda', '68'),\n",
              " ('mitsubishi', '68'),\n",
              " ('dodge', '68'),\n",
              " ('plymouth', '68'),\n",
              " ('chevrolet', '70'),\n",
              " ('toyota', '62'),\n",
              " ('dodge', '68'),\n",
              " ('honda', '58'),\n",
              " ('toyota', '62'),\n",
              " ('honda', '76'),\n",
              " ('chevrolet', '70'),\n",
              " ('nissan', '69'),\n",
              " ('mitsubishi', '68'),\n",
              " ('dodge', '68'),\n",
              " ('plymouth', '68'),\n",
              " ('mazda', '68'),\n",
              " ('isuzu', '78'),\n",
              " ('mazda', '68'),\n",
              " ('nissan', '69'),\n",
              " ('honda', '76'),\n",
              " ('toyota', '62'),\n",
              " ('toyota', '70'),\n",
              " ('mitsubishi', '88'),\n",
              " ('subaru', '73'),\n",
              " ('nissan', '55'),\n",
              " ('subaru', '82'),\n",
              " ('honda', '76'),\n",
              " ('toyota', '70'),\n",
              " ('honda', '76'),\n",
              " ('honda', '76'),\n",
              " ('nissan', '69'),\n",
              " ('nissan', '69'),\n",
              " ('mazda', '68'),\n",
              " ('subaru', '82'),\n",
              " ('nissan', '69'),\n",
              " ('subaru', '73'),\n",
              " ('dodge', '68'),\n",
              " ('plymouth', '68'),\n",
              " ('mitsubishi', '102'),\n",
              " ('toyota', '70'),\n",
              " ('subaru', '82'),\n",
              " ('volkswagen', '52'),\n",
              " ('toyota', '56'),\n",
              " ('nissan', '69'),\n",
              " ('honda', '86'),\n",
              " ('toyota', '62'),\n",
              " ('toyota', '56'),\n",
              " ('dodge', '102'),\n",
              " ('plymouth', '102'),\n",
              " ('volkswagen', '85'),\n",
              " ('volkswagen', '52'),\n",
              " ('nissan', '69'),\n",
              " ('subaru', '82'),\n",
              " ('toyota', '70'),\n",
              " ('mitsubishi', '88'),\n",
              " ('volkswagen', '85'),\n",
              " ('toyota', '70'),\n",
              " ('nissan', '69'),\n",
              " ('toyota', '70'),\n",
              " ('toyota', '116'),\n",
              " ('mazda', '84'),\n",
              " ('volkswagen', '85'),\n",
              " ('mitsubishi', '88'),\n",
              " ('toyota', '62'),\n",
              " ('honda', '86'),\n",
              " ('mazda', '84'),\n",
              " ('dodge', '88'),\n",
              " ('plymouth', '88'),\n",
              " ('toyota', '92'),\n",
              " ('nissan', '97'),\n",
              " ('honda', '86'),\n",
              " ('subaru', '82'),\n",
              " ('toyota', '70'),\n",
              " ('mitsubishi', '116'),\n",
              " ('mitsubishi', '116'),\n",
              " ('toyota', '112'),\n",
              " ('volkswagen', '68'),\n",
              " ('toyota', '112'),\n",
              " ('nissan', '97'),\n",
              " ('toyota', '116'),\n",
              " ('mitsubishi', '116'),\n",
              " ('subaru', '94'),\n",
              " ('volkswagen', '90'),\n",
              " ('toyota', '92'),\n",
              " ('toyota', '116'),\n",
              " ('volkswagen', '100'),\n",
              " ('subaru', '94'),\n",
              " ('mazda', '84'),\n",
              " ('honda', '86'),\n",
              " ('honda', '100'),\n",
              " ('mazda', '84'),\n",
              " ('toyota', '73'),\n",
              " ('toyota', '92'),\n",
              " ('mazda', '101'),\n",
              " ('isuzu', '90'),\n",
              " ('toyota', '116'),\n",
              " ('mazda', '84'),\n",
              " ('toyota', '92'),\n",
              " ('subaru', '111'),\n",
              " ('toyota', '116'),\n",
              " ('volkswagen', '90'),\n",
              " ('subaru', '111'),\n",
              " ('mazda', '101'),\n",
              " ('saab', '110'),\n",
              " ('peugot', '97'),\n",
              " ('saab', '110'),\n",
              " ('volkswagen', '88'),\n",
              " ('peugot', '97'),\n",
              " ('mitsubishi', '145'),\n",
              " ('plymouth', '145'),\n",
              " ('volvo', '114'),\n",
              " ('honda', '101'),\n",
              " ('dodge', '145'),\n",
              " ('peugot', '95'),\n",
              " ('volkswagen', '110'),\n",
              " ('volvo', '114'),\n",
              " ('alfa-romero', '111'),\n",
              " ('nissan', '152'),\n",
              " ('nissan', '152'),\n",
              " ('mazda', '101'),\n",
              " ('volkswagen', '68'),\n",
              " ('peugot', '95'),\n",
              " ('audi', '102'),\n",
              " ('nissan', '152'),\n",
              " ('mitsubishi', '145'),\n",
              " ('mitsubishi', '145'),\n",
              " ('saab', '110'),\n",
              " ('audi', '110'),\n",
              " ('saab', '110'),\n",
              " ('peugot', '95'),\n",
              " ('mazda', '135'),\n",
              " ('toyota', '156'),\n",
              " ('toyota', '156'),\n",
              " ('volvo', '114'),\n",
              " ('toyota', '161'),\n",
              " ('bmw', '101'),\n",
              " ('alfa-romero', '111'),\n",
              " ('alfa-romero', '154'),\n",
              " ('mercury', '175'),\n",
              " ('volvo', '114'),\n",
              " ('toyota', '161'),\n",
              " ('peugot', '97'),\n",
              " ('peugot', '95'),\n",
              " ('volvo', '114'),\n",
              " ('peugot', '95'),\n",
              " ('bmw', '101'),\n",
              " ('peugot', '95'),\n",
              " ('nissan', '160'),\n",
              " ('audi', '115'),\n",
              " ('toyota', '116'),\n",
              " ('audi', '110'),\n",
              " ('peugot', '95'),\n",
              " ('peugot', '142'),\n",
              " ('saab', '160'),\n",
              " ('mazda', '120'),\n",
              " ('mazda', '72'),\n",
              " ('nissan', '160'),\n",
              " ('volvo', '162'),\n",
              " ('saab', '160'),\n",
              " ('audi', '110'),\n",
              " ('volvo', '162'),\n",
              " ('volvo', '160'),\n",
              " ('nissan', '200'),\n",
              " ('bmw', '121'),\n",
              " ('bmw', '121'),\n",
              " ('volvo', '134'),\n",
              " ('porsche', '143'),\n",
              " ('volvo', '106'),\n",
              " ('volvo', '114'),\n",
              " ('audi', '140'),\n",
              " ('bmw', '121'),\n",
              " ('mercedes-benz', '123'),\n",
              " ('mercedes-benz', '123'),\n",
              " ('mercedes-benz', '123'),\n",
              " ('bmw', '182'),\n",
              " ('mercedes-benz', '123'),\n",
              " ('jaguar', '176'),\n",
              " ('porsche', '207'),\n",
              " ('porsche', '207'),\n",
              " ('mercedes-benz', '155'),\n",
              " ('mercedes-benz', '155'),\n",
              " ('jaguar', '176'),\n",
              " ('jaguar', '262'),\n",
              " ('bmw', '182'),\n",
              " ('porsche', '207'),\n",
              " ('mercedes-benz', '184'),\n",
              " ('bmw', '182'),\n",
              " ('mercedes-benz', '184')]"
            ]
          },
          "metadata": {
            "tags": []
          },
          "execution_count": 36
        }
      ]
    },
    {
      "cell_type": "code",
      "metadata": {
        "id": "MdYB-aJ5Pc7K",
        "colab_type": "code",
        "colab": {
          "base_uri": "https://localhost:8080/",
          "height": 1000
        },
        "outputId": "5c9a26c0-41e0-4db0-b25b-118de86d9f61"
      },
      "source": [
        "#Find average HP by Brand\n",
        "#Add a count 1 to each record and then reduce to find totals of HP and counts\n",
        "addOne = cylHPData.mapValues(lambda x: (x, 1))\n",
        "addOne.collect()"
      ],
      "execution_count": 35,
      "outputs": [
        {
          "output_type": "execute_result",
          "data": {
            "text/plain": [
              "[('subaru', ('69', 1)),\n",
              " ('chevrolet', ('48', 1)),\n",
              " ('mazda', ('68', 1)),\n",
              " ('toyota', ('62', 1)),\n",
              " ('mitsubishi', ('68', 1)),\n",
              " ('honda', ('60', 1)),\n",
              " ('nissan', ('69', 1)),\n",
              " ('dodge', ('68', 1)),\n",
              " ('plymouth', ('68', 1)),\n",
              " ('mazda', ('68', 1)),\n",
              " ('mitsubishi', ('68', 1)),\n",
              " ('dodge', ('68', 1)),\n",
              " ('plymouth', ('68', 1)),\n",
              " ('chevrolet', ('70', 1)),\n",
              " ('toyota', ('62', 1)),\n",
              " ('dodge', ('68', 1)),\n",
              " ('honda', ('58', 1)),\n",
              " ('toyota', ('62', 1)),\n",
              " ('honda', ('76', 1)),\n",
              " ('chevrolet', ('70', 1)),\n",
              " ('nissan', ('69', 1)),\n",
              " ('mitsubishi', ('68', 1)),\n",
              " ('dodge', ('68', 1)),\n",
              " ('plymouth', ('68', 1)),\n",
              " ('mazda', ('68', 1)),\n",
              " ('isuzu', ('78', 1)),\n",
              " ('mazda', ('68', 1)),\n",
              " ('nissan', ('69', 1)),\n",
              " ('honda', ('76', 1)),\n",
              " ('toyota', ('62', 1)),\n",
              " ('toyota', ('70', 1)),\n",
              " ('mitsubishi', ('88', 1)),\n",
              " ('subaru', ('73', 1)),\n",
              " ('nissan', ('55', 1)),\n",
              " ('subaru', ('82', 1)),\n",
              " ('honda', ('76', 1)),\n",
              " ('toyota', ('70', 1)),\n",
              " ('honda', ('76', 1)),\n",
              " ('honda', ('76', 1)),\n",
              " ('nissan', ('69', 1)),\n",
              " ('nissan', ('69', 1)),\n",
              " ('mazda', ('68', 1)),\n",
              " ('subaru', ('82', 1)),\n",
              " ('nissan', ('69', 1)),\n",
              " ('subaru', ('73', 1)),\n",
              " ('dodge', ('68', 1)),\n",
              " ('plymouth', ('68', 1)),\n",
              " ('mitsubishi', ('102', 1)),\n",
              " ('toyota', ('70', 1)),\n",
              " ('subaru', ('82', 1)),\n",
              " ('volkswagen', ('52', 1)),\n",
              " ('toyota', ('56', 1)),\n",
              " ('nissan', ('69', 1)),\n",
              " ('honda', ('86', 1)),\n",
              " ('toyota', ('62', 1)),\n",
              " ('toyota', ('56', 1)),\n",
              " ('dodge', ('102', 1)),\n",
              " ('plymouth', ('102', 1)),\n",
              " ('volkswagen', ('85', 1)),\n",
              " ('volkswagen', ('52', 1)),\n",
              " ('nissan', ('69', 1)),\n",
              " ('subaru', ('82', 1)),\n",
              " ('toyota', ('70', 1)),\n",
              " ('mitsubishi', ('88', 1)),\n",
              " ('volkswagen', ('85', 1)),\n",
              " ('toyota', ('70', 1)),\n",
              " ('nissan', ('69', 1)),\n",
              " ('toyota', ('70', 1)),\n",
              " ('toyota', ('116', 1)),\n",
              " ('mazda', ('84', 1)),\n",
              " ('volkswagen', ('85', 1)),\n",
              " ('mitsubishi', ('88', 1)),\n",
              " ('toyota', ('62', 1)),\n",
              " ('honda', ('86', 1)),\n",
              " ('mazda', ('84', 1)),\n",
              " ('dodge', ('88', 1)),\n",
              " ('plymouth', ('88', 1)),\n",
              " ('toyota', ('92', 1)),\n",
              " ('nissan', ('97', 1)),\n",
              " ('honda', ('86', 1)),\n",
              " ('subaru', ('82', 1)),\n",
              " ('toyota', ('70', 1)),\n",
              " ('mitsubishi', ('116', 1)),\n",
              " ('mitsubishi', ('116', 1)),\n",
              " ('toyota', ('112', 1)),\n",
              " ('volkswagen', ('68', 1)),\n",
              " ('toyota', ('112', 1)),\n",
              " ('nissan', ('97', 1)),\n",
              " ('toyota', ('116', 1)),\n",
              " ('mitsubishi', ('116', 1)),\n",
              " ('subaru', ('94', 1)),\n",
              " ('volkswagen', ('90', 1)),\n",
              " ('toyota', ('92', 1)),\n",
              " ('toyota', ('116', 1)),\n",
              " ('volkswagen', ('100', 1)),\n",
              " ('subaru', ('94', 1)),\n",
              " ('mazda', ('84', 1)),\n",
              " ('honda', ('86', 1)),\n",
              " ('honda', ('100', 1)),\n",
              " ('mazda', ('84', 1)),\n",
              " ('toyota', ('73', 1)),\n",
              " ('toyota', ('92', 1)),\n",
              " ('mazda', ('101', 1)),\n",
              " ('isuzu', ('90', 1)),\n",
              " ('toyota', ('116', 1)),\n",
              " ('mazda', ('84', 1)),\n",
              " ('toyota', ('92', 1)),\n",
              " ('subaru', ('111', 1)),\n",
              " ('toyota', ('116', 1)),\n",
              " ('volkswagen', ('90', 1)),\n",
              " ('subaru', ('111', 1)),\n",
              " ('mazda', ('101', 1)),\n",
              " ('saab', ('110', 1)),\n",
              " ('peugot', ('97', 1)),\n",
              " ('saab', ('110', 1)),\n",
              " ('volkswagen', ('88', 1)),\n",
              " ('peugot', ('97', 1)),\n",
              " ('mitsubishi', ('145', 1)),\n",
              " ('plymouth', ('145', 1)),\n",
              " ('volvo', ('114', 1)),\n",
              " ('honda', ('101', 1)),\n",
              " ('dodge', ('145', 1)),\n",
              " ('peugot', ('95', 1)),\n",
              " ('volkswagen', ('110', 1)),\n",
              " ('volvo', ('114', 1)),\n",
              " ('alfa-romero', ('111', 1)),\n",
              " ('nissan', ('152', 1)),\n",
              " ('nissan', ('152', 1)),\n",
              " ('mazda', ('101', 1)),\n",
              " ('volkswagen', ('68', 1)),\n",
              " ('peugot', ('95', 1)),\n",
              " ('audi', ('102', 1)),\n",
              " ('nissan', ('152', 1)),\n",
              " ('mitsubishi', ('145', 1)),\n",
              " ('mitsubishi', ('145', 1)),\n",
              " ('saab', ('110', 1)),\n",
              " ('audi', ('110', 1)),\n",
              " ('saab', ('110', 1)),\n",
              " ('peugot', ('95', 1)),\n",
              " ('mazda', ('135', 1)),\n",
              " ('toyota', ('156', 1)),\n",
              " ('toyota', ('156', 1)),\n",
              " ('volvo', ('114', 1)),\n",
              " ('toyota', ('161', 1)),\n",
              " ('bmw', ('101', 1)),\n",
              " ('alfa-romero', ('111', 1)),\n",
              " ('alfa-romero', ('154', 1)),\n",
              " ('mercury', ('175', 1)),\n",
              " ('volvo', ('114', 1)),\n",
              " ('toyota', ('161', 1)),\n",
              " ('peugot', ('97', 1)),\n",
              " ('peugot', ('95', 1)),\n",
              " ('volvo', ('114', 1)),\n",
              " ('peugot', ('95', 1)),\n",
              " ('bmw', ('101', 1)),\n",
              " ('peugot', ('95', 1)),\n",
              " ('nissan', ('160', 1)),\n",
              " ('audi', ('115', 1)),\n",
              " ('toyota', ('116', 1)),\n",
              " ('audi', ('110', 1)),\n",
              " ('peugot', ('95', 1)),\n",
              " ('peugot', ('142', 1)),\n",
              " ('saab', ('160', 1)),\n",
              " ('mazda', ('120', 1)),\n",
              " ('mazda', ('72', 1)),\n",
              " ('nissan', ('160', 1)),\n",
              " ('volvo', ('162', 1)),\n",
              " ('saab', ('160', 1)),\n",
              " ('audi', ('110', 1)),\n",
              " ('volvo', ('162', 1)),\n",
              " ('volvo', ('160', 1)),\n",
              " ('nissan', ('200', 1)),\n",
              " ('bmw', ('121', 1)),\n",
              " ('bmw', ('121', 1)),\n",
              " ('volvo', ('134', 1)),\n",
              " ('porsche', ('143', 1)),\n",
              " ('volvo', ('106', 1)),\n",
              " ('volvo', ('114', 1)),\n",
              " ('audi', ('140', 1)),\n",
              " ('bmw', ('121', 1)),\n",
              " ('mercedes-benz', ('123', 1)),\n",
              " ('mercedes-benz', ('123', 1)),\n",
              " ('mercedes-benz', ('123', 1)),\n",
              " ('bmw', ('182', 1)),\n",
              " ('mercedes-benz', ('123', 1)),\n",
              " ('jaguar', ('176', 1)),\n",
              " ('porsche', ('207', 1)),\n",
              " ('porsche', ('207', 1)),\n",
              " ('mercedes-benz', ('155', 1)),\n",
              " ('mercedes-benz', ('155', 1)),\n",
              " ('jaguar', ('176', 1)),\n",
              " ('jaguar', ('262', 1)),\n",
              " ('bmw', ('182', 1)),\n",
              " ('porsche', ('207', 1)),\n",
              " ('mercedes-benz', ('184', 1)),\n",
              " ('bmw', ('182', 1)),\n",
              " ('mercedes-benz', ('184', 1))]"
            ]
          },
          "metadata": {
            "tags": []
          },
          "execution_count": 35
        }
      ]
    },
    {
      "cell_type": "code",
      "metadata": {
        "id": "muHkUvbhRDtv",
        "colab_type": "code",
        "colab": {
          "base_uri": "https://localhost:8080/",
          "height": 370
        },
        "outputId": "0d1cd24d-705e-4571-adf1-7decdee40778"
      },
      "source": [
        "brandValues= addOne \\\n",
        "    .reduceByKey(lambda x, y: (int(x[0]) + int(y[0]), \\\n",
        "    x[1] + y[1])) \n",
        "brandValues.collect()"
      ],
      "execution_count": 37,
      "outputs": [
        {
          "output_type": "execute_result",
          "data": {
            "text/plain": [
              "[('chevrolet', (188, 3)),\n",
              " ('mazda', (1390, 16)),\n",
              " ('mitsubishi', (1353, 13)),\n",
              " ('nissan', (1846, 18)),\n",
              " ('dodge', (675, 8)),\n",
              " ('plymouth', (607, 7)),\n",
              " ('saab', (760, 6)),\n",
              " ('volvo', (1408, 11)),\n",
              " ('alfa-romero', (376, 3)),\n",
              " ('mercedes-benz', (1170, 8)),\n",
              " ('jaguar', (614, 3)),\n",
              " ('subaru', (1035, 12)),\n",
              " ('toyota', (2969, 32)),\n",
              " ('honda', (1043, 13)),\n",
              " ('isuzu', (168, 2)),\n",
              " ('volkswagen', (973, 12)),\n",
              " ('peugot', (1098, 11)),\n",
              " ('audi', (687, 6)),\n",
              " ('bmw', (1111, 8)),\n",
              " ('mercury', ('175', 1)),\n",
              " ('porsche', (764, 4))]"
            ]
          },
          "metadata": {
            "tags": []
          },
          "execution_count": 37
        }
      ]
    },
    {
      "cell_type": "code",
      "metadata": {
        "id": "g3bZ0ZJ9RjHE",
        "colab_type": "code",
        "colab": {
          "base_uri": "https://localhost:8080/",
          "height": 370
        },
        "outputId": "c0f8c694-ac99-4ee2-9e5a-06d2774dd0c9"
      },
      "source": [
        "#find average by dividing HP total by count total\n",
        "brandValues.mapValues(lambda x: int(x[0])/int(x[1])). \\\n",
        "    collect()"
      ],
      "execution_count": 38,
      "outputs": [
        {
          "output_type": "execute_result",
          "data": {
            "text/plain": [
              "[('chevrolet', 62.666666666666664),\n",
              " ('mazda', 86.875),\n",
              " ('mitsubishi', 104.07692307692308),\n",
              " ('nissan', 102.55555555555556),\n",
              " ('dodge', 84.375),\n",
              " ('plymouth', 86.71428571428571),\n",
              " ('saab', 126.66666666666667),\n",
              " ('volvo', 128.0),\n",
              " ('alfa-romero', 125.33333333333333),\n",
              " ('mercedes-benz', 146.25),\n",
              " ('jaguar', 204.66666666666666),\n",
              " ('subaru', 86.25),\n",
              " ('toyota', 92.78125),\n",
              " ('honda', 80.23076923076923),\n",
              " ('isuzu', 84.0),\n",
              " ('volkswagen', 81.08333333333333),\n",
              " ('peugot', 99.81818181818181),\n",
              " ('audi', 114.5),\n",
              " ('bmw', 138.875),\n",
              " ('mercury', 175.0),\n",
              " ('porsche', 191.0)]"
            ]
          },
          "metadata": {
            "tags": []
          },
          "execution_count": 38
        }
      ]
    },
    {
      "cell_type": "code",
      "metadata": {
        "id": "CnX6AJ-IRt1P",
        "colab_type": "code",
        "colab": {}
      },
      "source": [
        ""
      ],
      "execution_count": null,
      "outputs": []
    },
    {
      "cell_type": "markdown",
      "metadata": {
        "id": "DeWyZB86SByj",
        "colab_type": "text"
      },
      "source": [
        "##   Advanced Spark : Accumulators & Broadcast Variables"
      ]
    },
    {
      "cell_type": "code",
      "metadata": {
        "id": "EwFNYNgNSCej",
        "colab_type": "code",
        "colab": {
          "base_uri": "https://localhost:8080/",
          "height": 34
        },
        "outputId": "4906e6ea-7cb7-4aa1-8ed1-1252b4d95b67"
      },
      "source": [
        "#function that splits the line as well as counts sedans and hatchbacks\n",
        "#Speed optimization\n",
        "\n",
        "    \n",
        "#Initialize accumulator\n",
        "sedanCount = SpContext.accumulator(0)\n",
        "hatchbackCount =SpContext.accumulator(0)\n",
        "\n",
        "#Set Broadcast variable\n",
        "sedanText=SpContext.broadcast(\"sedan\")\n",
        "hatchbackText=SpContext.broadcast(\"hatchback\")\n",
        "\n",
        "def splitLines(line) :\n",
        "\n",
        "    global sedanCount\n",
        "    global hatchbackCount\n",
        "\n",
        "    #Use broadcast variable to do comparison and set accumulator\n",
        "    if sedanText.value in line:\n",
        "        sedanCount +=1\n",
        "    if hatchbackText.value in line:\n",
        "        hatchbackCount +=1\n",
        "        \n",
        "    return line.split(\",\")\n",
        "\n",
        "\n",
        "#do the map\n",
        "splitData=autoData.map(splitLines)\n",
        "\n",
        "#Make it execute the map (lazy execution)\n",
        "splitData.count()\n",
        "print(sedanCount, hatchbackCount)"
      ],
      "execution_count": 39,
      "outputs": [
        {
          "output_type": "stream",
          "text": [
            "92 67\n"
          ],
          "name": "stdout"
        }
      ]
    },
    {
      "cell_type": "markdown",
      "metadata": {
        "id": "MhOkK9e1STrn",
        "colab_type": "text"
      },
      "source": [
        "##   Advanced Spark : Partitions"
      ]
    },
    {
      "cell_type": "code",
      "metadata": {
        "id": "tY4tdHZdSIAR",
        "colab_type": "code",
        "colab": {
          "base_uri": "https://localhost:8080/",
          "height": 34
        },
        "outputId": "fda36fce-e5bd-464c-db1a-e0f9a8ba8a05"
      },
      "source": [
        "collData.getNumPartitions()\n",
        "\n",
        "#Specify no. of partitions.\n",
        "collData=SpContext.parallelize([3,5,4,7,4],4)\n",
        "collData.cache()\n",
        "collData.count()\n",
        "\n",
        "collData.getNumPartitions()"
      ],
      "execution_count": 40,
      "outputs": [
        {
          "output_type": "execute_result",
          "data": {
            "text/plain": [
              "4"
            ]
          },
          "metadata": {
            "tags": []
          },
          "execution_count": 40
        }
      ]
    },
    {
      "cell_type": "code",
      "metadata": {
        "id": "eqZc4P5RSXC8",
        "colab_type": "code",
        "colab": {}
      },
      "source": [
        ""
      ],
      "execution_count": null,
      "outputs": []
    }
  ]
}