{
  "nbformat": 4,
  "nbformat_minor": 0,
  "metadata": {
    "colab": {
      "name": "Spark Recommendations.ipynb",
      "provenance": []
    },
    "kernelspec": {
      "name": "python3",
      "display_name": "Python 3"
    }
  },
  "cells": [
    {
      "cell_type": "code",
      "metadata": {
        "id": "4dSPVYiXDMup",
        "colab_type": "code",
        "colab": {
          "base_uri": "https://localhost:8080/",
          "height": 255
        },
        "outputId": "57deaacf-9f4b-40ed-9e28-6a62343fbbe0"
      },
      "source": [
        "!pip install pyspark"
      ],
      "execution_count": 2,
      "outputs": [
        {
          "output_type": "stream",
          "text": [
            "Collecting pyspark\n",
            "\u001b[?25l  Downloading https://files.pythonhosted.org/packages/8e/b0/bf9020b56492281b9c9d8aae8f44ff51e1bc91b3ef5a884385cb4e389a40/pyspark-3.0.0.tar.gz (204.7MB)\n",
            "\u001b[K     |████████████████████████████████| 204.7MB 66kB/s \n",
            "\u001b[?25hCollecting py4j==0.10.9\n",
            "\u001b[?25l  Downloading https://files.pythonhosted.org/packages/9e/b6/6a4fb90cd235dc8e265a6a2067f2a2c99f0d91787f06aca4bcf7c23f3f80/py4j-0.10.9-py2.py3-none-any.whl (198kB)\n",
            "\u001b[K     |████████████████████████████████| 204kB 19.9MB/s \n",
            "\u001b[?25hBuilding wheels for collected packages: pyspark\n",
            "  Building wheel for pyspark (setup.py) ... \u001b[?25l\u001b[?25hdone\n",
            "  Created wheel for pyspark: filename=pyspark-3.0.0-py2.py3-none-any.whl size=205044182 sha256=2dc319bad8ba62c99f61e7488d00a41a8c4ceae159067e2c865b4429035559a0\n",
            "  Stored in directory: /root/.cache/pip/wheels/57/27/4d/ddacf7143f8d5b76c45c61ee2e43d9f8492fc5a8e78ebd7d37\n",
            "Successfully built pyspark\n",
            "Installing collected packages: py4j, pyspark\n",
            "Successfully installed py4j-0.10.9 pyspark-3.0.0\n"
          ],
          "name": "stdout"
        }
      ]
    },
    {
      "cell_type": "code",
      "metadata": {
        "id": "Mo35Y6V5GI5p",
        "colab_type": "code",
        "colab": {}
      },
      "source": [
        ""
      ],
      "execution_count": null,
      "outputs": []
    },
    {
      "cell_type": "code",
      "metadata": {
        "id": "9AG7HgIPS3w1",
        "colab_type": "code",
        "colab": {}
      },
      "source": [
        ""
      ],
      "execution_count": null,
      "outputs": []
    },
    {
      "cell_type": "code",
      "metadata": {
        "id": "-RoFH6QNGcRs",
        "colab_type": "code",
        "colab": {}
      },
      "source": [
        "#Initialize SparkSession and SparkContext\n",
        "from pyspark.sql import SparkSession\n",
        "from pyspark import SparkContext"
      ],
      "execution_count": 3,
      "outputs": []
    },
    {
      "cell_type": "code",
      "metadata": {
        "id": "2B2rfu7sG9eh",
        "colab_type": "code",
        "colab": {}
      },
      "source": [
        "#Create a Spark Session\n",
        "SpSession = SparkSession.builder.master(\"local[*]\").getOrCreate()"
      ],
      "execution_count": 4,
      "outputs": []
    },
    {
      "cell_type": "code",
      "metadata": {
        "id": "f1_30ZR3Ha47",
        "colab_type": "code",
        "colab": {}
      },
      "source": [
        "#Get the Spark Context from Spark Session    \n",
        "SpContext = SpSession.sparkContext"
      ],
      "execution_count": 5,
      "outputs": []
    },
    {
      "cell_type": "code",
      "metadata": {
        "id": "-7xZTfYOm95z",
        "colab_type": "code",
        "colab": {
          "base_uri": "https://localhost:8080/",
          "height": 655
        },
        "outputId": "e9372bcb-6063-4edf-973f-39d7b359fef2"
      },
      "source": [
        "#Load the data file in ALS format (user, item, rating)\n",
        "ratingsData = SpContext.textFile(\"/content/drive/My Drive/UserItemData.txt\")\n",
        "ratingsData.collect()\n"
      ],
      "execution_count": 20,
      "outputs": [
        {
          "output_type": "execute_result",
          "data": {
            "text/plain": [
              "['1001,9001,10',\n",
              " '1001,9002,1',\n",
              " '1001,9003,9',\n",
              " '1002,9001,3',\n",
              " '1002,9002,5',\n",
              " '1002,9003,1',\n",
              " '1002,9004,10',\n",
              " '1003,9001,2',\n",
              " '1003,9002,6',\n",
              " '1003,9003,2',\n",
              " '1003,9004,9',\n",
              " '1003,9005,10',\n",
              " '1003,9006,8',\n",
              " '1003,9007,9',\n",
              " '1004,9001,9',\n",
              " '1004,9002,2',\n",
              " '1004,9003,8',\n",
              " '1004,9004,3',\n",
              " '1004,9010,10',\n",
              " '1004,9011,9',\n",
              " '1004,9012,8',\n",
              " '1005,9001,8',\n",
              " '1005,9002,3',\n",
              " '1005,9003,7',\n",
              " '1005,9004,1',\n",
              " '1005,9010,9',\n",
              " '1005,9011,10',\n",
              " '1005,9012,9',\n",
              " '1005,9013,8',\n",
              " '1005,9014,1',\n",
              " '1005,9015,1',\n",
              " '1006,9001,7',\n",
              " '1006,9002,4',\n",
              " '1006,9003,8',\n",
              " '1006,9004,1',\n",
              " '1006,9010,7',\n",
              " '1006,9011,6',\n",
              " '1006,9012,9']"
            ]
          },
          "metadata": {
            "tags": []
          },
          "execution_count": 20
        }
      ]
    },
    {
      "cell_type": "code",
      "metadata": {
        "id": "AYdGPAm-p82H",
        "colab_type": "code",
        "colab": {}
      },
      "source": [
        "#Convert the strings into a proper vector\n",
        "ratingVector=ratingsData.map(lambda l: l.split(','))\\\n",
        "        .map(lambda l:(int(l[0]), int(l[1]), float(l[2])))\n",
        "\n",
        "#Build a SQL Dataframe\n",
        "ratingsDf=SpSession.createDataFrame(ratingVector, \\\n",
        "            [\"user\",\"item\",\"rating\"])\n"
      ],
      "execution_count": 21,
      "outputs": []
    },
    {
      "cell_type": "code",
      "metadata": {
        "id": "6yEf_5dn14I7",
        "colab_type": "code",
        "colab": {}
      },
      "source": [
        "#build the model based on ALS\n",
        "from pyspark.ml.recommendation import ALS\n",
        "als = ALS(rank=10, maxIter=5)\n",
        "model = als.fit(ratingsDf)"
      ],
      "execution_count": 22,
      "outputs": []
    },
    {
      "cell_type": "code",
      "metadata": {
        "id": "IXY7ue5t14Fm",
        "colab_type": "code",
        "colab": {
          "base_uri": "https://localhost:8080/",
          "height": 138
        },
        "outputId": "3ffc0cd6-9731-4e30-a0d6-1b32f2056d8a"
      },
      "source": [
        "\n",
        "model.userFactors.orderBy(\"id\").collect()"
      ],
      "execution_count": 23,
      "outputs": [
        {
          "output_type": "execute_result",
          "data": {
            "text/plain": [
              "[Row(id=1001, features=[-0.7111058831214905, -0.4655403792858124, -0.5526246428489685, 0.05449123680591583, 0.10721896588802338, 0.15857446193695068, -0.9199193120002747, 0.9160863757133484, 0.827067494392395, 0.22367244958877563]),\n",
              " Row(id=1002, features=[-0.053237274289131165, 1.1351085901260376, 0.2518637776374817, -0.7319645285606384, 1.1256179809570312, -0.21404491364955902, -0.000969590968452394, 0.5095397233963013, -0.32465288043022156, 0.314593106508255]),\n",
              " Row(id=1003, features=[0.10029527544975281, 1.0456218719482422, 0.2734657824039459, -0.04982317239046097, 0.8296935558319092, -0.5945821404457092, -0.2038547396659851, 0.42615535855293274, -0.6098006963729858, 0.10262810438871384]),\n",
              " Row(id=1004, features=[-0.42074036598205566, -0.03923485428094864, -0.36363741755485535, -0.38663432002067566, 0.3423798084259033, -0.03477495536208153, -0.9704579710960388, 0.893308162689209, 0.6319288611412048, 0.1686072051525116]),\n",
              " Row(id=1005, features=[-0.9128438830375671, 0.010020911693572998, -0.4328134059906006, 0.6857911348342896, 0.45958036184310913, 0.19143342971801758, -0.26102229952812195, 0.7560794353485107, 0.31675270199775696, 0.4289506673812866]),\n",
              " Row(id=1006, features=[-0.1789371222257614, -0.10114414989948273, -0.18415184319019318, 1.0841740369796753, -0.07958627492189407, -0.7828258275985718, -1.0265060663223267, 0.6870229840278625, -0.16553939878940582, -0.1569376438856125])]"
            ]
          },
          "metadata": {
            "tags": []
          },
          "execution_count": 23
        }
      ]
    },
    {
      "cell_type": "code",
      "metadata": {
        "id": "lE9IoIhE17-D",
        "colab_type": "code",
        "colab": {
          "base_uri": "https://localhost:8080/",
          "height": 67
        },
        "outputId": "a95af84b-36b5-4ba4-a91a-3285579a2c9c"
      },
      "source": [
        "#Create a test data set of users and items you want ratings for\n",
        "testDf = SpSession.createDataFrame(   \\\n",
        "        [(1001, 9003),(1001,9004),(1001,9005)], \\\n",
        "        [\"user\",\"item\"])\n",
        "\n",
        "#Predict            \n",
        "predictions=(model.transform(testDf).collect())\n",
        "predictions"
      ],
      "execution_count": 24,
      "outputs": [
        {
          "output_type": "execute_result",
          "data": {
            "text/plain": [
              "[Row(user=1001, item=9004, prediction=-0.46119219064712524),\n",
              " Row(user=1001, item=9005, prediction=-2.4024291038513184),\n",
              " Row(user=1001, item=9003, prediction=8.996182441711426)]"
            ]
          },
          "metadata": {
            "tags": []
          },
          "execution_count": 24
        }
      ]
    }
  ]
}