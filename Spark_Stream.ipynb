{
  "nbformat": 4,
  "nbformat_minor": 0,
  "metadata": {
    "colab": {
      "name": "Spark Stream.ipynb",
      "provenance": []
    },
    "kernelspec": {
      "name": "python3",
      "display_name": "Python 3"
    }
  },
  "cells": [
    {
      "cell_type": "code",
      "metadata": {
        "id": "4dSPVYiXDMup",
        "colab_type": "code",
        "colab": {
          "base_uri": "https://localhost:8080/",
          "height": 255
        },
        "outputId": "8d9a4775-ad17-45f1-ada0-d428da772d57"
      },
      "source": [
        "!pip install pyspark"
      ],
      "execution_count": 2,
      "outputs": [
        {
          "output_type": "stream",
          "text": [
            "Collecting pyspark\n",
            "\u001b[?25l  Downloading https://files.pythonhosted.org/packages/8e/b0/bf9020b56492281b9c9d8aae8f44ff51e1bc91b3ef5a884385cb4e389a40/pyspark-3.0.0.tar.gz (204.7MB)\n",
            "\u001b[K     |████████████████████████████████| 204.7MB 66kB/s \n",
            "\u001b[?25hCollecting py4j==0.10.9\n",
            "\u001b[?25l  Downloading https://files.pythonhosted.org/packages/9e/b6/6a4fb90cd235dc8e265a6a2067f2a2c99f0d91787f06aca4bcf7c23f3f80/py4j-0.10.9-py2.py3-none-any.whl (198kB)\n",
            "\u001b[K     |████████████████████████████████| 204kB 46.5MB/s \n",
            "\u001b[?25hBuilding wheels for collected packages: pyspark\n",
            "  Building wheel for pyspark (setup.py) ... \u001b[?25l\u001b[?25hdone\n",
            "  Created wheel for pyspark: filename=pyspark-3.0.0-py2.py3-none-any.whl size=205044182 sha256=571287c4ed8ddc854c840e30b103cb31580d5fe3331ab44a28f541d12b4239a1\n",
            "  Stored in directory: /root/.cache/pip/wheels/57/27/4d/ddacf7143f8d5b76c45c61ee2e43d9f8492fc5a8e78ebd7d37\n",
            "Successfully built pyspark\n",
            "Installing collected packages: py4j, pyspark\n",
            "Successfully installed py4j-0.10.9 pyspark-3.0.0\n"
          ],
          "name": "stdout"
        }
      ]
    },
    {
      "cell_type": "code",
      "metadata": {
        "id": "Mo35Y6V5GI5p",
        "colab_type": "code",
        "colab": {}
      },
      "source": [
        ""
      ],
      "execution_count": 2,
      "outputs": []
    },
    {
      "cell_type": "code",
      "metadata": {
        "id": "-RoFH6QNGcRs",
        "colab_type": "code",
        "colab": {}
      },
      "source": [
        "#Initialize SparkSession and SparkContext\n",
        "from pyspark.sql import SparkSession\n",
        "from pyspark import SparkContext"
      ],
      "execution_count": 3,
      "outputs": []
    },
    {
      "cell_type": "code",
      "metadata": {
        "id": "2B2rfu7sG9eh",
        "colab_type": "code",
        "colab": {}
      },
      "source": [
        "#Create a Spark Session\n",
        "SpSession = SparkSession.builder.master(\"local[*]\").getOrCreate()"
      ],
      "execution_count": 11,
      "outputs": []
    },
    {
      "cell_type": "code",
      "metadata": {
        "id": "f1_30ZR3Ha47",
        "colab_type": "code",
        "colab": {}
      },
      "source": [
        "#Get the Spark Context from Spark Session    \n",
        "SpContext = SpSession.sparkContext"
      ],
      "execution_count": 11,
      "outputs": []
    },
    {
      "cell_type": "code",
      "metadata": {
        "id": "l_LACjFfOuWC",
        "colab_type": "code",
        "colab": {
          "base_uri": "https://localhost:8080/",
          "height": 1000
        },
        "outputId": "87beca5e-6521-47d3-95f5-41ef9fa171ac"
      },
      "source": [
        "from operator import add, sub\n",
        "from time import sleep\n",
        "from pyspark import SparkContext\n",
        "from pyspark.streaming import StreamingContext\n",
        "# Set up the Spark context and the streaming context\n",
        "#sc = SparkContext(appName=\"PysparkNotebook\")\n",
        "ssc = StreamingContext(SpContext, 1)\n",
        "# Input data\n",
        "rddQueue = []\n",
        "for i in range(5):\n",
        "    rddQueue += [ssc.sparkContext.parallelize([i, i+1])]\n",
        "inputStream = ssc.queueStream(rddQueue)\n",
        "inputStream.map(lambda x: \"Input: \" + str(x)).pprint()\n",
        "inputStream.reduce(add)\\\n",
        "    .map(lambda x: \"Output: \" + str(x))\\\n",
        "    .pprint()\n",
        "ssc.start()\n",
        "sleep(5)\n",
        "ssc.stop(stopSparkContext=True, stopGraceFully=True)"
      ],
      "execution_count": 14,
      "outputs": [
        {
          "output_type": "stream",
          "text": [
            "-------------------------------------------\n",
            "Time: 2020-08-24 20:59:57\n",
            "-------------------------------------------\n",
            "Input: 0\n",
            "Input: 1\n",
            "\n",
            "-------------------------------------------\n",
            "Time: 2020-08-24 20:59:57\n",
            "-------------------------------------------\n",
            "Output: 1\n",
            "\n",
            "-------------------------------------------\n",
            "Time: 2020-08-24 20:59:58\n",
            "-------------------------------------------\n",
            "Input: 1\n",
            "Input: 2\n",
            "\n",
            "-------------------------------------------\n",
            "Time: 2020-08-24 20:59:58\n",
            "-------------------------------------------\n",
            "Output: 3\n",
            "\n",
            "-------------------------------------------\n",
            "Time: 2020-08-24 20:59:59\n",
            "-------------------------------------------\n",
            "Input: 2\n",
            "Input: 3\n",
            "\n",
            "-------------------------------------------\n",
            "Time: 2020-08-24 20:59:59\n",
            "-------------------------------------------\n",
            "Output: 5\n",
            "\n",
            "-------------------------------------------\n",
            "Time: 2020-08-24 21:00:00\n",
            "-------------------------------------------\n",
            "Input: 3\n",
            "Input: 4\n",
            "\n",
            "-------------------------------------------\n",
            "Time: 2020-08-24 21:00:00\n",
            "-------------------------------------------\n",
            "Output: 7\n",
            "\n",
            "-------------------------------------------\n",
            "Time: 2020-08-24 21:00:01\n",
            "-------------------------------------------\n",
            "Input: 4\n",
            "Input: 5\n",
            "\n",
            "-------------------------------------------\n",
            "Time: 2020-08-24 21:00:01\n",
            "-------------------------------------------\n",
            "Output: 9\n",
            "\n",
            "-------------------------------------------\n",
            "Time: 2020-08-24 21:00:02\n",
            "-------------------------------------------\n",
            "\n",
            "-------------------------------------------\n",
            "Time: 2020-08-24 21:00:02\n",
            "-------------------------------------------\n",
            "\n",
            "-------------------------------------------\n",
            "Time: 2020-08-24 21:00:03\n",
            "-------------------------------------------\n",
            "\n",
            "-------------------------------------------\n",
            "Time: 2020-08-24 21:00:03\n",
            "-------------------------------------------\n",
            "\n"
          ],
          "name": "stdout"
        }
      ]
    },
    {
      "cell_type": "code",
      "metadata": {
        "id": "Jy0Lp4QvPMrI",
        "colab_type": "code",
        "colab": {
          "base_uri": "https://localhost:8080/",
          "height": 571
        },
        "outputId": "da644990-5751-4a47-ce58-9e25c1aa5ef3"
      },
      "source": [
        "sc = SparkContext(appName=\"PysparkNotebook\")\n",
        "ssc = StreamingContext(sc, 1)\n",
        "inputData = [\n",
        "    [1,2,3],\n",
        "    [0],\n",
        "    [4,4,4],\n",
        "    [0,0,0,25],\n",
        "    [1,-1,10],\n",
        "]\n",
        "rddQueue = []\n",
        "for datum in inputData:\n",
        "    rddQueue += [ssc.sparkContext.parallelize(datum)]\n",
        "inputStream = ssc.queueStream(rddQueue)\n",
        "inputStream.reduce(add).pprint()\n",
        "ssc.start()\n",
        "sleep(5)\n",
        "ssc.stop(stopSparkContext=True, stopGraceFully=True)"
      ],
      "execution_count": 16,
      "outputs": [
        {
          "output_type": "stream",
          "text": [
            "-------------------------------------------\n",
            "Time: 2020-08-24 21:02:19\n",
            "-------------------------------------------\n",
            "6\n",
            "\n",
            "-------------------------------------------\n",
            "Time: 2020-08-24 21:02:20\n",
            "-------------------------------------------\n",
            "0\n",
            "\n",
            "-------------------------------------------\n",
            "Time: 2020-08-24 21:02:21\n",
            "-------------------------------------------\n",
            "12\n",
            "\n",
            "-------------------------------------------\n",
            "Time: 2020-08-24 21:02:22\n",
            "-------------------------------------------\n",
            "25\n",
            "\n",
            "-------------------------------------------\n",
            "Time: 2020-08-24 21:02:23\n",
            "-------------------------------------------\n",
            "10\n",
            "\n",
            "-------------------------------------------\n",
            "Time: 2020-08-24 21:02:24\n",
            "-------------------------------------------\n",
            "\n",
            "-------------------------------------------\n",
            "Time: 2020-08-24 21:02:25\n",
            "-------------------------------------------\n",
            "\n"
          ],
          "name": "stdout"
        }
      ]
    },
    {
      "cell_type": "code",
      "metadata": {
        "id": "M62Otoa2Oxu4",
        "colab_type": "code",
        "colab": {}
      },
      "source": [
        ""
      ],
      "execution_count": null,
      "outputs": []
    }
  ]
}