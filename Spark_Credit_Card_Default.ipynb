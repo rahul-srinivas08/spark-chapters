{
  "nbformat": 4,
  "nbformat_minor": 0,
  "metadata": {
    "colab": {
      "name": "Spark Credit Card Default.ipynb",
      "provenance": []
    },
    "kernelspec": {
      "name": "python3",
      "display_name": "Python 3"
    }
  },
  "cells": [
    {
      "cell_type": "code",
      "metadata": {
        "id": "4dSPVYiXDMup",
        "colab_type": "code",
        "colab": {
          "base_uri": "https://localhost:8080/",
          "height": 255
        },
        "outputId": "57deaacf-9f4b-40ed-9e28-6a62343fbbe0"
      },
      "source": [
        "!pip install pyspark"
      ],
      "execution_count": 2,
      "outputs": [
        {
          "output_type": "stream",
          "text": [
            "Collecting pyspark\n",
            "\u001b[?25l  Downloading https://files.pythonhosted.org/packages/8e/b0/bf9020b56492281b9c9d8aae8f44ff51e1bc91b3ef5a884385cb4e389a40/pyspark-3.0.0.tar.gz (204.7MB)\n",
            "\u001b[K     |████████████████████████████████| 204.7MB 66kB/s \n",
            "\u001b[?25hCollecting py4j==0.10.9\n",
            "\u001b[?25l  Downloading https://files.pythonhosted.org/packages/9e/b6/6a4fb90cd235dc8e265a6a2067f2a2c99f0d91787f06aca4bcf7c23f3f80/py4j-0.10.9-py2.py3-none-any.whl (198kB)\n",
            "\u001b[K     |████████████████████████████████| 204kB 19.9MB/s \n",
            "\u001b[?25hBuilding wheels for collected packages: pyspark\n",
            "  Building wheel for pyspark (setup.py) ... \u001b[?25l\u001b[?25hdone\n",
            "  Created wheel for pyspark: filename=pyspark-3.0.0-py2.py3-none-any.whl size=205044182 sha256=2dc319bad8ba62c99f61e7488d00a41a8c4ceae159067e2c865b4429035559a0\n",
            "  Stored in directory: /root/.cache/pip/wheels/57/27/4d/ddacf7143f8d5b76c45c61ee2e43d9f8492fc5a8e78ebd7d37\n",
            "Successfully built pyspark\n",
            "Installing collected packages: py4j, pyspark\n",
            "Successfully installed py4j-0.10.9 pyspark-3.0.0\n"
          ],
          "name": "stdout"
        }
      ]
    },
    {
      "cell_type": "code",
      "metadata": {
        "id": "Mo35Y6V5GI5p",
        "colab_type": "code",
        "colab": {}
      },
      "source": [
        ""
      ],
      "execution_count": null,
      "outputs": []
    },
    {
      "cell_type": "code",
      "metadata": {
        "id": "9AG7HgIPS3w1",
        "colab_type": "code",
        "colab": {}
      },
      "source": [
        ""
      ],
      "execution_count": null,
      "outputs": []
    },
    {
      "cell_type": "code",
      "metadata": {
        "id": "-RoFH6QNGcRs",
        "colab_type": "code",
        "colab": {}
      },
      "source": [
        "#Initialize SparkSession and SparkContext\n",
        "from pyspark.sql import SparkSession\n",
        "from pyspark import SparkContext"
      ],
      "execution_count": 3,
      "outputs": []
    },
    {
      "cell_type": "code",
      "metadata": {
        "id": "2B2rfu7sG9eh",
        "colab_type": "code",
        "colab": {}
      },
      "source": [
        "#Create a Spark Session\n",
        "SpSession = SparkSession.builder.master(\"local[*]\").getOrCreate()"
      ],
      "execution_count": 4,
      "outputs": []
    },
    {
      "cell_type": "code",
      "metadata": {
        "id": "f1_30ZR3Ha47",
        "colab_type": "code",
        "colab": {}
      },
      "source": [
        "#Get the Spark Context from Spark Session    \n",
        "SpContext = SpSession.sparkContext"
      ],
      "execution_count": 5,
      "outputs": []
    },
    {
      "cell_type": "code",
      "metadata": {
        "id": "57tGBhic5tLY",
        "colab_type": "code",
        "colab": {
          "base_uri": "https://localhost:8080/",
          "height": 121
        },
        "outputId": "918e79cc-b65e-4a06-ec8e-b939e4ff3f5d"
      },
      "source": [
        "# Load the file into a RDD\n",
        "ccRaw = SpContext.textFile('/content/drive/My Drive/credit-card-default-1000.csv')\n",
        "ccRaw.take(5)"
      ],
      "execution_count": 25,
      "outputs": [
        {
          "output_type": "execute_result",
          "data": {
            "text/plain": [
              "['CUSTID,LIMIT_BAL,SEX,EDUCATION,MARRIAGE,AGE,PAY_1,PAY_2,PAY_3,PAY_4,PAY_5,PAY_6,BILL_AMT1,BILL_AMT2,BILL_AMT3,BILL_AMT4,BILL_AMT5,BILL_AMT6,PAY_AMT1,PAY_AMT2,PAY_AMT3,PAY_AMT4,PAY_AMT5,PAY_AMT6,DEFAULTED',\n",
              " '530,20000,2,2,2,21,-1,-1,2,2,-2,-2,0,0,0,0,0,0,0,0,0,0,162000,0,0',\n",
              " '38,60000,2,2,2,22,0,0,0,0,-2,-2,0,0,0,0,0,0,0,0,0,0,0,1576,0',\n",
              " '43,10000,1,2,2,22,0,0,0,0,-2,-2,0,0,0,0,0,0,0,0,0,0,0,1500,0',\n",
              " '47,20000,2,1,2,22,0,0,2,-1,0,-1,1131,291,582,291,0,291,291,582,0,0,130291,651,0']"
            ]
          },
          "metadata": {
            "tags": []
          },
          "execution_count": 25
        }
      ]
    },
    {
      "cell_type": "code",
      "metadata": {
        "id": "5GqXW_ks7unI",
        "colab_type": "code",
        "colab": {
          "base_uri": "https://localhost:8080/",
          "height": 34
        },
        "outputId": "e8c2600d-d700-47c6-f52b-ccbc4b2212f0"
      },
      "source": [
        "# Remove header row\n",
        "dataLines = ccRaw.filter(lambda x: 'CUSTID' not in x)\n",
        "dataLines.count()"
      ],
      "execution_count": 26,
      "outputs": [
        {
          "output_type": "execute_result",
          "data": {
            "text/plain": [
              "1002"
            ]
          },
          "metadata": {
            "tags": []
          },
          "execution_count": 26
        }
      ]
    },
    {
      "cell_type": "code",
      "metadata": {
        "id": "EKiXLhxc-NU0",
        "colab_type": "code",
        "colab": {
          "base_uri": "https://localhost:8080/",
          "height": 101
        },
        "outputId": "eebec324-7fe2-49dc-bd24-729af3791e65"
      },
      "source": [
        "dataLines.take(5)"
      ],
      "execution_count": 27,
      "outputs": [
        {
          "output_type": "execute_result",
          "data": {
            "text/plain": [
              "['530,20000,2,2,2,21,-1,-1,2,2,-2,-2,0,0,0,0,0,0,0,0,0,0,162000,0,0',\n",
              " '38,60000,2,2,2,22,0,0,0,0,-2,-2,0,0,0,0,0,0,0,0,0,0,0,1576,0',\n",
              " '43,10000,1,2,2,22,0,0,0,0,-2,-2,0,0,0,0,0,0,0,0,0,0,0,1500,0',\n",
              " '47,20000,2,1,2,22,0,0,2,-1,0,-1,1131,291,582,291,0,291,291,582,0,0,130291,651,0',\n",
              " '70,20000,1,4,2,22,2,0,0,0,-1,-1,1692,13250,433,1831,0,2891,13250,433,1831,0,2891,153504,0']"
            ]
          },
          "metadata": {
            "tags": []
          },
          "execution_count": 27
        }
      ]
    },
    {
      "cell_type": "code",
      "metadata": {
        "id": "bMGkC_ZP-Toc",
        "colab_type": "code",
        "colab": {
          "base_uri": "https://localhost:8080/",
          "height": 34
        },
        "outputId": "1a8ef482-8c19-476f-c8ca-a8724ad0d9f8"
      },
      "source": [
        "\n",
        "# Cleanup data. Remove the last two lines which are not 'CSV'\n",
        "cleanedLines = dataLines.filter(lambda x: x.find('aaa') == -1)\n",
        "cleanedLines.count()"
      ],
      "execution_count": 28,
      "outputs": [
        {
          "output_type": "execute_result",
          "data": {
            "text/plain": [
              "1000"
            ]
          },
          "metadata": {
            "tags": []
          },
          "execution_count": 28
        }
      ]
    },
    {
      "cell_type": "code",
      "metadata": {
        "id": "ObxQ_Ekt-ZVo",
        "colab_type": "code",
        "colab": {}
      },
      "source": [
        "from pyspark.sql import Row\n",
        "import numpy as np\n",
        "\n",
        "# Convert into SQL Dataframe. In the process perform a few cleanups and changes required for future work\n",
        "def convertToRow(instr):\n",
        "    attList = instr.split(',')\n",
        "    \n",
        "    # PR#06 Round of age to range of 10s\n",
        "    ageRound = round(float(attList[5]) / 10) * 10\n",
        "    \n",
        "    # Normalize sex to only 1 and 2\n",
        "    sex = float(attList[2].replace('M', '1').replace('F', '2'))\n",
        "    \n",
        "    # Find average billed amount\n",
        "    avgBillAmt = np.array(attList[12:18], dtype = 'float').mean().item()\n",
        "    \n",
        "    # Find average pay amount\n",
        "    avgPayAmt = np.array(attList[18:24], dtype = 'float').mean().item()\n",
        "    \n",
        "    # Find average pay duration, required for PR#04\n",
        "    # Make sure numbers are rounded and negative values are eliminated\n",
        "    payDuration = np.array([x if float(x) > 0 else 0 for x in attList[6:12]], dtype = 'float')\n",
        "    avgPayDuration = round(payDuration.mean().item())\n",
        "    \n",
        "    # Average percentage paid. Add this as an additional field to see if this field has any predictive capabilities\n",
        "    perPay = round((avgPayAmt / (avgBillAmt + 1) * 100) / 25) * 25\n",
        "    \n",
        "    values = Row(CUSTID = attList[0], LIMIT_BAL = float(attList[1]), SEX = sex, EDUCATION = float(attList[3]), \\\n",
        "                 MARRIAGE = float(attList[4]), AGE = ageRound, AVG_PAY_DUR = avgPayDuration, \\\n",
        "                 AVG_BILL_AMT = avgBillAmt, AVG_PAY_AMT = avgPayAmt, PER_PAID = perPay, DEFAULTED = float(attList[24]))\n",
        "    \n",
        "    return values"
      ],
      "execution_count": 30,
      "outputs": []
    },
    {
      "cell_type": "code",
      "metadata": {
        "id": "7LAJO2Ev-l8U",
        "colab_type": "code",
        "colab": {
          "base_uri": "https://localhost:8080/",
          "height": 121
        },
        "outputId": "6af097b4-6875-424b-9701-f0f36eb93709"
      },
      "source": [
        "# Cleanedup RDD\n",
        "ccRows = cleanedLines.map(convertToRow)\n",
        "ccRows.take(5)"
      ],
      "execution_count": 31,
      "outputs": [
        {
          "output_type": "execute_result",
          "data": {
            "text/plain": [
              "[Row(CUSTID='530', LIMIT_BAL=20000.0, SEX=2.0, EDUCATION=2.0, MARRIAGE=2.0, AGE=20, AVG_PAY_DUR=1, AVG_BILL_AMT=0.0, AVG_PAY_AMT=27000.0, PER_PAID=2700000, DEFAULTED=0.0),\n",
              " Row(CUSTID='38', LIMIT_BAL=60000.0, SEX=2.0, EDUCATION=2.0, MARRIAGE=2.0, AGE=20, AVG_PAY_DUR=0, AVG_BILL_AMT=0.0, AVG_PAY_AMT=262.6666666666667, PER_PAID=26275, DEFAULTED=0.0),\n",
              " Row(CUSTID='43', LIMIT_BAL=10000.0, SEX=1.0, EDUCATION=2.0, MARRIAGE=2.0, AGE=20, AVG_PAY_DUR=0, AVG_BILL_AMT=0.0, AVG_PAY_AMT=250.0, PER_PAID=25000, DEFAULTED=0.0),\n",
              " Row(CUSTID='47', LIMIT_BAL=20000.0, SEX=2.0, EDUCATION=1.0, MARRIAGE=2.0, AGE=20, AVG_PAY_DUR=0, AVG_BILL_AMT=431.0, AVG_PAY_AMT=21969.166666666668, PER_PAID=5075, DEFAULTED=0.0),\n",
              " Row(CUSTID='70', LIMIT_BAL=20000.0, SEX=1.0, EDUCATION=4.0, MARRIAGE=2.0, AGE=20, AVG_PAY_DUR=0, AVG_BILL_AMT=3349.5, AVG_PAY_AMT=28651.5, PER_PAID=850, DEFAULTED=0.0)]"
            ]
          },
          "metadata": {
            "tags": []
          },
          "execution_count": 31
        }
      ]
    },
    {
      "cell_type": "code",
      "metadata": {
        "id": "zdvyE-li-wGl",
        "colab_type": "code",
        "colab": {
          "base_uri": "https://localhost:8080/",
          "height": 286
        },
        "outputId": "7d1248d3-ed96-4a55-dcf6-9719c8b8c7dd"
      },
      "source": [
        "# Create a dataframe\n",
        "ccDf = SpSession.createDataFrame(ccRows)\n",
        "ccDf.cache()\n",
        "ccDf.show(10)"
      ],
      "execution_count": 32,
      "outputs": [
        {
          "output_type": "stream",
          "text": [
            "+------+---------+---+---------+--------+---+-----------+------------------+------------------+--------+---------+\n",
            "|CUSTID|LIMIT_BAL|SEX|EDUCATION|MARRIAGE|AGE|AVG_PAY_DUR|      AVG_BILL_AMT|       AVG_PAY_AMT|PER_PAID|DEFAULTED|\n",
            "+------+---------+---+---------+--------+---+-----------+------------------+------------------+--------+---------+\n",
            "|   530|  20000.0|2.0|      2.0|     2.0| 20|          1|               0.0|           27000.0| 2700000|      0.0|\n",
            "|    38|  60000.0|2.0|      2.0|     2.0| 20|          0|               0.0| 262.6666666666667|   26275|      0.0|\n",
            "|    43|  10000.0|1.0|      2.0|     2.0| 20|          0|               0.0|             250.0|   25000|      0.0|\n",
            "|    47|  20000.0|2.0|      1.0|     2.0| 20|          0|             431.0|21969.166666666668|    5075|      0.0|\n",
            "|    70|  20000.0|1.0|      4.0|     2.0| 20|          0|            3349.5|           28651.5|     850|      0.0|\n",
            "|    79|  30000.0|2.0|      2.0|     2.0| 20|          0|1025.3333333333333|            7358.0|     725|      0.0|\n",
            "|    99|  50000.0|2.0|      3.0|     1.0| 20|          0|117.83333333333333|             829.5|     700|      0.0|\n",
            "|   104|  50000.0|2.0|      3.0|     2.0| 20|          0| 473.3333333333333|3328.3333333333335|     700|      0.0|\n",
            "|   135|  30000.0|2.0|      2.0|     2.0| 20|          0|61.333333333333336| 359.8333333333333|     575|      0.0|\n",
            "|   170|  50000.0|2.0|      2.0|     2.0| 20|          0|1316.8333333333333|            6896.5|     525|      0.0|\n",
            "+------+---------+---+---------+--------+---+-----------+------------------+------------------+--------+---------+\n",
            "only showing top 10 rows\n",
            "\n"
          ],
          "name": "stdout"
        }
      ]
    },
    {
      "cell_type": "code",
      "metadata": {
        "id": "gcMKk4py-1Op",
        "colab_type": "code",
        "colab": {
          "base_uri": "https://localhost:8080/",
          "height": 235
        },
        "outputId": "3dd83331-4f19-4c67-c51b-12bb0ab92b2d"
      },
      "source": [
        "ccDf.printSchema()\n"
      ],
      "execution_count": 33,
      "outputs": [
        {
          "output_type": "stream",
          "text": [
            "root\n",
            " |-- CUSTID: string (nullable = true)\n",
            " |-- LIMIT_BAL: double (nullable = true)\n",
            " |-- SEX: double (nullable = true)\n",
            " |-- EDUCATION: double (nullable = true)\n",
            " |-- MARRIAGE: double (nullable = true)\n",
            " |-- AGE: long (nullable = true)\n",
            " |-- AVG_PAY_DUR: long (nullable = true)\n",
            " |-- AVG_BILL_AMT: double (nullable = true)\n",
            " |-- AVG_PAY_AMT: double (nullable = true)\n",
            " |-- PER_PAID: long (nullable = true)\n",
            " |-- DEFAULTED: double (nullable = true)\n",
            "\n"
          ],
          "name": "stdout"
        }
      ]
    },
    {
      "cell_type": "code",
      "metadata": {
        "id": "G0EryCMN_GrR",
        "colab_type": "code",
        "colab": {
          "base_uri": "https://localhost:8080/",
          "height": 134
        },
        "outputId": "048788e8-0024-4338-8b1d-021fdf6a9413"
      },
      "source": [
        "import pandas as pd\n",
        "# Add SEX_NAME to the data using SQL join. Required for PR#02\n",
        "genderDf = SpSession.createDataFrame(pd.DataFrame({'SEX': [1.0, 2.0], 'SEX_NAME': ['Male', 'Female']}))\n",
        "genderDf.show()"
      ],
      "execution_count": 34,
      "outputs": [
        {
          "output_type": "stream",
          "text": [
            "+---+--------+\n",
            "|SEX|SEX_NAME|\n",
            "+---+--------+\n",
            "|1.0|    Male|\n",
            "|2.0|  Female|\n",
            "+---+--------+\n",
            "\n"
          ],
          "name": "stdout"
        }
      ]
    },
    {
      "cell_type": "code",
      "metadata": {
        "id": "a0XOBsnz_Nh_",
        "colab_type": "code",
        "colab": {
          "base_uri": "https://localhost:8080/",
          "height": 202
        },
        "outputId": "528b39d2-794d-4f06-de81-fa3db709c83b"
      },
      "source": [
        "ccDf1 = ccDf.join(genderDf, ccDf.SEX == genderDf.SEX).drop(genderDf.SEX)\n",
        "ccDf1.show(5)"
      ],
      "execution_count": 35,
      "outputs": [
        {
          "output_type": "stream",
          "text": [
            "+------+---------+---+---------+--------+---+-----------+-------------------+-----------------+--------+---------+--------+\n",
            "|CUSTID|LIMIT_BAL|SEX|EDUCATION|MARRIAGE|AGE|AVG_PAY_DUR|       AVG_BILL_AMT|      AVG_PAY_AMT|PER_PAID|DEFAULTED|SEX_NAME|\n",
            "+------+---------+---+---------+--------+---+-----------+-------------------+-----------------+--------+---------+--------+\n",
            "|   388|  80000.0|1.0|      3.0|     1.0| 70|          0| -65.66666666666667|416.6666666666667|    -650|      1.0|    Male|\n",
            "|   103| 480000.0|1.0|      1.0|     1.0| 60|          0|-56043.166666666664|          57956.5|    -100|      1.0|    Male|\n",
            "|   932| 320000.0|1.0|      1.0|     1.0| 60|          0|                0.0|              0.0|       0|      1.0|    Male|\n",
            "|   948|  50000.0|1.0|      2.0|     1.0| 60|          0|                0.0|              0.0|       0|      1.0|    Male|\n",
            "|   602|  30000.0|1.0|      3.0|     1.0| 60|          0| 25828.333333333332|              0.0|       0|      1.0|    Male|\n",
            "+------+---------+---+---------+--------+---+-----------+-------------------+-----------------+--------+---------+--------+\n",
            "only showing top 5 rows\n",
            "\n"
          ],
          "name": "stdout"
        }
      ]
    },
    {
      "cell_type": "code",
      "metadata": {
        "id": "wGcHxFcc_Vlw",
        "colab_type": "code",
        "colab": {
          "base_uri": "https://localhost:8080/",
          "height": 168
        },
        "outputId": "09254dc7-f564-4045-c238-73424e13a142"
      },
      "source": [
        "# Add ED_STR to the data using SQL join. Required for PR#03\n",
        "eduDf = SpSession.createDataFrame(pd.DataFrame({'EDUCATION': [1.0, 2.0, 3.0, 4.0], \n",
        "                                                'ED_STR': ['Graduate', 'University', 'High School', 'Others']}))\n",
        "eduDf.show()"
      ],
      "execution_count": 36,
      "outputs": [
        {
          "output_type": "stream",
          "text": [
            "+---------+-----------+\n",
            "|EDUCATION|     ED_STR|\n",
            "+---------+-----------+\n",
            "|      1.0|   Graduate|\n",
            "|      2.0| University|\n",
            "|      3.0|High School|\n",
            "|      4.0|     Others|\n",
            "+---------+-----------+\n",
            "\n"
          ],
          "name": "stdout"
        }
      ]
    },
    {
      "cell_type": "code",
      "metadata": {
        "id": "QTDsMLjuA9rt",
        "colab_type": "code",
        "colab": {
          "base_uri": "https://localhost:8080/",
          "height": 202
        },
        "outputId": "14cba15b-29df-481c-9460-ef3657d4c1ec"
      },
      "source": [
        "ccDf2 = ccDf1.join(eduDf, ccDf1.EDUCATION == eduDf.EDUCATION).drop(eduDf.EDUCATION)\n",
        "ccDf2.show(5)"
      ],
      "execution_count": 37,
      "outputs": [
        {
          "output_type": "stream",
          "text": [
            "+------+---------+---+---------+--------+---+-----------+-------------------+-----------+--------+---------+--------+--------+\n",
            "|CUSTID|LIMIT_BAL|SEX|EDUCATION|MARRIAGE|AGE|AVG_PAY_DUR|       AVG_BILL_AMT|AVG_PAY_AMT|PER_PAID|DEFAULTED|SEX_NAME|  ED_STR|\n",
            "+------+---------+---+---------+--------+---+-----------+-------------------+-----------+--------+---------+--------+--------+\n",
            "|   103| 480000.0|1.0|      1.0|     1.0| 60|          0|-56043.166666666664|    57956.5|    -100|      1.0|    Male|Graduate|\n",
            "|   932| 320000.0|1.0|      1.0|     1.0| 60|          0|                0.0|        0.0|       0|      1.0|    Male|Graduate|\n",
            "|   466| 230000.0|1.0|      1.0|     1.0| 60|          0|                0.0|        0.0|       0|      1.0|    Male|Graduate|\n",
            "|    35| 500000.0|1.0|      1.0|     1.0| 60|          1|            19763.0|        0.0|       0|      1.0|    Male|Graduate|\n",
            "|    66| 200000.0|1.0|      1.0|     1.0| 60|          0|              -87.5|        0.0|       0|      1.0|    Male|Graduate|\n",
            "+------+---------+---+---------+--------+---+-----------+-------------------+-----------+--------+---------+--------+--------+\n",
            "only showing top 5 rows\n",
            "\n"
          ],
          "name": "stdout"
        }
      ]
    },
    {
      "cell_type": "code",
      "metadata": {
        "id": "VGhZ-TadBBpy",
        "colab_type": "code",
        "colab": {
          "base_uri": "https://localhost:8080/",
          "height": 151
        },
        "outputId": "19229c8f-37c7-4b53-fcaa-a39647b5886f"
      },
      "source": [
        "# Add MARR_DESC to the data with SQL join. Required for PR#03\n",
        "marrDf = SpSession.createDataFrame(pd.DataFrame({'MARRIAGE': [1.0, 2.0, 3.0], \n",
        "                                                 'MARR_DESC': ['Single', 'Married', 'Others']}))\n",
        "marrDf.show()"
      ],
      "execution_count": 38,
      "outputs": [
        {
          "output_type": "stream",
          "text": [
            "+--------+---------+\n",
            "|MARRIAGE|MARR_DESC|\n",
            "+--------+---------+\n",
            "|     1.0|   Single|\n",
            "|     2.0|  Married|\n",
            "|     3.0|   Others|\n",
            "+--------+---------+\n",
            "\n"
          ],
          "name": "stdout"
        }
      ]
    },
    {
      "cell_type": "code",
      "metadata": {
        "id": "TuDIMS4lBE5O",
        "colab_type": "code",
        "colab": {
          "base_uri": "https://localhost:8080/",
          "height": 202
        },
        "outputId": "c20ad2ce-5377-4d9f-a220-7525104dcfeb"
      },
      "source": [
        "ccFinalDf = ccDf2.join(marrDf, ccDf2.MARRIAGE == marrDf.MARRIAGE).drop(marrDf.MARRIAGE)\n",
        "ccFinalDf.show(5)"
      ],
      "execution_count": 39,
      "outputs": [
        {
          "output_type": "stream",
          "text": [
            "+------+---------+---+---------+--------+---+-----------+-------------------+-----------+--------+---------+--------+--------+---------+\n",
            "|CUSTID|LIMIT_BAL|SEX|EDUCATION|MARRIAGE|AGE|AVG_PAY_DUR|       AVG_BILL_AMT|AVG_PAY_AMT|PER_PAID|DEFAULTED|SEX_NAME|  ED_STR|MARR_DESC|\n",
            "+------+---------+---+---------+--------+---+-----------+-------------------+-----------+--------+---------+--------+--------+---------+\n",
            "|   103| 480000.0|1.0|      1.0|     1.0| 60|          0|-56043.166666666664|    57956.5|    -100|      1.0|    Male|Graduate|   Single|\n",
            "|   932| 320000.0|1.0|      1.0|     1.0| 60|          0|                0.0|        0.0|       0|      1.0|    Male|Graduate|   Single|\n",
            "|   466| 230000.0|1.0|      1.0|     1.0| 60|          0|                0.0|        0.0|       0|      1.0|    Male|Graduate|   Single|\n",
            "|    35| 500000.0|1.0|      1.0|     1.0| 60|          1|            19763.0|        0.0|       0|      1.0|    Male|Graduate|   Single|\n",
            "|    66| 200000.0|1.0|      1.0|     1.0| 60|          0|              -87.5|        0.0|       0|      1.0|    Male|Graduate|   Single|\n",
            "+------+---------+---+---------+--------+---+-----------+-------------------+-----------+--------+---------+--------+--------+---------+\n",
            "only showing top 5 rows\n",
            "\n"
          ],
          "name": "stdout"
        }
      ]
    },
    {
      "cell_type": "code",
      "metadata": {
        "id": "DG5G_FulBIWK",
        "colab_type": "code",
        "colab": {}
      },
      "source": [
        "# create a temp view\n",
        "ccFinalDf.createOrReplaceTempView('CCDATA')"
      ],
      "execution_count": 40,
      "outputs": []
    },
    {
      "cell_type": "code",
      "metadata": {
        "id": "pzgbxPkZBMXX",
        "colab_type": "code",
        "colab": {
          "base_uri": "https://localhost:8080/",
          "height": 134
        },
        "outputId": "b2b91d56-acaa-46b3-d321-5db4f43c6f0d"
      },
      "source": [
        "# PR#02 solution\n",
        "SpSession.sql('SELECT SEX_NAME, count(*) AS Total, SUM(DEFAULTED) AS Defaults, ' + \\\n",
        "             'ROUND(SUM(DEFAULTED) * 100 / count(*)) AS PER_DEFAULT FROM CCDATA GROUP BY SEX_NAME').show()"
      ],
      "execution_count": 41,
      "outputs": [
        {
          "output_type": "stream",
          "text": [
            "+--------+-----+--------+-----------+\n",
            "|SEX_NAME|Total|Defaults|PER_DEFAULT|\n",
            "+--------+-----+--------+-----------+\n",
            "|  Female|  591|   218.0|       37.0|\n",
            "|    Male|  409|   185.0|       45.0|\n",
            "+--------+-----+--------+-----------+\n",
            "\n"
          ],
          "name": "stdout"
        }
      ]
    },
    {
      "cell_type": "code",
      "metadata": {
        "id": "_N4OPgrWBP68",
        "colab_type": "code",
        "colab": {
          "base_uri": "https://localhost:8080/",
          "height": 286
        },
        "outputId": "020cb426-2f5b-43a2-c045-5843262673a3"
      },
      "source": [
        "# PR#03 solution\n",
        "SpSession.sql('SELECT MARR_DESC, ED_STR, COUNT(*) AS Total, SUM(DEFAULTED) AS Defaults, ' + \\\n",
        "             'ROUND(SUM(DEFAULTED) * 100 / count(*)) AS PER_DEFAULT FROM CCDATA GROUP BY MARR_DESC, ED_STR ' + \\\n",
        "             'ORDER BY 1, 2').show()"
      ],
      "execution_count": 42,
      "outputs": [
        {
          "output_type": "stream",
          "text": [
            "+---------+-----------+-----+--------+-----------+\n",
            "|MARR_DESC|     ED_STR|Total|Defaults|PER_DEFAULT|\n",
            "+---------+-----------+-----+--------+-----------+\n",
            "|  Married|   Graduate|  268|    69.0|       26.0|\n",
            "|  Married|High School|   55|    24.0|       44.0|\n",
            "|  Married|     Others|    4|     2.0|       50.0|\n",
            "|  Married| University|  243|    65.0|       27.0|\n",
            "|   Others|   Graduate|    4|     4.0|      100.0|\n",
            "|   Others|High School|    8|     6.0|       75.0|\n",
            "|   Others| University|    7|     3.0|       43.0|\n",
            "|   Single|   Graduate|  123|    71.0|       58.0|\n",
            "|   Single|High School|   87|    52.0|       60.0|\n",
            "|   Single|     Others|    3|     2.0|       67.0|\n",
            "|   Single| University|  198|   105.0|       53.0|\n",
            "+---------+-----------+-----+--------+-----------+\n",
            "\n"
          ],
          "name": "stdout"
        }
      ]
    },
    {
      "cell_type": "code",
      "metadata": {
        "id": "AOS8m-4EBW6i",
        "colab_type": "code",
        "colab": {
          "base_uri": "https://localhost:8080/",
          "height": 168
        },
        "outputId": "236ea7f1-f1b3-4a4f-b67c-bbf420cc906a"
      },
      "source": [
        "# PR#04 solution\n",
        "SpSession.sql('SELECT AVG_PAY_DUR, COUNT(*) AS Total, SUM(DEFAULTED) AS Defaults, ' + \\\n",
        "             'ROUND(SUM(DEFAULTED) * 100 / count(*)) AS PER_DEFAULT FROM CCDATA GROUP BY AVG_PAY_DUR ORDER BY 1').show()"
      ],
      "execution_count": 43,
      "outputs": [
        {
          "output_type": "stream",
          "text": [
            "+-----------+-----+--------+-----------+\n",
            "|AVG_PAY_DUR|Total|Defaults|PER_DEFAULT|\n",
            "+-----------+-----+--------+-----------+\n",
            "|          0|  786|   290.0|       37.0|\n",
            "|          1|  192|   102.0|       53.0|\n",
            "|          2|   19|    10.0|       53.0|\n",
            "|          3|    3|     1.0|       33.0|\n",
            "+-----------+-----+--------+-----------+\n",
            "\n"
          ],
          "name": "stdout"
        }
      ]
    },
    {
      "cell_type": "code",
      "metadata": {
        "id": "pM8a8nVpBhY2",
        "colab_type": "code",
        "colab": {}
      },
      "source": [
        "from pyspark.ml.linalg import Vectors\n"
      ],
      "execution_count": 45,
      "outputs": []
    },
    {
      "cell_type": "code",
      "metadata": {
        "id": "8IpL9UjbCNw0",
        "colab_type": "code",
        "colab": {}
      },
      "source": [
        "def transformToLabeledPoint(row):\n",
        "    lp = (row['DEFAULTED'], Vectors.dense([row['AGE'], row['AVG_BILL_AMT'], row['AVG_PAY_AMT'], row['AVG_PAY_DUR'], \\\n",
        "                                          row['EDUCATION'], row['LIMIT_BAL'], row['MARRIAGE'], row['PER_PAID'], \\\n",
        "                                          row['SEX']]))\n",
        "    return lp"
      ],
      "execution_count": 46,
      "outputs": []
    },
    {
      "cell_type": "code",
      "metadata": {
        "id": "OmptXsm3CW89",
        "colab_type": "code",
        "colab": {
          "base_uri": "https://localhost:8080/",
          "height": 118
        },
        "outputId": "f173e431-b015-40c7-f018-77b018c065c8"
      },
      "source": [
        "ccLp = ccFinalDf.rdd.map(transformToLabeledPoint)\n",
        "ccLp.take(5)"
      ],
      "execution_count": 47,
      "outputs": [
        {
          "output_type": "execute_result",
          "data": {
            "text/plain": [
              "[(1.0,\n",
              "  DenseVector([60.0, -56043.1667, 57956.5, 0.0, 1.0, 480000.0, 1.0, -100.0, 1.0])),\n",
              " (1.0, DenseVector([60.0, 0.0, 0.0, 0.0, 1.0, 320000.0, 1.0, 0.0, 1.0])),\n",
              " (1.0, DenseVector([60.0, 0.0, 0.0, 0.0, 1.0, 230000.0, 1.0, 0.0, 1.0])),\n",
              " (1.0, DenseVector([60.0, 19763.0, 0.0, 1.0, 1.0, 500000.0, 1.0, 0.0, 1.0])),\n",
              " (1.0, DenseVector([60.0, -87.5, 0.0, 0.0, 1.0, 200000.0, 1.0, 0.0, 1.0]))]"
            ]
          },
          "metadata": {
            "tags": []
          },
          "execution_count": 47
        }
      ]
    },
    {
      "cell_type": "code",
      "metadata": {
        "id": "qvyfWgrcCbyr",
        "colab_type": "code",
        "colab": {
          "base_uri": "https://localhost:8080/",
          "height": 302
        },
        "outputId": "0cc91d00-d802-433f-b264-ff02d7e52620"
      },
      "source": [
        "ccNormDf = SpSession.createDataFrame(ccLp, ['label', 'features'])\n",
        "ccNormDf.select('*').show(10, truncate = False)\n",
        "ccNormDf.cache()"
      ],
      "execution_count": 48,
      "outputs": [
        {
          "output_type": "stream",
          "text": [
            "+-----+------------------------------------------------------------------+\n",
            "|label|features                                                          |\n",
            "+-----+------------------------------------------------------------------+\n",
            "|1.0  |[60.0,-56043.166666666664,57956.5,0.0,1.0,480000.0,1.0,-100.0,1.0]|\n",
            "|1.0  |[60.0,0.0,0.0,0.0,1.0,320000.0,1.0,0.0,1.0]                       |\n",
            "|1.0  |[60.0,0.0,0.0,0.0,1.0,230000.0,1.0,0.0,1.0]                       |\n",
            "|1.0  |[60.0,19763.0,0.0,1.0,1.0,500000.0,1.0,0.0,1.0]                   |\n",
            "|1.0  |[60.0,-87.5,0.0,0.0,1.0,200000.0,1.0,0.0,1.0]                     |\n",
            "|1.0  |[60.0,125.0,0.0,1.0,1.0,50000.0,1.0,0.0,1.0]                      |\n",
            "|1.0  |[50.0,0.0,0.0,0.0,1.0,170000.0,1.0,0.0,1.0]                       |\n",
            "|1.0  |[50.0,1270.6666666666667,0.0,0.0,1.0,290000.0,1.0,0.0,1.0]        |\n",
            "|1.0  |[50.0,0.0,0.0,1.0,1.0,600000.0,1.0,0.0,1.0]                       |\n",
            "|1.0  |[50.0,81.83333333333333,0.0,1.0,1.0,200000.0,1.0,0.0,1.0]         |\n",
            "+-----+------------------------------------------------------------------+\n",
            "only showing top 10 rows\n",
            "\n"
          ],
          "name": "stdout"
        },
        {
          "output_type": "execute_result",
          "data": {
            "text/plain": [
              "DataFrame[label: double, features: vector]"
            ]
          },
          "metadata": {
            "tags": []
          },
          "execution_count": 48
        }
      ]
    },
    {
      "cell_type": "code",
      "metadata": {
        "id": "-TN3j0gPCf8V",
        "colab_type": "code",
        "colab": {
          "base_uri": "https://localhost:8080/",
          "height": 202
        },
        "outputId": "0ead605c-72c0-4e1f-b8a4-2902a6375b8b"
      },
      "source": [
        "# Indexing needed as pre-req\n",
        "from pyspark.ml.feature import StringIndexer\n",
        "stringIndexer = StringIndexer(inputCol = 'label', outputCol = 'indexed')\n",
        "si_model = stringIndexer.fit(ccNormDf)\n",
        "td = si_model.transform(ccNormDf)\n",
        "td.show(5)"
      ],
      "execution_count": 49,
      "outputs": [
        {
          "output_type": "stream",
          "text": [
            "+-----+--------------------+-------+\n",
            "|label|            features|indexed|\n",
            "+-----+--------------------+-------+\n",
            "|  1.0|[60.0,-56043.1666...|    1.0|\n",
            "|  1.0|[60.0,0.0,0.0,0.0...|    1.0|\n",
            "|  1.0|[60.0,0.0,0.0,0.0...|    1.0|\n",
            "|  1.0|[60.0,19763.0,0.0...|    1.0|\n",
            "|  1.0|[60.0,-87.5,0.0,0...|    1.0|\n",
            "+-----+--------------------+-------+\n",
            "only showing top 5 rows\n",
            "\n"
          ],
          "name": "stdout"
        }
      ]
    },
    {
      "cell_type": "code",
      "metadata": {
        "id": "dP3Q8fe2CkdP",
        "colab_type": "code",
        "colab": {}
      },
      "source": [
        "# split into training and testing data\n",
        "trainingData, testData = td.randomSplit([0.7, 0.3])"
      ],
      "execution_count": 50,
      "outputs": []
    },
    {
      "cell_type": "code",
      "metadata": {
        "id": "VNphNp41CoB0",
        "colab_type": "code",
        "colab": {
          "base_uri": "https://localhost:8080/",
          "height": 34
        },
        "outputId": "ef8ca523-201c-4f76-a92d-713953a57d92"
      },
      "source": [
        "trainingData.count()\n"
      ],
      "execution_count": 51,
      "outputs": [
        {
          "output_type": "execute_result",
          "data": {
            "text/plain": [
              "704"
            ]
          },
          "metadata": {
            "tags": []
          },
          "execution_count": 51
        }
      ]
    },
    {
      "cell_type": "code",
      "metadata": {
        "id": "vL9wWmqyCuD6",
        "colab_type": "code",
        "colab": {
          "base_uri": "https://localhost:8080/",
          "height": 34
        },
        "outputId": "bfc57be5-541a-4dab-8572-2abbfaaa9c57"
      },
      "source": [
        "testData.count()\n"
      ],
      "execution_count": 52,
      "outputs": [
        {
          "output_type": "execute_result",
          "data": {
            "text/plain": [
              "296"
            ]
          },
          "metadata": {
            "tags": []
          },
          "execution_count": 52
        }
      ]
    },
    {
      "cell_type": "code",
      "metadata": {
        "id": "hsrOvnyZCwh5",
        "colab_type": "code",
        "colab": {}
      },
      "source": [
        ""
      ],
      "execution_count": 53,
      "outputs": []
    },
    {
      "cell_type": "code",
      "metadata": {
        "id": "n2e1PgkbC4oX",
        "colab_type": "code",
        "colab": {
          "base_uri": "https://localhost:8080/",
          "height": 454
        },
        "outputId": "7f069873-60db-47b6-aefe-4276bdcb4575"
      },
      "source": [
        "from pyspark.ml.classification import RandomForestClassifier\n",
        "from pyspark.ml.classification import DecisionTreeClassifier\n",
        "from pyspark.ml.tuning import CrossValidator, ParamGridBuilder\n",
        "from pyspark.ml.evaluation import MulticlassClassificationEvaluator\n",
        "\n",
        "evaluator = MulticlassClassificationEvaluator(predictionCol = 'prediction', labelCol = 'indexed', \n",
        "                                              metricName = 'accuracy')\n",
        "\n",
        "# Create the Dicision Tree model (with hyper-parameter tuning)\n",
        "paramGrid = ParamGridBuilder().addGrid(DecisionTreeClassifier.maxDepth, [4, 5, 6]).build()\n",
        "\n",
        "dtClassifier = DecisionTreeClassifier(labelCol = 'indexed', featuresCol = 'features')\n",
        "\n",
        "dtClassifier_cv = CrossValidator(estimator = DecisionTreeClassifier(), estimatorParamMaps = paramGrid,\n",
        "                                evaluator = MulticlassClassificationEvaluator(), numFolds = 2)\n",
        "\n",
        "\n",
        "dtModel = dtClassifier_cv.fit(trainingData)\n",
        "\n",
        "# Predict on the test data\n",
        "predictions = dtModel.transform(testData)\n",
        "predictions.select('prediction', 'indexed', 'label', 'features').show()"
      ],
      "execution_count": 54,
      "outputs": [
        {
          "output_type": "stream",
          "text": [
            "+----------+-------+-----+--------------------+\n",
            "|prediction|indexed|label|            features|\n",
            "+----------+-------+-----+--------------------+\n",
            "|       1.0|    0.0|  0.0|[20.0,12.83333333...|\n",
            "|       0.0|    0.0|  0.0|[20.0,117.8333333...|\n",
            "|       0.0|    0.0|  0.0|[20.0,415.0,415.0...|\n",
            "|       0.0|    0.0|  0.0|[20.0,416.6666666...|\n",
            "|       0.0|    0.0|  0.0|[20.0,6924.0,6751...|\n",
            "|       0.0|    0.0|  0.0|[30.0,1596.666666...|\n",
            "|       0.0|    0.0|  0.0|[30.0,3709.333333...|\n",
            "|       1.0|    0.0|  0.0|[30.0,5737.166666...|\n",
            "|       1.0|    0.0|  0.0|[30.0,8030.666666...|\n",
            "|       0.0|    0.0|  0.0|[30.0,8769.0,6085...|\n",
            "|       1.0|    0.0|  0.0|[30.0,9349.5,1049...|\n",
            "|       1.0|    0.0|  0.0|[30.0,10652.0,855...|\n",
            "|       0.0|    0.0|  0.0|[30.0,12778.16666...|\n",
            "|       0.0|    0.0|  0.0|[30.0,14673.5,318...|\n",
            "|       0.0|    0.0|  0.0|[30.0,14870.0,941...|\n",
            "|       0.0|    0.0|  0.0|[30.0,15523.16666...|\n",
            "|       0.0|    0.0|  0.0|[30.0,16942.16666...|\n",
            "|       0.0|    0.0|  0.0|[30.0,17267.16666...|\n",
            "|       0.0|    0.0|  0.0|[30.0,18400.33333...|\n",
            "|       0.0|    0.0|  0.0|[30.0,20648.66666...|\n",
            "+----------+-------+-----+--------------------+\n",
            "only showing top 20 rows\n",
            "\n"
          ],
          "name": "stdout"
        }
      ]
    },
    {
      "cell_type": "code",
      "metadata": {
        "id": "_tFte0MFFdcS",
        "colab_type": "code",
        "colab": {
          "base_uri": "https://localhost:8080/",
          "height": 34
        },
        "outputId": "8faba4ee-d9d2-433e-b166-6cd8b3ee2628"
      },
      "source": [
        "print('Results of Decision Tree: {}'.format(evaluator.evaluate(predictions)))"
      ],
      "execution_count": 55,
      "outputs": [
        {
          "output_type": "stream",
          "text": [
            "Results of Decision Tree: 0.722972972972973\n"
          ],
          "name": "stdout"
        }
      ]
    },
    {
      "cell_type": "code",
      "metadata": {
        "id": "tohwwIUUFodv",
        "colab_type": "code",
        "colab": {}
      },
      "source": [
        "#Create the Random Forest model\n",
        "rfClassifier = RandomForestClassifier(labelCol = 'indexed', featuresCol = 'features')\n",
        "rfModel = rfClassifier.fit(trainingData)"
      ],
      "execution_count": 56,
      "outputs": []
    },
    {
      "cell_type": "code",
      "metadata": {
        "id": "sdV7naHzFoae",
        "colab_type": "code",
        "colab": {
          "base_uri": "https://localhost:8080/",
          "height": 454
        },
        "outputId": "a85e75d5-3e2b-4f99-a1e9-dcef5dfa87ce"
      },
      "source": [
        "# Predict on the test data\n",
        "predictions = rfModel.transform(testData)\n",
        "predictions.select('prediction', 'indexed', 'label', 'features').show()"
      ],
      "execution_count": 57,
      "outputs": [
        {
          "output_type": "stream",
          "text": [
            "+----------+-------+-----+--------------------+\n",
            "|prediction|indexed|label|            features|\n",
            "+----------+-------+-----+--------------------+\n",
            "|       0.0|    0.0|  0.0|[20.0,12.83333333...|\n",
            "|       0.0|    0.0|  0.0|[20.0,117.8333333...|\n",
            "|       0.0|    0.0|  0.0|[20.0,415.0,415.0...|\n",
            "|       0.0|    0.0|  0.0|[20.0,416.6666666...|\n",
            "|       0.0|    0.0|  0.0|[20.0,6924.0,6751...|\n",
            "|       0.0|    0.0|  0.0|[30.0,1596.666666...|\n",
            "|       0.0|    0.0|  0.0|[30.0,3709.333333...|\n",
            "|       0.0|    0.0|  0.0|[30.0,5737.166666...|\n",
            "|       0.0|    0.0|  0.0|[30.0,8030.666666...|\n",
            "|       0.0|    0.0|  0.0|[30.0,8769.0,6085...|\n",
            "|       0.0|    0.0|  0.0|[30.0,9349.5,1049...|\n",
            "|       0.0|    0.0|  0.0|[30.0,10652.0,855...|\n",
            "|       0.0|    0.0|  0.0|[30.0,12778.16666...|\n",
            "|       0.0|    0.0|  0.0|[30.0,14673.5,318...|\n",
            "|       0.0|    0.0|  0.0|[30.0,14870.0,941...|\n",
            "|       0.0|    0.0|  0.0|[30.0,15523.16666...|\n",
            "|       0.0|    0.0|  0.0|[30.0,16942.16666...|\n",
            "|       0.0|    0.0|  0.0|[30.0,17267.16666...|\n",
            "|       0.0|    0.0|  0.0|[30.0,18400.33333...|\n",
            "|       0.0|    0.0|  0.0|[30.0,20648.66666...|\n",
            "+----------+-------+-----+--------------------+\n",
            "only showing top 20 rows\n",
            "\n"
          ],
          "name": "stdout"
        }
      ]
    },
    {
      "cell_type": "code",
      "metadata": {
        "id": "GHkziWPZFxZ-",
        "colab_type": "code",
        "colab": {
          "base_uri": "https://localhost:8080/",
          "height": 34
        },
        "outputId": "b37bcbfe-9521-4771-930b-968e0264850d"
      },
      "source": [
        "print('Results of Random Forest: {}'.format(evaluator.evaluate(predictions)))\n"
      ],
      "execution_count": 58,
      "outputs": [
        {
          "output_type": "stream",
          "text": [
            "Results of Random Forest: 0.7398648648648649\n"
          ],
          "name": "stdout"
        }
      ]
    },
    {
      "cell_type": "code",
      "metadata": {
        "id": "-Nm3eP89Jzlu",
        "colab_type": "code",
        "colab": {
          "base_uri": "https://localhost:8080/",
          "height": 195
        },
        "outputId": "48b66fe1-b56d-4c87-904e-7ea74e0bf951"
      },
      "source": [
        "# Filter only columns needed for clustering\n",
        "ccClustDf = ccFinalDf.select('SEX', 'EDUCATION', 'MARRIAGE', 'AGE', 'CUSTID')\n",
        "\n",
        "# Do centering and scaling for the values\n",
        "summStats = ccClustDf.describe().toPandas()\n",
        "summStats"
      ],
      "execution_count": 59,
      "outputs": [
        {
          "output_type": "execute_result",
          "data": {
            "text/html": [
              "<div>\n",
              "<style scoped>\n",
              "    .dataframe tbody tr th:only-of-type {\n",
              "        vertical-align: middle;\n",
              "    }\n",
              "\n",
              "    .dataframe tbody tr th {\n",
              "        vertical-align: top;\n",
              "    }\n",
              "\n",
              "    .dataframe thead th {\n",
              "        text-align: right;\n",
              "    }\n",
              "</style>\n",
              "<table border=\"1\" class=\"dataframe\">\n",
              "  <thead>\n",
              "    <tr style=\"text-align: right;\">\n",
              "      <th></th>\n",
              "      <th>summary</th>\n",
              "      <th>SEX</th>\n",
              "      <th>EDUCATION</th>\n",
              "      <th>MARRIAGE</th>\n",
              "      <th>AGE</th>\n",
              "      <th>CUSTID</th>\n",
              "    </tr>\n",
              "  </thead>\n",
              "  <tbody>\n",
              "    <tr>\n",
              "      <th>0</th>\n",
              "      <td>count</td>\n",
              "      <td>1000</td>\n",
              "      <td>1000</td>\n",
              "      <td>1000</td>\n",
              "      <td>1000</td>\n",
              "      <td>1000</td>\n",
              "    </tr>\n",
              "    <tr>\n",
              "      <th>1</th>\n",
              "      <td>mean</td>\n",
              "      <td>1.591</td>\n",
              "      <td>1.769</td>\n",
              "      <td>1.608</td>\n",
              "      <td>34.9</td>\n",
              "      <td>500.5</td>\n",
              "    </tr>\n",
              "    <tr>\n",
              "      <th>2</th>\n",
              "      <td>stddev</td>\n",
              "      <td>0.49189527438364455</td>\n",
              "      <td>0.7212206036707212</td>\n",
              "      <td>0.5259397423779768</td>\n",
              "      <td>10.084229851192974</td>\n",
              "      <td>288.8194360957493</td>\n",
              "    </tr>\n",
              "    <tr>\n",
              "      <th>3</th>\n",
              "      <td>min</td>\n",
              "      <td>1.0</td>\n",
              "      <td>1.0</td>\n",
              "      <td>1.0</td>\n",
              "      <td>20</td>\n",
              "      <td>1</td>\n",
              "    </tr>\n",
              "    <tr>\n",
              "      <th>4</th>\n",
              "      <td>max</td>\n",
              "      <td>2.0</td>\n",
              "      <td>4.0</td>\n",
              "      <td>3.0</td>\n",
              "      <td>80</td>\n",
              "      <td>999</td>\n",
              "    </tr>\n",
              "  </tbody>\n",
              "</table>\n",
              "</div>"
            ],
            "text/plain": [
              "  summary                  SEX  ...                 AGE             CUSTID\n",
              "0   count                 1000  ...                1000               1000\n",
              "1    mean                1.591  ...                34.9              500.5\n",
              "2  stddev  0.49189527438364455  ...  10.084229851192974  288.8194360957493\n",
              "3     min                  1.0  ...                  20                  1\n",
              "4     max                  2.0  ...                  80                999\n",
              "\n",
              "[5 rows x 6 columns]"
            ]
          },
          "metadata": {
            "tags": []
          },
          "execution_count": 59
        }
      ]
    },
    {
      "cell_type": "code",
      "metadata": {
        "id": "p_7MU1g0J20w",
        "colab_type": "code",
        "colab": {}
      },
      "source": [
        "meanValues = summStats.iloc[1, 1:].values.tolist()\n",
        "stdValues = summStats.iloc[2, 1:].values.tolist()\n",
        "\n",
        "bcMeans = SpContext.broadcast(meanValues)\n",
        "bcStdDev = SpContext.broadcast(stdValues)"
      ],
      "execution_count": 60,
      "outputs": []
    },
    {
      "cell_type": "code",
      "metadata": {
        "id": "fBOnGmMQJ8qN",
        "colab_type": "code",
        "colab": {}
      },
      "source": [
        "def centerAndScale(inRow):\n",
        "    global bcMeans\n",
        "    global bcStdDev\n",
        "    \n",
        "    meanArray = bcMeans.value\n",
        "    stdArray = bcStdDev.value\n",
        "    \n",
        "    retArray = []\n",
        "    for i in range(len(meanArray)):\n",
        "        retArray.append((float(inRow[i]) - float(meanArray[i])) / float(stdArray[i]))\n",
        "    return Row(CUSTID = inRow[4], features = Vectors.dense(retArray))"
      ],
      "execution_count": 61,
      "outputs": []
    },
    {
      "cell_type": "code",
      "metadata": {
        "id": "dfiSfE5SKAYh",
        "colab_type": "code",
        "colab": {
          "base_uri": "https://localhost:8080/",
          "height": 101
        },
        "outputId": "3ca102fb-0f37-4943-8714-961314395b81"
      },
      "source": [
        "ccMap = ccClustDf.rdd.map(centerAndScale)\n",
        "ccMap.take(5)"
      ],
      "execution_count": 62,
      "outputs": [
        {
          "output_type": "execute_result",
          "data": {
            "text/plain": [
              "[Row(CUSTID='103', features=DenseVector([-1.2015, -1.0662, -1.156, 2.489, -1.3763])),\n",
              " Row(CUSTID='932', features=DenseVector([-1.2015, -1.0662, -1.156, 2.489, 1.494])),\n",
              " Row(CUSTID='466', features=DenseVector([-1.2015, -1.0662, -1.156, 2.489, -0.1195])),\n",
              " Row(CUSTID='35', features=DenseVector([-1.2015, -1.0662, -1.156, 2.489, -1.6117])),\n",
              " Row(CUSTID='66', features=DenseVector([-1.2015, -1.0662, -1.156, 2.489, -1.5044]))]"
            ]
          },
          "metadata": {
            "tags": []
          },
          "execution_count": 62
        }
      ]
    },
    {
      "cell_type": "code",
      "metadata": {
        "id": "sboauTCFKC-K",
        "colab_type": "code",
        "colab": {
          "base_uri": "https://localhost:8080/",
          "height": 286
        },
        "outputId": "4bdad20a-8d61-44e2-b7b0-f6ce5ffc0f9f"
      },
      "source": [
        "# Create a data frame with the features\n",
        "ccFinalClustDf = SpSession.createDataFrame(ccMap)\n",
        "ccFinalClustDf.cache()\n",
        "ccFinalClustDf.show(10, truncate = False)"
      ],
      "execution_count": 63,
      "outputs": [
        {
          "output_type": "stream",
          "text": [
            "+------+---------------------------------------------------------------------------------------------------+\n",
            "|CUSTID|features                                                                                           |\n",
            "+------+---------------------------------------------------------------------------------------------------+\n",
            "|103   |[-1.2014752545458702,-1.0662479636412228,-1.156025968395157,2.489034896108665,-1.376292417758966]  |\n",
            "|932   |[-1.2014752545458702,-1.0662479636412228,-1.156025968395157,2.489034896108665,1.494013027076714]   |\n",
            "|466   |[-1.2014752545458702,-1.0662479636412228,-1.156025968395157,2.489034896108665,-0.11945179474889138]|\n",
            "|35    |[-1.2014752545458702,-1.0662479636412228,-1.156025968395157,2.489034896108665,-1.611733636394462]  |\n",
            "|66    |[-1.2014752545458702,-1.0662479636412228,-1.156025968395157,2.489034896108665,-1.504400139663574]  |\n",
            "|553   |[-1.2014752545458702,-1.0662479636412228,-1.156025968395157,2.489034896108665,0.1817744702700521]  |\n",
            "|603   |[-1.2014752545458702,-1.0662479636412228,-1.156025968395157,1.4973875271410693,0.35489301338438745]|\n",
            "|576   |[-1.2014752545458702,-1.0662479636412228,-1.156025968395157,1.4973875271410693,0.26140900010264634]|\n",
            "|452   |[-1.2014752545458702,-1.0662479636412228,-1.156025968395157,1.4973875271410693,-0.1679249868209053]|\n",
            "|91    |[-1.2014752545458702,-1.0662479636412228,-1.156025968395157,1.4973875271410693,-1.4178408681064065]|\n",
            "+------+---------------------------------------------------------------------------------------------------+\n",
            "only showing top 10 rows\n",
            "\n"
          ],
          "name": "stdout"
        }
      ]
    },
    {
      "cell_type": "code",
      "metadata": {
        "id": "0S8wI0AvKGFG",
        "colab_type": "code",
        "colab": {}
      },
      "source": [
        "# Perform clustering\n",
        "from pyspark.ml.clustering import KMeans\n",
        "kmeans = KMeans(k = 4, seed = 1)\n",
        "model = kmeans.fit(ccFinalClustDf)"
      ],
      "execution_count": 64,
      "outputs": []
    },
    {
      "cell_type": "code",
      "metadata": {
        "id": "zNOgstDzKI-A",
        "colab_type": "code",
        "colab": {
          "base_uri": "https://localhost:8080/",
          "height": 454
        },
        "outputId": "a89e139b-6e88-4206-e21b-47dc26f049ce"
      },
      "source": [
        "predictions = model.transform(ccFinalClustDf)\n",
        "predictions.select('*').show()"
      ],
      "execution_count": 65,
      "outputs": [
        {
          "output_type": "stream",
          "text": [
            "+------+--------------------+----------+\n",
            "|CUSTID|            features|prediction|\n",
            "+------+--------------------+----------+\n",
            "|   103|[-1.2014752545458...|         1|\n",
            "|   932|[-1.2014752545458...|         2|\n",
            "|   466|[-1.2014752545458...|         1|\n",
            "|    35|[-1.2014752545458...|         1|\n",
            "|    66|[-1.2014752545458...|         1|\n",
            "|   553|[-1.2014752545458...|         1|\n",
            "|   603|[-1.2014752545458...|         2|\n",
            "|   576|[-1.2014752545458...|         2|\n",
            "|   452|[-1.2014752545458...|         2|\n",
            "|    91|[-1.2014752545458...|         1|\n",
            "|   406|[-1.2014752545458...|         2|\n",
            "|   451|[-1.2014752545458...|         2|\n",
            "|   395|[-1.2014752545458...|         2|\n",
            "|    18|[-1.2014752545458...|         1|\n",
            "|   917|[-1.2014752545458...|         2|\n",
            "|   260|[-1.2014752545458...|         1|\n",
            "|   724|[-1.2014752545458...|         2|\n",
            "|   686|[-1.2014752545458...|         2|\n",
            "|   207|[-1.2014752545458...|         1|\n",
            "|   627|[-1.2014752545458...|         2|\n",
            "+------+--------------------+----------+\n",
            "only showing top 20 rows\n",
            "\n"
          ],
          "name": "stdout"
        }
      ]
    }
  ]
}