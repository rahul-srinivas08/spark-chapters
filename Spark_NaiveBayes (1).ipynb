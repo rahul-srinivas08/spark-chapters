{
  "nbformat": 4,
  "nbformat_minor": 0,
  "metadata": {
    "colab": {
      "name": "Spark NaiveBayes.ipynb",
      "provenance": []
    },
    "kernelspec": {
      "name": "python3",
      "display_name": "Python 3"
    }
  },
  "cells": [
    {
      "cell_type": "code",
      "metadata": {
        "id": "4dSPVYiXDMup",
        "colab_type": "code",
        "colab": {
          "base_uri": "https://localhost:8080/",
          "height": 255
        },
        "outputId": "57deaacf-9f4b-40ed-9e28-6a62343fbbe0"
      },
      "source": [
        "!pip install pyspark"
      ],
      "execution_count": 2,
      "outputs": [
        {
          "output_type": "stream",
          "text": [
            "Collecting pyspark\n",
            "\u001b[?25l  Downloading https://files.pythonhosted.org/packages/8e/b0/bf9020b56492281b9c9d8aae8f44ff51e1bc91b3ef5a884385cb4e389a40/pyspark-3.0.0.tar.gz (204.7MB)\n",
            "\u001b[K     |████████████████████████████████| 204.7MB 66kB/s \n",
            "\u001b[?25hCollecting py4j==0.10.9\n",
            "\u001b[?25l  Downloading https://files.pythonhosted.org/packages/9e/b6/6a4fb90cd235dc8e265a6a2067f2a2c99f0d91787f06aca4bcf7c23f3f80/py4j-0.10.9-py2.py3-none-any.whl (198kB)\n",
            "\u001b[K     |████████████████████████████████| 204kB 19.9MB/s \n",
            "\u001b[?25hBuilding wheels for collected packages: pyspark\n",
            "  Building wheel for pyspark (setup.py) ... \u001b[?25l\u001b[?25hdone\n",
            "  Created wheel for pyspark: filename=pyspark-3.0.0-py2.py3-none-any.whl size=205044182 sha256=2dc319bad8ba62c99f61e7488d00a41a8c4ceae159067e2c865b4429035559a0\n",
            "  Stored in directory: /root/.cache/pip/wheels/57/27/4d/ddacf7143f8d5b76c45c61ee2e43d9f8492fc5a8e78ebd7d37\n",
            "Successfully built pyspark\n",
            "Installing collected packages: py4j, pyspark\n",
            "Successfully installed py4j-0.10.9 pyspark-3.0.0\n"
          ],
          "name": "stdout"
        }
      ]
    },
    {
      "cell_type": "code",
      "metadata": {
        "id": "Mo35Y6V5GI5p",
        "colab_type": "code",
        "colab": {}
      },
      "source": [
        ""
      ],
      "execution_count": null,
      "outputs": []
    },
    {
      "cell_type": "code",
      "metadata": {
        "id": "9AG7HgIPS3w1",
        "colab_type": "code",
        "colab": {}
      },
      "source": [
        ""
      ],
      "execution_count": null,
      "outputs": []
    },
    {
      "cell_type": "code",
      "metadata": {
        "id": "-RoFH6QNGcRs",
        "colab_type": "code",
        "colab": {}
      },
      "source": [
        "#Initialize SparkSession and SparkContext\n",
        "from pyspark.sql import SparkSession\n",
        "from pyspark import SparkContext"
      ],
      "execution_count": 3,
      "outputs": []
    },
    {
      "cell_type": "code",
      "metadata": {
        "id": "2B2rfu7sG9eh",
        "colab_type": "code",
        "colab": {}
      },
      "source": [
        "#Create a Spark Session\n",
        "SpSession = SparkSession.builder.master(\"local[*]\").getOrCreate()"
      ],
      "execution_count": 4,
      "outputs": []
    },
    {
      "cell_type": "code",
      "metadata": {
        "id": "f1_30ZR3Ha47",
        "colab_type": "code",
        "colab": {}
      },
      "source": [
        "#Get the Spark Context from Spark Session    \n",
        "SpContext = SpSession.sparkContext"
      ],
      "execution_count": 5,
      "outputs": []
    },
    {
      "cell_type": "code",
      "metadata": {
        "id": "-7xZTfYOm95z",
        "colab_type": "code",
        "colab": {
          "base_uri": "https://localhost:8080/",
          "height": 34
        },
        "outputId": "d0f76a22-2aac-422e-fc9f-70b8636ae239"
      },
      "source": [
        "#Load the CSV file into a RDD\n",
        "autoData = SpContext.textFile(\"/content/drive/My Drive/auto-data.csv\")\n",
        "autoData.cache()\n",
        "\n",
        "#Remove the first line (contains headers)\n",
        "firstLine = autoData.first()\n",
        "dataLines = autoData.filter(lambda x: x != firstLine)\n",
        "dataLines.count()\n"
      ],
      "execution_count": 15,
      "outputs": [
        {
          "output_type": "execute_result",
          "data": {
            "text/plain": [
              "197"
            ]
          },
          "metadata": {
            "tags": []
          },
          "execution_count": 15
        }
      ]
    },
    {
      "cell_type": "code",
      "metadata": {
        "id": "lSk_VLccpVt6",
        "colab_type": "code",
        "colab": {
          "base_uri": "https://localhost:8080/",
          "height": 454
        },
        "outputId": "766da6b0-4176-4969-c96d-549d2076198d"
      },
      "source": [
        "from pyspark.sql import Row\n",
        "\n",
        "import math\n",
        "from pyspark.ml.linalg import Vectors\n",
        "\n",
        "#Convert to Local Vector.\n",
        "def transformToNumeric( inputStr) :\n",
        "    attList=inputStr.split(\",\")\n",
        "\n",
        "    doors = 1.0 if attList[3] ==\"two\" else 2.0\n",
        "    body = 1.0 if attList[4] == \"sedan\" else 2.0 \n",
        "       \n",
        "    #Filter out columns not wanted at this stage\n",
        "    values= Row(DOORS= doors, \\\n",
        "                     BODY=float(body),  \\\n",
        "                     HP=float(attList[7]),  \\\n",
        "                     RPM=float(attList[8]),  \\\n",
        "                     MPG=float(attList[9])  \\\n",
        "                     )\n",
        "    return values\n",
        "\n",
        "autoMap = dataLines.map(transformToNumeric)\n",
        "autoMap.persist()\n",
        "autoMap.collect()\n",
        "\n",
        "autoDf = SpSession.createDataFrame(autoMap)\n",
        "autoDf.show()\n"
      ],
      "execution_count": 16,
      "outputs": [
        {
          "output_type": "stream",
          "text": [
            "+-----+----+----+------+----+\n",
            "|DOORS|BODY|  HP|   RPM| MPG|\n",
            "+-----+----+----+------+----+\n",
            "|  1.0| 2.0|69.0|4900.0|31.0|\n",
            "|  1.0| 2.0|48.0|5100.0|47.0|\n",
            "|  1.0| 2.0|68.0|5000.0|30.0|\n",
            "|  1.0| 2.0|62.0|4800.0|35.0|\n",
            "|  1.0| 2.0|68.0|5500.0|37.0|\n",
            "|  1.0| 2.0|60.0|5500.0|38.0|\n",
            "|  1.0| 1.0|69.0|5200.0|31.0|\n",
            "|  1.0| 2.0|68.0|5500.0|37.0|\n",
            "|  1.0| 2.0|68.0|5500.0|37.0|\n",
            "|  1.0| 2.0|68.0|5000.0|31.0|\n",
            "|  1.0| 2.0|68.0|5500.0|31.0|\n",
            "|  2.0| 2.0|68.0|5500.0|31.0|\n",
            "|  2.0| 2.0|68.0|5500.0|31.0|\n",
            "|  1.0| 2.0|70.0|5400.0|38.0|\n",
            "|  1.0| 2.0|62.0|4800.0|31.0|\n",
            "|  1.0| 2.0|68.0|5500.0|31.0|\n",
            "|  1.0| 2.0|58.0|4800.0|49.0|\n",
            "|  2.0| 2.0|62.0|4800.0|31.0|\n",
            "|  1.0| 2.0|76.0|6000.0|30.0|\n",
            "|  2.0| 1.0|70.0|5400.0|38.0|\n",
            "+-----+----+----+------+----+\n",
            "only showing top 20 rows\n",
            "\n"
          ],
          "name": "stdout"
        }
      ]
    },
    {
      "cell_type": "code",
      "metadata": {
        "id": "lD67wjhWp2ud",
        "colab_type": "code",
        "colab": {
          "base_uri": "https://localhost:8080/",
          "height": 286
        },
        "outputId": "958c180a-ab83-4938-9910-bdbc3dd27559"
      },
      "source": [
        "#Centering and scaling. To perform this every value should be subtracted\n",
        "#from that column's mean and divided by its Std. Deviation.\n",
        "\n",
        "summStats=autoDf.describe().toPandas()\n",
        "meanValues=summStats.iloc[1,1:5].values.tolist()\n",
        "stdValues=summStats.iloc[2,1:5].values.tolist()\n",
        "\n",
        "#place the means and std.dev values in a broadcast variable\n",
        "bcMeans=SpContext.broadcast(meanValues)\n",
        "bcStdDev=SpContext.broadcast(stdValues)\n",
        "\n",
        "def centerAndScale(inRow) :\n",
        "    global bcMeans\n",
        "    global bcStdDev\n",
        "    \n",
        "    meanArray=bcMeans.value\n",
        "    stdArray=bcStdDev.value\n",
        "\n",
        "    retArray=[]\n",
        "    for i in range(len(meanArray)):\n",
        "        retArray.append( (float(inRow[i]) - float(meanArray[i])) /\\\n",
        "            float(stdArray[i]) )\n",
        "    return Vectors.dense(retArray)\n",
        "    \n",
        "csAuto = autoDf.rdd.map(centerAndScale)\n",
        "csAuto.collect()\n",
        "\n",
        "#Create a Spark Data Frame\n",
        "autoRows=csAuto.map( lambda f:Row(features=f))\n",
        "autoDf = SpSession.createDataFrame(autoRows)\n",
        "\n",
        "autoDf.select(\"features\").show(10)\n"
      ],
      "execution_count": 17,
      "outputs": [
        {
          "output_type": "stream",
          "text": [
            "+--------------------+\n",
            "|            features|\n",
            "+--------------------+\n",
            "|[-1.1449709581789...|\n",
            "|[-1.1449709581789...|\n",
            "|[-1.1449709581789...|\n",
            "|[-1.1449709581789...|\n",
            "|[-1.1449709581789...|\n",
            "|[-1.1449709581789...|\n",
            "|[-1.1449709581789...|\n",
            "|[-1.1449709581789...|\n",
            "|[-1.1449709581789...|\n",
            "|[-1.1449709581789...|\n",
            "+--------------------+\n",
            "only showing top 10 rows\n",
            "\n"
          ],
          "name": "stdout"
        }
      ]
    },
    {
      "cell_type": "code",
      "metadata": {
        "id": "sd3e8Xkfp3hl",
        "colab_type": "code",
        "colab": {
          "base_uri": "https://localhost:8080/",
          "height": 718
        },
        "outputId": "e32ffcef-bc9c-4bc7-9209-2289fdfad786"
      },
      "source": [
        "from pyspark.ml.clustering import KMeans\n",
        "kmeans = KMeans(k=3, seed=1)\n",
        "model = kmeans.fit(autoDf)\n",
        "predictions = model.transform(autoDf)\n",
        "predictions.show()\n",
        "\n",
        "#Plot the results in a scatter plot\n",
        "import pandas as pd\n",
        "\n",
        "def unstripData(instr) :\n",
        "    return ( instr[\"prediction\"], instr[\"features\"][0], \\\n",
        "        instr[\"features\"][1],instr[\"features\"][2],instr[\"features\"][3])\n",
        "    \n",
        "unstripped=predictions.rdd.map(unstripData)\n",
        "predList=unstripped.collect()\n",
        "predPd = pd.DataFrame(predList)\n",
        "\n",
        "import matplotlib.pylab as plt\n",
        "plt.cla()\n",
        "plt.scatter(predPd[3],predPd[4], c=predPd[0])"
      ],
      "execution_count": 18,
      "outputs": [
        {
          "output_type": "stream",
          "text": [
            "+--------------------+----------+\n",
            "|            features|prediction|\n",
            "+--------------------+----------+\n",
            "|[-1.1449709581789...|         0|\n",
            "|[-1.1449709581789...|         0|\n",
            "|[-1.1449709581789...|         0|\n",
            "|[-1.1449709581789...|         0|\n",
            "|[-1.1449709581789...|         0|\n",
            "|[-1.1449709581789...|         0|\n",
            "|[-1.1449709581789...|         0|\n",
            "|[-1.1449709581789...|         0|\n",
            "|[-1.1449709581789...|         0|\n",
            "|[-1.1449709581789...|         0|\n",
            "|[-1.1449709581789...|         0|\n",
            "|[0.86895117361793...|         0|\n",
            "|[0.86895117361793...|         0|\n",
            "|[-1.1449709581789...|         0|\n",
            "|[-1.1449709581789...|         0|\n",
            "|[-1.1449709581789...|         0|\n",
            "|[-1.1449709581789...|         0|\n",
            "|[0.86895117361793...|         0|\n",
            "|[-1.1449709581789...|         0|\n",
            "|[0.86895117361793...|         1|\n",
            "+--------------------+----------+\n",
            "only showing top 20 rows\n",
            "\n"
          ],
          "name": "stdout"
        },
        {
          "output_type": "execute_result",
          "data": {
            "text/plain": [
              "<matplotlib.collections.PathCollection at 0x7f09d9bc1d68>"
            ]
          },
          "metadata": {
            "tags": []
          },
          "execution_count": 18
        },
        {
          "output_type": "display_data",
          "data": {
            "image/png": "[encoded data removed]",
            "text/plain": [
              "<Figure size 432x288 with 1 Axes>"
            ]
          },
          "metadata": {
            "tags": [],
            "needs_background": "light"
          }
        }
      ]
    },
    {
      "cell_type": "code",
      "metadata": {
        "id": "AYdGPAm-p82H",
        "colab_type": "code",
        "colab": {}
      },
      "source": [
        ""
      ],
      "execution_count": null,
      "outputs": []
    }
  ]
}